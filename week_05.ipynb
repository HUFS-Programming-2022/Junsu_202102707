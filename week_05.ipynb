{
  "nbformat": 4,
  "nbformat_minor": 0,
  "metadata": {
    "colab": {
      "name": "week_05.ipynb",
      "provenance": [],
      "collapsed_sections": [],
      "authorship_tag": "ABX9TyMEXPzYRlQ4b6jShFvsYC+j",
      "include_colab_link": true
    },
    "kernelspec": {
      "name": "python3",
      "display_name": "Python 3"
    },
    "language_info": {
      "name": "python"
    }
  },
  "cells": [
    {
      "cell_type": "markdown",
      "metadata": {
        "id": "view-in-github",
        "colab_type": "text"
      },
      "source": [
        "<a href=\"https://colab.research.google.com/github/HUFS-Programming-2022/Junsu_202102707/blob/main/week_05.ipynb\" target=\"_parent\"><img src=\"https://colab.research.google.com/assets/colab-badge.svg\" alt=\"Open In Colab\"/></a>"
      ]
    },
    {
      "cell_type": "markdown",
      "source": [
        "### 반복문\n",
        "- while, for loop\n",
        "\n",
        "####while loop\n",
        "- 어떤 조건이 만족하는 동안 명령 블록을 수행한다.\n",
        "- if + for loop\n",
        "- 해당 조건이 거짓이면 멈춘다 => 언제 멈추는지 그 시점을 정확히 파악해야 함."
      ],
      "metadata": {
        "id": "iRwgWe_LM2PE"
      }
    },
    {
      "cell_type": "code",
      "source": [
        "for i in range(3):\n",
        "  print(i)"
      ],
      "metadata": {
        "colab": {
          "base_uri": "https://localhost:8080/"
        },
        "id": "-XR5binLNOgh",
        "outputId": "2c8f1d5d-4532-42a2-93d1-d7879c115ed9"
      },
      "execution_count": 1,
      "outputs": [
        {
          "output_type": "stream",
          "name": "stdout",
          "text": [
            "0\n",
            "1\n",
            "2\n"
          ]
        }
      ]
    },
    {
      "cell_type": "code",
      "execution_count": 2,
      "metadata": {
        "colab": {
          "base_uri": "https://localhost:8080/"
        },
        "id": "E5pQ_a3SM1IM",
        "outputId": "bad07cbc-efc5-44f5-8f46-ab8c3028807a"
      },
      "outputs": [
        {
          "output_type": "stream",
          "name": "stdout",
          "text": [
            "0\n",
            "1\n",
            "2\n"
          ]
        }
      ],
      "source": [
        "j = 0 #초기화 블럭\n",
        "while j < 3:    #0, 1, 2, False\n",
        "  print(j)       #0, 1, 2\n",
        "  j += 1 #변화 블럭 1, 2, 3"
      ]
    },
    {
      "cell_type": "code",
      "source": [
        "j = 0\n",
        "while j < 3: \n",
        "  j += 1\n",
        "  print(j)   #위의 코드와 순서가 달라져 결과도 달라짐"
      ],
      "metadata": {
        "colab": {
          "base_uri": "https://localhost:8080/"
        },
        "id": "h7qsj3ooN74L",
        "outputId": "8fb8b25a-1ffd-47c7-f167-8fa997ce7350"
      },
      "execution_count": 4,
      "outputs": [
        {
          "output_type": "stream",
          "name": "stdout",
          "text": [
            "1\n",
            "2\n",
            "3\n"
          ]
        }
      ]
    },
    {
      "cell_type": "markdown",
      "source": [
        "####for vs. while\n",
        "- for: 반복 횟수가 정해짐, 정확함. 변하지 않음\n",
        "  - 예: 성적 산출\n",
        "- while: 횟수 정해지지 않음. (중요하지 않다.) 어떤 조건을 만족시킬 때 빠져나오게 하는 게 중요할 때 사용\n",
        "  - 예: 가위바위보"
      ],
      "metadata": {
        "id": "fBJcNBrbnZx9"
      }
    },
    {
      "cell_type": "code",
      "source": [
        "#for loop을 while로 바꾸기\n",
        "abcd = ['a', 'b', 'c', 'd']\n",
        "i = 0\n",
        "while i < len(abcd):\n",
        "  print(abcd[i])\n",
        "  i += 1"
      ],
      "metadata": {
        "colab": {
          "base_uri": "https://localhost:8080/"
        },
        "id": "ah_MUZMSNiFw",
        "outputId": "df2589f6-7b83-4757-90a9-3ab717016e2e"
      },
      "execution_count": 3,
      "outputs": [
        {
          "output_type": "stream",
          "name": "stdout",
          "text": [
            "a\n",
            "b\n",
            "c\n",
            "d\n"
          ]
        }
      ]
    },
    {
      "cell_type": "markdown",
      "source": [
        "### 반복문 제어\n",
        "- 되도록 사용하지 않는다. (의도치 않은 오류 때문)\n",
        "- break: 논리적으로 반복을 종료시킬 때\n",
        "- else: 어떤 조건이 완전히 끝났을 때 한번 더 실행함. break시에 실행 안 됨. => 어느 지점에서 종료되었는지 확인할 때\n",
        "- continue: 특정 조건을 건너뛰고 다음 조건 실행"
      ],
      "metadata": {
        "id": "6hj7_qXUPiCD"
      }
    },
    {
      "cell_type": "markdown",
      "source": [
        "### 구구단\n",
        "변수는 입력을 받아서 사용함\n",
        "- 1. n단 출력\n",
        "- 2. 1~n단까지 출력\n",
        "  - n이 10보다 큰 경우 대비\n",
        "- 3. n, m 모두 입력 받아서 출력\n",
        "  - n > m여야 함\n",
        "- 4. 프로그램으로 만듦\n",
        "  - 메뉴: 1) n, 2) 1-n, 3) n-m단\n",
        "  - 메뉴에 없는 옵션 선택할 때 대비\n",
        "- print format 사용할 것\n"
      ],
      "metadata": {
        "id": "vDYmG7u6Rgw3"
      }
    },
    {
      "cell_type": "code",
      "source": [
        "n = int(input('끝나는 단(10 이하)을 입력하세요: '))\n",
        "m = int(input('시작하는 단을 입력하세요: '))\n",
        "\n",
        "print(f'1단부터 {n}단 까지의 구구단입니다')\n",
        "for j in range(n):\n",
        "  print(f'\\n{j + 1}단')\n",
        "  for i in range(9):\n",
        "    print(f'{j + 1}x{i + 1}={(j + 1) * (i + 1)}')\n",
        "\n",
        "print(f'\\n{m}단부터 {n}단 까지의 구구단입니다')\n",
        "for j in range(m, n+1):\n",
        "  print(f'\\n{j}단')\n",
        "  for i in range(9):\n",
        "    print(f'{j}x{i + 1}={(j) * (i + 1)}')"
      ],
      "metadata": {
        "id": "wkbuNdj7ROE6",
        "colab": {
          "base_uri": "https://localhost:8080/"
        },
        "outputId": "efe84300-e575-46d7-a37d-23f56180733a"
      },
      "execution_count": 6,
      "outputs": [
        {
          "output_type": "stream",
          "name": "stdout",
          "text": [
            "끝나는 단(10 이하)을 입력하세요: 3\n",
            "시작하는 단을 입력하세요: 2\n",
            "1단부터 3단 까지의 구구단입니다\n",
            "\n",
            "1단\n",
            "1x1=1\n",
            "1x2=2\n",
            "1x3=3\n",
            "1x4=4\n",
            "1x5=5\n",
            "1x6=6\n",
            "1x7=7\n",
            "1x8=8\n",
            "1x9=9\n",
            "\n",
            "2단\n",
            "2x1=2\n",
            "2x2=4\n",
            "2x3=6\n",
            "2x4=8\n",
            "2x5=10\n",
            "2x6=12\n",
            "2x7=14\n",
            "2x8=16\n",
            "2x9=18\n",
            "\n",
            "3단\n",
            "3x1=3\n",
            "3x2=6\n",
            "3x3=9\n",
            "3x4=12\n",
            "3x5=15\n",
            "3x6=18\n",
            "3x7=21\n",
            "3x8=24\n",
            "3x9=27\n",
            "\n",
            "2단부터 3단 까지의 구구단입니다\n",
            "\n",
            "2단\n",
            "2x1=2\n",
            "2x2=4\n",
            "2x3=6\n",
            "2x4=8\n",
            "2x5=10\n",
            "2x6=12\n",
            "2x7=14\n",
            "2x8=16\n",
            "2x9=18\n",
            "\n",
            "3단\n",
            "3x1=3\n",
            "3x2=6\n",
            "3x3=9\n",
            "3x4=12\n",
            "3x5=15\n",
            "3x6=18\n",
            "3x7=21\n",
            "3x8=24\n",
            "3x9=27\n"
          ]
        }
      ]
    },
    {
      "cell_type": "code",
      "source": [
        "while True:\n",
        "  print('<구구단 프로그램>')\n",
        "  n = int(input('끝나는 단(9 이하)을 입력하세요: '))\n",
        "  m = int(input('시작하는 단(1 이상)을 입력하세요: '))\n",
        "\n",
        "  if n > 9:\n",
        "    print('끝나는 단은 9 이하의 수를 입력하세요')\n",
        "    continue\n",
        "  if m < 1:\n",
        "    print('시작하는 단은 1 이상의 수를 입력해야 합니다')\n",
        "    continue\n",
        "  if m > n:\n",
        "    print('시작하는 단은 끝나는 단보다 작은 수를 입력해야 합니다')\n",
        "    continue\n",
        "\n",
        "  print(f'\\n{m}단부터 {n}단 까지의 구구단입니다')\n",
        "  for j in range(m, n+1):\n",
        "    print(f'\\n{j}단')\n",
        "    for i in range(9):\n",
        "      print(f'{j}x{i + 1}={(j) * (i + 1)}')\n",
        "\n",
        "  print('\\n구구단이 끝났습니다.')\n",
        "  break"
      ],
      "metadata": {
        "colab": {
          "base_uri": "https://localhost:8080/"
        },
        "id": "Ux1M18g3RO1q",
        "outputId": "13b97758-46ee-47ff-8d9e-c94797c46b8f"
      },
      "execution_count": 8,
      "outputs": [
        {
          "output_type": "stream",
          "name": "stdout",
          "text": [
            "<구구단 프로그램>\n",
            "끝나는 단(9 이하)을 입력하세요: 5\n",
            "시작하는 단(1 이상)을 입력하세요: 4\n",
            "\n",
            "4단부터 5단 까지의 구구단입니다\n",
            "\n",
            "4단\n",
            "4x1=4\n",
            "4x2=8\n",
            "4x3=12\n",
            "4x4=16\n",
            "4x5=20\n",
            "4x6=24\n",
            "4x7=28\n",
            "4x8=32\n",
            "4x9=36\n",
            "\n",
            "5단\n",
            "5x1=5\n",
            "5x2=10\n",
            "5x3=15\n",
            "5x4=20\n",
            "5x5=25\n",
            "5x6=30\n",
            "5x7=35\n",
            "5x8=40\n",
            "5x9=45\n",
            "\n",
            "구구단이 끝났습니다.\n"
          ]
        }
      ]
    },
    {
      "cell_type": "markdown",
      "source": [
        "####NLTK book"
      ],
      "metadata": {
        "id": "EXKEpq_mcu_T"
      }
    },
    {
      "cell_type": "code",
      "source": [
        "import nltk\n",
        "nltk.download('book', quiet = True)\n",
        "from nltk import book"
      ],
      "metadata": {
        "colab": {
          "base_uri": "https://localhost:8080/"
        },
        "id": "ZZyHIclKb7VH",
        "outputId": "8eb542e4-26c3-46c3-d72d-ae04af701b08"
      },
      "execution_count": 9,
      "outputs": [
        {
          "output_type": "stream",
          "name": "stdout",
          "text": [
            "*** Introductory Examples for the NLTK Book ***\n",
            "Loading text1, ..., text9 and sent1, ..., sent9\n",
            "Type the name of the text or sentence to view it.\n",
            "Type: 'texts()' or 'sents()' to list the materials.\n",
            "text1: Moby Dick by Herman Melville 1851\n",
            "text2: Sense and Sensibility by Jane Austen 1811\n",
            "text3: The Book of Genesis\n",
            "text4: Inaugural Address Corpus\n",
            "text5: Chat Corpus\n",
            "text6: Monty Python and the Holy Grail\n",
            "text7: Wall Street Journal\n",
            "text8: Personals Corpus\n",
            "text9: The Man Who Was Thursday by G . K . Chesterton 1908\n"
          ]
        }
      ]
    },
    {
      "cell_type": "code",
      "source": [
        "#text1-9 (하드코딩 안하는법)\n",
        "#text1 vs. 'text1'\n",
        "#getattr(library, 'string_name')\n",
        "texts = [getattr(nltk.book, f'text{i}') for i in range(1, 10)]\n",
        "texts"
      ],
      "metadata": {
        "colab": {
          "base_uri": "https://localhost:8080/"
        },
        "id": "nJUsM6WVq_ts",
        "outputId": "ce6fca69-f1af-4f72-b87d-95b1f94abdc4"
      },
      "execution_count": 10,
      "outputs": [
        {
          "output_type": "execute_result",
          "data": {
            "text/plain": [
              "[<Text: Moby Dick by Herman Melville 1851>,\n",
              " <Text: Sense and Sensibility by Jane Austen 1811>,\n",
              " <Text: The Book of Genesis>,\n",
              " <Text: Inaugural Address Corpus>,\n",
              " <Text: Chat Corpus>,\n",
              " <Text: Monty Python and the Holy Grail>,\n",
              " <Text: Wall Street Journal>,\n",
              " <Text: Personals Corpus>,\n",
              " <Text: The Man Who Was Thursday by G . K . Chesterton 1908>]"
            ]
          },
          "metadata": {},
          "execution_count": 10
        }
      ]
    },
    {
      "cell_type": "markdown",
      "source": [
        "### NLTK corpus\n",
        "- 코퍼스 + 테마\n",
        "- 종류\n",
        "  - brown\n",
        "  - gutenberg\n",
        "  - inaugural\n",
        "- methods\n",
        "  - words(): 글자수\n",
        "  - sents(): 문장 수\n",
        "  - raw(): 모든 것을 str로 변환\n",
        "  - fileids()"
      ],
      "metadata": {
        "id": "Yz79tiVScWxp"
      }
    },
    {
      "cell_type": "code",
      "source": [
        "from nltk.corpus import gutenberg #임포트\n",
        "# gutenberg = nltk.corpus.gutenberg   이렇게 임포트 해도 됨\n",
        "nltk.download(['brown', 'gutenberg', 'inaugural'], quiet =True)"
      ],
      "metadata": {
        "colab": {
          "base_uri": "https://localhost:8080/"
        },
        "id": "vBAsntJEc_bC",
        "outputId": "3b4d3f55-5fae-4c48-f391-f37ea9fea080"
      },
      "execution_count": 11,
      "outputs": [
        {
          "output_type": "execute_result",
          "data": {
            "text/plain": [
              "True"
            ]
          },
          "metadata": {},
          "execution_count": 11
        }
      ]
    },
    {
      "cell_type": "code",
      "source": [
        "gutenberg.fileids()"
      ],
      "metadata": {
        "colab": {
          "base_uri": "https://localhost:8080/"
        },
        "id": "YZaqYvW6fWOw",
        "outputId": "04cea489-c6c3-435a-8065-19ab78b9c699"
      },
      "execution_count": 12,
      "outputs": [
        {
          "output_type": "execute_result",
          "data": {
            "text/plain": [
              "['austen-emma.txt',\n",
              " 'austen-persuasion.txt',\n",
              " 'austen-sense.txt',\n",
              " 'bible-kjv.txt',\n",
              " 'blake-poems.txt',\n",
              " 'bryant-stories.txt',\n",
              " 'burgess-busterbrown.txt',\n",
              " 'carroll-alice.txt',\n",
              " 'chesterton-ball.txt',\n",
              " 'chesterton-brown.txt',\n",
              " 'chesterton-thursday.txt',\n",
              " 'edgeworth-parents.txt',\n",
              " 'melville-moby_dick.txt',\n",
              " 'milton-paradise.txt',\n",
              " 'shakespeare-caesar.txt',\n",
              " 'shakespeare-hamlet.txt',\n",
              " 'shakespeare-macbeth.txt',\n",
              " 'whitman-leaves.txt']"
            ]
          },
          "metadata": {},
          "execution_count": 12
        }
      ]
    },
    {
      "cell_type": "code",
      "source": [
        "gutenberg.words(fileids = ['carroll-alice.txt', 'austen-emma.txt'])"
      ],
      "metadata": {
        "colab": {
          "base_uri": "https://localhost:8080/"
        },
        "id": "04db6FlCdOVK",
        "outputId": "366a5d73-52d7-4f22-8611-6f83f0667cb2"
      },
      "execution_count": null,
      "outputs": [
        {
          "output_type": "execute_result",
          "data": {
            "text/plain": [
              "['[', 'Alice', \"'\", 's', 'Adventures', 'in', ...]"
            ]
          },
          "metadata": {},
          "execution_count": 36
        }
      ]
    },
    {
      "cell_type": "code",
      "source": [
        "# 각 파일마다 word, character, sents 개수 출력하기\n",
        "guten_ids = gutenberg.fileids()\n",
        "for file in guten_ids:\n",
        "  len_word = len(gutenberg.words(fileids = file))  #단어 수\n",
        "  len_sent = len(gutenberg.sents(fileids = file)) #문장 수\n",
        "  len_raw = len(gutenberg.raw(fileids = file))  #글자 수\n",
        "\n",
        "  print(f'파일 이름{file[:-4]}: 단어 수 - {len_word}, 문장 수 - {len_sent}, 글자 수 - {len_raw}')"
      ],
      "metadata": {
        "colab": {
          "base_uri": "https://localhost:8080/"
        },
        "id": "uJ8OlwMXeDvx",
        "outputId": "9c339314-0ba6-4305-d045-a3621e321598"
      },
      "execution_count": 17,
      "outputs": [
        {
          "output_type": "stream",
          "name": "stdout",
          "text": [
            "파일 이름austen-emma: 단어 수 - 192427, 문장 수 - 7752, 글자 수 - 887071\n",
            "파일 이름austen-persuasion: 단어 수 - 98171, 문장 수 - 3747, 글자 수 - 466292\n",
            "파일 이름austen-sense: 단어 수 - 141576, 문장 수 - 4999, 글자 수 - 673022\n",
            "파일 이름bible-kjv: 단어 수 - 1010654, 문장 수 - 30103, 글자 수 - 4332554\n",
            "파일 이름blake-poems: 단어 수 - 8354, 문장 수 - 438, 글자 수 - 38153\n",
            "파일 이름bryant-stories: 단어 수 - 55563, 문장 수 - 2863, 글자 수 - 249439\n",
            "파일 이름burgess-busterbrown: 단어 수 - 18963, 문장 수 - 1054, 글자 수 - 84663\n",
            "파일 이름carroll-alice: 단어 수 - 34110, 문장 수 - 1703, 글자 수 - 144395\n",
            "파일 이름chesterton-ball: 단어 수 - 96996, 문장 수 - 4779, 글자 수 - 457450\n",
            "파일 이름chesterton-brown: 단어 수 - 86063, 문장 수 - 3806, 글자 수 - 406629\n",
            "파일 이름chesterton-thursday: 단어 수 - 69213, 문장 수 - 3742, 글자 수 - 320525\n",
            "파일 이름edgeworth-parents: 단어 수 - 210663, 문장 수 - 10230, 글자 수 - 935158\n",
            "파일 이름melville-moby_dick: 단어 수 - 260819, 문장 수 - 10059, 글자 수 - 1242990\n",
            "파일 이름milton-paradise: 단어 수 - 96825, 문장 수 - 1851, 글자 수 - 468220\n",
            "파일 이름shakespeare-caesar: 단어 수 - 25833, 문장 수 - 2163, 글자 수 - 112310\n",
            "파일 이름shakespeare-hamlet: 단어 수 - 37360, 문장 수 - 3106, 글자 수 - 162881\n",
            "파일 이름shakespeare-macbeth: 단어 수 - 23140, 문장 수 - 1907, 글자 수 - 100351\n",
            "파일 이름whitman-leaves: 단어 수 - 154883, 문장 수 - 4250, 글자 수 - 711215\n"
          ]
        }
      ]
    },
    {
      "cell_type": "markdown",
      "source": [
        "### Gutenberg\n",
        "- 1. 'shakespeare-caesar.txt'의 중복된 단어를 거르고 각 단어의 길이를 출력\n",
        "\n",
        "- 2. 'chesterton-thursday.txt'에서 길이가 4자 이하인 알파벳 중 ie를 포함하는 단어를 소문자로 출력하고 개수 세기\n",
        "\n",
        "- 3. 'bryant-stories.txt'에서 ch로 끝나는 단어를 출력하는데, 중복 없이, 첫글자(모두 소문자)와 끝ch만 남기고 가운데 글자들은 모두 -로 가려라. 예: much -> m-ch"
      ],
      "metadata": {
        "id": "ksE00Y02ipBe"
      }
    },
    {
      "cell_type": "code",
      "source": [
        "#1\n",
        "words = gutenberg.words(fileids = 'shakespeare-caesar.txt')\n",
        "len_words = set([len(word.lower()) for word in words])\n",
        "print(len_words)"
      ],
      "metadata": {
        "colab": {
          "base_uri": "https://localhost:8080/"
        },
        "id": "MNmkvCsYfKc4",
        "outputId": "84994105-d370-423b-e92a-17d9fe3cc742"
      },
      "execution_count": 19,
      "outputs": [
        {
          "output_type": "stream",
          "name": "stdout",
          "text": [
            "{1, 2, 3, 4, 5, 6, 7, 8, 9, 10, 11, 12, 13, 15}\n"
          ]
        }
      ]
    },
    {
      "cell_type": "code",
      "source": [
        "#2\n",
        "words = len([word.lower() for word in gutenberg.words(fileids = 'chesterton-thursday.txt') if word.isalpha() and 'ie' in word and len(word) <= 4])\n",
        "print(words)"
      ],
      "metadata": {
        "colab": {
          "base_uri": "https://localhost:8080/"
        },
        "id": "0S8tXTDdj9sg",
        "outputId": "2dcd1274-9a96-421c-ca22-f6a08b6a471f"
      },
      "execution_count": 20,
      "outputs": [
        {
          "output_type": "stream",
          "name": "stdout",
          "text": [
            "37\n"
          ]
        }
      ]
    },
    {
      "cell_type": "code",
      "source": [
        "#3\n",
        "words = list(set([word.lower().replace(word[1:-2], '-' * len(word[1:-2])) for word in gutenberg.words(fileids = 'bryant-stories.txt') if word.endswith('ch')]))\n",
        "print(words)\n",
        "\n"
      ],
      "metadata": {
        "id": "LtUp_r7Uk8a1",
        "colab": {
          "base_uri": "https://localhost:8080/"
        },
        "outputId": "9b895627-423a-4394-e4be-6ed9c5f45341"
      },
      "execution_count": 27,
      "outputs": [
        {
          "output_type": "stream",
          "name": "stdout",
          "text": [
            "['b--ch', 'f---ch', 'c--ch', 's----ch', 'l--ch', 'a-ch', 'p--ch', 'c---ch', 's---ch', 't--ch', 'r-ch', 's-ch', 'r--ch', 'm-ch', 'e-ch', 't---ch', 'b---ch', 'f--ch', 'w--ch']\n"
          ]
        }
      ]
    },
    {
      "cell_type": "markdown",
      "source": [
        "### Brown\n",
        "- file id보다는 category가 중요\n",
        "- categories()"
      ],
      "metadata": {
        "id": "HCi2e_PnnYBm"
      }
    },
    {
      "cell_type": "code",
      "source": [
        "brown = nltk.corpus.brown #임포트"
      ],
      "metadata": {
        "id": "-bcSwyTXnRC5"
      },
      "execution_count": 30,
      "outputs": []
    },
    {
      "cell_type": "code",
      "source": [
        "brown.categories() "
      ],
      "metadata": {
        "colab": {
          "base_uri": "https://localhost:8080/"
        },
        "id": "5hecUqE0negz",
        "outputId": "ed591c3d-8838-4c43-b423-5b428d789335"
      },
      "execution_count": 31,
      "outputs": [
        {
          "output_type": "execute_result",
          "data": {
            "text/plain": [
              "['adventure',\n",
              " 'belles_lettres',\n",
              " 'editorial',\n",
              " 'fiction',\n",
              " 'government',\n",
              " 'hobbies',\n",
              " 'humor',\n",
              " 'learned',\n",
              " 'lore',\n",
              " 'mystery',\n",
              " 'news',\n",
              " 'religion',\n",
              " 'reviews',\n",
              " 'romance',\n",
              " 'science_fiction']"
            ]
          },
          "metadata": {},
          "execution_count": 31
        }
      ]
    },
    {
      "cell_type": "code",
      "source": [
        "fdist = nltk.FreqDist([w.lower() for w in brown.words(categories = 'adventure')])"
      ],
      "metadata": {
        "id": "JCLpOHkUnhux"
      },
      "execution_count": 32,
      "outputs": []
    },
    {
      "cell_type": "code",
      "source": [
        "fdist['men']"
      ],
      "metadata": {
        "colab": {
          "base_uri": "https://localhost:8080/"
        },
        "id": "Z8-iFYrVntrl",
        "outputId": "e41087d6-2502-4f47-f30f-e265d7ce0fd0"
      },
      "execution_count": 33,
      "outputs": [
        {
          "output_type": "execute_result",
          "data": {
            "text/plain": [
              "83"
            ]
          },
          "metadata": {},
          "execution_count": 33
        }
      ]
    },
    {
      "cell_type": "code",
      "source": [
        "#modal verbs\n",
        "modals = ['can', 'could', 'will', 'would', 'may', 'might']\n",
        "\n",
        "for verb in modals:\n",
        "  print(verb, fdist[verb])"
      ],
      "metadata": {
        "colab": {
          "base_uri": "https://localhost:8080/"
        },
        "id": "sDKl85mC2eE0",
        "outputId": "fcc04f24-7c5f-4bf6-f12a-643b9f2b1224"
      },
      "execution_count": 34,
      "outputs": [
        {
          "output_type": "stream",
          "name": "stdout",
          "text": [
            "can 48\n",
            "could 154\n",
            "will 51\n",
            "would 194\n",
            "may 7\n",
            "might 59\n"
          ]
        }
      ]
    },
    {
      "cell_type": "markdown",
      "source": [
        "### conditional frequency distribution\n",
        "- 조건에 따른 fdist"
      ],
      "metadata": {
        "id": "BEjTonTan_ph"
      }
    },
    {
      "cell_type": "code",
      "source": [
        "cfd = nltk.ConditionalFreqDist(\n",
        "    # 각 장르에 따른 frequency distribution을 만든다.\n",
        "    (genre, word)\n",
        "    for genre in brown.categories()\n",
        "    for word in brown.words(categories=genre)\n",
        ")"
      ],
      "metadata": {
        "id": "oRmKlTp5oHMD"
      },
      "execution_count": 35,
      "outputs": []
    },
    {
      "cell_type": "code",
      "source": [
        "cfd['romance']['love']  #love가 얼마나 나왔는지"
      ],
      "metadata": {
        "colab": {
          "base_uri": "https://localhost:8080/"
        },
        "id": "CuZv2dw5ofAH",
        "outputId": "78ce456f-363e-43fb-c156-ec34af4d7bac"
      },
      "execution_count": 37,
      "outputs": [
        {
          "output_type": "execute_result",
          "data": {
            "text/plain": [
              "32"
            ]
          },
          "metadata": {},
          "execution_count": 37
        }
      ]
    }
  ]
}