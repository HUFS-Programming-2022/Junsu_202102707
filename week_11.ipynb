{
  "nbformat": 4,
  "nbformat_minor": 0,
  "metadata": {
    "colab": {
      "name": "week_11.ipynb",
      "provenance": [],
      "collapsed_sections": [
        "CefFO0VTrOh1",
        "dAPZKxuvo6nm",
        "TRGt0TgYtJ9z",
        "VJJ14qb8y4zg"
      ],
      "authorship_tag": "ABX9TyNSXdBF+Yccwj8zJNJZW58k",
      "include_colab_link": true
    },
    "kernelspec": {
      "name": "python3",
      "display_name": "Python 3"
    },
    "language_info": {
      "name": "python"
    }
  },
  "cells": [
    {
      "cell_type": "markdown",
      "metadata": {
        "id": "view-in-github",
        "colab_type": "text"
      },
      "source": [
        "<a href=\"https://colab.research.google.com/github/HUFS-Programming-2022/Junsu_202102707/blob/main/week_11.ipynb\" target=\"_parent\"><img src=\"https://colab.research.google.com/assets/colab-badge.svg\" alt=\"Open In Colab\"/></a>"
      ]
    },
    {
      "cell_type": "markdown",
      "source": [
        "### 객체ii\n",
        "- 상속 (inheritance)\n",
        "- 재사용할 때, A vs B\n",
        "  - \"A의 대부분을 쓰고, 나머지를 추가, 변경하고 싶다\"\n",
        "  - 부모의 모든 속성을 그대로 가져와서 쓰겠다.\n",
        "- 반복되는 부분을 가져오겠다. 물려받겠다.\n",
        "- A <- B\n",
        "  - 부모, 슈퍼, 베이스\n",
        "  - 자식, 서브, derived\n",
        "- 자식클래스는 부모클래스를 구체화한다.\n",
        "- is-a 관계: Car is-a Vehicle (포함된다)"
      ],
      "metadata": {
        "id": "CefFO0VTrOh1"
      }
    },
    {
      "cell_type": "code",
      "execution_count": 9,
      "metadata": {
        "id": "9JYO5l-8rAWn"
      },
      "outputs": [],
      "source": [
        "class Vehicle:  #parent, super\n",
        "  def __init__(self, speed):\n",
        "    self.speed = speed\n",
        "\n",
        "  def go(self):\n",
        "    print(f'{self.speed}의 속도로 달린다.')\n",
        "\n",
        "#child\n",
        "class Car(Vehicle): #child, sub\n",
        "  pass"
      ]
    },
    {
      "cell_type": "code",
      "source": [
        "car = Car('20km/h')"
      ],
      "metadata": {
        "id": "SJooqz9osH50"
      },
      "execution_count": 10,
      "outputs": []
    },
    {
      "cell_type": "code",
      "source": [
        "car.go()"
      ],
      "metadata": {
        "colab": {
          "base_uri": "https://localhost:8080/"
        },
        "id": "aUn5ml5fsemc",
        "outputId": "f7745168-29af-47b9-8a9f-702be17018e6"
      },
      "execution_count": 11,
      "outputs": [
        {
          "output_type": "stream",
          "name": "stdout",
          "text": [
            "20km/h의 속도로 달린다.\n"
          ]
        }
      ]
    },
    {
      "cell_type": "markdown",
      "source": [
        "### 변수 추가, 변경"
      ],
      "metadata": {
        "id": "dAPZKxuvo6nm"
      }
    },
    {
      "cell_type": "code",
      "source": [
        "class Car(Vehicle): #child, sub\n",
        "  def __init__(self, speed, brand):\n",
        "    #speed == 부모\n",
        "    super().__init__(speed) #Vehicle().speed\n",
        "    #brand == 자식\n",
        "    self.brand = brand #나의 고유한 특성이 된다"
      ],
      "metadata": {
        "id": "vE5mmr6Ssfma"
      },
      "execution_count": 12,
      "outputs": []
    },
    {
      "cell_type": "code",
      "source": [
        "car2 = Car('20km/h', 'kia')\n",
        "car2.brand"
      ],
      "metadata": {
        "colab": {
          "base_uri": "https://localhost:8080/",
          "height": 35
        },
        "id": "-3r9pVbus4Ve",
        "outputId": "ccf67ca5-c6b2-42ee-f4a7-2571e1faa21e"
      },
      "execution_count": 13,
      "outputs": [
        {
          "output_type": "execute_result",
          "data": {
            "text/plain": [
              "'kia'"
            ],
            "application/vnd.google.colaboratory.intrinsic+json": {
              "type": "string"
            }
          },
          "metadata": {},
          "execution_count": 13
        }
      ]
    },
    {
      "cell_type": "code",
      "source": [
        "v = Vehicle('33km/h')\n",
        "v.brand"
      ],
      "metadata": {
        "colab": {
          "base_uri": "https://localhost:8080/",
          "height": 190
        },
        "id": "J6itIXsLtEmq",
        "outputId": "df37cdb6-bc43-4d38-dc55-7a59bec0e79a"
      },
      "execution_count": 14,
      "outputs": [
        {
          "output_type": "error",
          "ename": "AttributeError",
          "evalue": "ignored",
          "traceback": [
            "\u001b[0;31m---------------------------------------------------------------------------\u001b[0m",
            "\u001b[0;31mAttributeError\u001b[0m                            Traceback (most recent call last)",
            "\u001b[0;32m<ipython-input-14-d174abee7674>\u001b[0m in \u001b[0;36m<module>\u001b[0;34m()\u001b[0m\n\u001b[1;32m      1\u001b[0m \u001b[0mv\u001b[0m \u001b[0;34m=\u001b[0m \u001b[0mVehicle\u001b[0m\u001b[0;34m(\u001b[0m\u001b[0;34m'33km/h'\u001b[0m\u001b[0;34m)\u001b[0m\u001b[0;34m\u001b[0m\u001b[0;34m\u001b[0m\u001b[0m\n\u001b[0;32m----> 2\u001b[0;31m \u001b[0mv\u001b[0m\u001b[0;34m.\u001b[0m\u001b[0mbrand\u001b[0m\u001b[0;34m\u001b[0m\u001b[0;34m\u001b[0m\u001b[0m\n\u001b[0m",
            "\u001b[0;31mAttributeError\u001b[0m: 'Vehicle' object has no attribute 'brand'"
          ]
        }
      ]
    },
    {
      "cell_type": "markdown",
      "source": [
        "### 메소드 추가, 변경"
      ],
      "metadata": {
        "id": "TRGt0TgYtJ9z"
      }
    },
    {
      "cell_type": "code",
      "source": [
        "class Car(Vehicle): #child, sub\n",
        "  def __init__(self, speed, brand):\n",
        "    super().__init__(speed)\n",
        "    self.brand = brand #나의 고유한 특성이 된다\n",
        "\n",
        "  #오버라이드(override): 재정의\n",
        "  def go(self):\n",
        "    #부모의 go도 함께 가져가고 싶다면?\n",
        "    super().go()\n",
        "    print(f'차종 {self.brand}의 속도 {self.speed}')\n",
        "\n",
        "  #메소드 추가\n",
        "  def stop(self):\n",
        "    pass\n"
      ],
      "metadata": {
        "id": "cwUYc8LvtJEa"
      },
      "execution_count": 15,
      "outputs": []
    },
    {
      "cell_type": "code",
      "source": [
        "car3 = Car('33km/h', 'mini')\n",
        "car3.go()"
      ],
      "metadata": {
        "colab": {
          "base_uri": "https://localhost:8080/"
        },
        "id": "4z1gkhpltXzp",
        "outputId": "9909e4a4-42f2-44f0-e423-27e290017bb1"
      },
      "execution_count": 16,
      "outputs": [
        {
          "output_type": "stream",
          "name": "stdout",
          "text": [
            "33km/h의 속도로 달린다.\n",
            "차종 mini의 속도 33km/h\n"
          ]
        }
      ]
    },
    {
      "cell_type": "markdown",
      "source": [
        "### 실습"
      ],
      "metadata": {
        "id": "VJJ14qb8y4zg"
      }
    },
    {
      "cell_type": "code",
      "source": [
        "class Person:\n",
        "  def __init__(self, name):\n",
        "    self.name = name\n",
        "\n",
        "class Doctor(Person):\n",
        "  def __init__(self, name):\n",
        "    super().__init__(name)\n",
        "\n",
        "  def doctor(self):\n",
        "    print(f'Dr.{self.name}')\n",
        "\n",
        "\n",
        "class Male(Person):\n",
        "  def __init__(self, name):\n",
        "    super().__init__(name)\n",
        "\n",
        "  def male(self):\n",
        "    print(f'Mr.{self.name}')\n",
        "\n",
        "\n",
        "class Female(Person):\n",
        "  def __init__(self, name):\n",
        "    super().__init__(name)\n",
        "\n",
        "  def female(self):\n",
        "    print(f'Mrs.{self.name}')\n"
      ],
      "metadata": {
        "id": "stwTZH4kxRUI"
      },
      "execution_count": 17,
      "outputs": []
    },
    {
      "cell_type": "code",
      "source": [
        "person = Doctor('pablo')\n",
        "person.doctor()"
      ],
      "metadata": {
        "colab": {
          "base_uri": "https://localhost:8080/"
        },
        "id": "jIJpe1fWxGIl",
        "outputId": "073fe1f3-b824-4e79-ee23-e4ce4fad78f5"
      },
      "execution_count": 18,
      "outputs": [
        {
          "output_type": "stream",
          "name": "stdout",
          "text": [
            "Dr.pablo\n"
          ]
        }
      ]
    },
    {
      "cell_type": "code",
      "source": [
        "class Person:\n",
        "  def __init__(slef, name):\n",
        "    self.name = name\n",
        "\n",
        "class Doctor(Person):\n",
        "  def __init__(self, name):\n",
        "    super().__init__(self, name)\n",
        "    self.name = \"Dr.\"+name\n",
        "\n",
        "    super().__init__('Dr.' + name)"
      ],
      "metadata": {
        "id": "1w_ugfeCyfUK"
      },
      "execution_count": 19,
      "outputs": []
    },
    {
      "cell_type": "markdown",
      "source": [
        "### 다중상속\n",
        "- method resolution order (MRO)\n",
        "- Animal <- Horse\n",
        "        <- Donkey\n",
        "            <- Mule (Donkey > Horse)\n",
        "            <- Hinny (Horse > Donkey)"
      ],
      "metadata": {
        "id": "08L9iYc90Vbt"
      }
    },
    {
      "cell_type": "code",
      "source": [
        "class Animal:\n",
        "  def says(self):\n",
        "    return '동물이 운다.'\n",
        "\n",
        "#자식\n",
        "class Horse(Animal):\n",
        "  def says(self):\n",
        "    super().says() #할머니 잊지 X\n",
        "    return '히히힣'\n",
        "\n",
        "class Donkey(Animal):\n",
        "  def says(self):\n",
        "    super().says()\n",
        "    return '히이호'\n",
        "\n",
        "  #손주\n",
        "class Mule(Donkey, Horse):\n",
        "  pass\n",
        "class Hinny(Horse, Donkey):\n",
        "  pass"
      ],
      "metadata": {
        "id": "QKmLAi-e0VA3"
      },
      "execution_count": 20,
      "outputs": []
    },
    {
      "cell_type": "code",
      "source": [
        "m = Mule()\n",
        "m.says()"
      ],
      "metadata": {
        "colab": {
          "base_uri": "https://localhost:8080/",
          "height": 35
        },
        "id": "XKh7g7ZO1Hht",
        "outputId": "337706a3-308a-48f1-a2fb-caea0d7fa344"
      },
      "execution_count": 21,
      "outputs": [
        {
          "output_type": "execute_result",
          "data": {
            "text/plain": [
              "'히이호'"
            ],
            "application/vnd.google.colaboratory.intrinsic+json": {
              "type": "string"
            }
          },
          "metadata": {},
          "execution_count": 21
        }
      ]
    },
    {
      "cell_type": "code",
      "source": [
        "Hinny().says()"
      ],
      "metadata": {
        "colab": {
          "base_uri": "https://localhost:8080/",
          "height": 35
        },
        "id": "iGcMkR-_1Vsz",
        "outputId": "95b36f08-4358-410d-ae7c-062ec77ae51a"
      },
      "execution_count": 22,
      "outputs": [
        {
          "output_type": "execute_result",
          "data": {
            "text/plain": [
              "'히히힣'"
            ],
            "application/vnd.google.colaboratory.intrinsic+json": {
              "type": "string"
            }
          },
          "metadata": {},
          "execution_count": 22
        }
      ]
    },
    {
      "cell_type": "code",
      "source": [
        "Mule.mro()"
      ],
      "metadata": {
        "colab": {
          "base_uri": "https://localhost:8080/"
        },
        "id": "WLGv7enI1YKW",
        "outputId": "dda692f3-6964-4c93-b121-37151c16717a"
      },
      "execution_count": 23,
      "outputs": [
        {
          "output_type": "execute_result",
          "data": {
            "text/plain": [
              "[__main__.Mule, __main__.Donkey, __main__.Horse, __main__.Animal, object]"
            ]
          },
          "metadata": {},
          "execution_count": 23
        }
      ]
    },
    {
      "cell_type": "markdown",
      "source": [
        "### 다형성\n",
        "- 형태가 다른데 기능이 같다\n",
        "- 객체가 다른데도 같은 메소드를 가지고 있으면 같은 기능을 수행할 수 있다"
      ],
      "metadata": {
        "id": "1OoYA2uz1a_E"
      }
    },
    {
      "cell_type": "code",
      "source": [
        "for animal in [Mule(), Donkey(), Animal()]:\n",
        "  print(animal.says())"
      ],
      "metadata": {
        "colab": {
          "base_uri": "https://localhost:8080/"
        },
        "id": "UGw5cz4R1Zv5",
        "outputId": "d3885361-7f6b-4334-bfa4-c2389d241362"
      },
      "execution_count": 29,
      "outputs": [
        {
          "output_type": "stream",
          "name": "stdout",
          "text": [
            "히이호\n",
            "히이호\n",
            "동물이 운다.\n"
          ]
        }
      ]
    },
    {
      "cell_type": "markdown",
      "source": [
        "### 메서드 타입\n",
        "- 인스턴트 메서드\n",
        "  - self가 1번 인자\n",
        "  - 객체 생성 -> 사용 가능\n",
        "- 클래스 메서드\n",
        "  - 객체 생성하지 않아도 사용 가능\n",
        "  - 클래스에 접근하는 메서드\n",
        "  - @classmethod\n",
        "  - 예약어: cls\n",
        "- 정적 메서드\n",
        "  - 객체 생성하지 않고 접근 가능\n",
        "  - 클래스랑 전혀 상관이 없기 때문에 접근 가능한 것\n",
        "  - 내용, 기능이 비슷해서 클래스 내에 묶어 둠\n",
        "- 추상 메서드\n",
        "  - 추상 클래스: abstract 이름만 존재하는 클래스\n",
        "  - 설계도 역할:\n",
        "  - 상속하는 자식클래스 => 반드시 구현해야 하는 메소드를 정의한다."
      ],
      "metadata": {
        "id": "XvbhYaf21wyM"
      }
    },
    {
      "cell_type": "code",
      "source": [
        "a = Mule() #객체 생성\n",
        "a.says()"
      ],
      "metadata": {
        "colab": {
          "base_uri": "https://localhost:8080/",
          "height": 35
        },
        "id": "8nRUdJFI1lRP",
        "outputId": "f789ca8c-dbd3-4d92-bd97-878628b2e247"
      },
      "execution_count": 30,
      "outputs": [
        {
          "output_type": "execute_result",
          "data": {
            "text/plain": [
              "'히이호'"
            ],
            "application/vnd.google.colaboratory.intrinsic+json": {
              "type": "string"
            }
          },
          "metadata": {},
          "execution_count": 30
        }
      ]
    },
    {
      "cell_type": "code",
      "source": [
        " Mule.says()"
      ],
      "metadata": {
        "colab": {
          "base_uri": "https://localhost:8080/",
          "height": 173
        },
        "id": "lssd9FYW2EcZ",
        "outputId": "3320caab-fdf2-4c74-d6df-538fe2d8365f"
      },
      "execution_count": 31,
      "outputs": [
        {
          "output_type": "error",
          "ename": "TypeError",
          "evalue": "ignored",
          "traceback": [
            "\u001b[0;31m---------------------------------------------------------------------------\u001b[0m",
            "\u001b[0;31mTypeError\u001b[0m                                 Traceback (most recent call last)",
            "\u001b[0;32m<ipython-input-31-1ab0fca3eafa>\u001b[0m in \u001b[0;36m<module>\u001b[0;34m()\u001b[0m\n\u001b[0;32m----> 1\u001b[0;31m \u001b[0mMule\u001b[0m\u001b[0;34m.\u001b[0m\u001b[0msays\u001b[0m\u001b[0;34m(\u001b[0m\u001b[0;34m)\u001b[0m\u001b[0;34m\u001b[0m\u001b[0;34m\u001b[0m\u001b[0m\n\u001b[0m",
            "\u001b[0;31mTypeError\u001b[0m: says() missing 1 required positional argument: 'self'"
          ]
        }
      ]
    },
    {
      "cell_type": "code",
      "source": [
        "class A:\n",
        "  cnt = 0\n",
        "\n",
        "  @classmethod\n",
        "  def move(cls):\n",
        "    return cls.cnt"
      ],
      "metadata": {
        "id": "LuxcjpFf2GYh"
      },
      "execution_count": 32,
      "outputs": []
    },
    {
      "cell_type": "code",
      "source": [
        "A().move()"
      ],
      "metadata": {
        "colab": {
          "base_uri": "https://localhost:8080/"
        },
        "id": "Gn-fLMkx2cOp",
        "outputId": "2bf660c1-813b-4b1d-9175-0b24f38fa092"
      },
      "execution_count": 33,
      "outputs": [
        {
          "output_type": "execute_result",
          "data": {
            "text/plain": [
              "0"
            ]
          },
          "metadata": {},
          "execution_count": 33
        }
      ]
    },
    {
      "cell_type": "code",
      "source": [
        "A.move()"
      ],
      "metadata": {
        "colab": {
          "base_uri": "https://localhost:8080/"
        },
        "id": "mjpzRX1B2hEg",
        "outputId": "baa00e52-4dd9-474d-8935-9f030fa47c3f"
      },
      "execution_count": 34,
      "outputs": [
        {
          "output_type": "execute_result",
          "data": {
            "text/plain": [
              "0"
            ]
          },
          "metadata": {},
          "execution_count": 34
        }
      ]
    },
    {
      "cell_type": "code",
      "source": [
        "class Person:\n",
        "  def __init__(self, name, age):\n",
        "    self.name = name\n",
        "    self.age = age\n",
        "\n",
        "  @classmethod\n",
        "  def tuple_object(cls, args):\n",
        "    return cls(args[0], args[1])  # Person()\n",
        "\n",
        "name = 'kim'\n",
        "age = 24\n",
        "p = Person(name,age)\n",
        "\n",
        "info = name, age\n",
        "P = Person.tuple_object(info) # p 객체 생성하기"
      ],
      "metadata": {
        "id": "--tAItbm2iUI"
      },
      "execution_count": 35,
      "outputs": []
    },
    {
      "cell_type": "code",
      "source": [
        "P.name"
      ],
      "metadata": {
        "colab": {
          "base_uri": "https://localhost:8080/",
          "height": 35
        },
        "id": "xIx6DfN63cUi",
        "outputId": "34e0d441-b0c7-4287-e64b-28496bd38f78"
      },
      "execution_count": 36,
      "outputs": [
        {
          "output_type": "execute_result",
          "data": {
            "text/plain": [
              "'kim'"
            ],
            "application/vnd.google.colaboratory.intrinsic+json": {
              "type": "string"
            }
          },
          "metadata": {},
          "execution_count": 36
        }
      ]
    },
    {
      "cell_type": "code",
      "source": [
        "class A:\n",
        "    # 붕어빵 몇 개?\n",
        "  cnt = 0\n",
        "  \n",
        "  def __init__(self):\n",
        "    A.cnt += 1\n",
        "\n",
        "  @classmethod\n",
        "  def count(cls):\n",
        "    # cls.cnt += 1 객체를 생성할 때 cnt가 올라가진 않음\n",
        "    return f'객체 수: {cls.cnt}'\n",
        "\n",
        "\n",
        "A()\n",
        "A()\n",
        "A.count() #4\n"
      ],
      "metadata": {
        "id": "kNY0j4Qf4WwY",
        "colab": {
          "base_uri": "https://localhost:8080/",
          "height": 35
        },
        "outputId": "9bf554f7-3725-496d-e660-96b2ff182b86"
      },
      "execution_count": 37,
      "outputs": [
        {
          "output_type": "execute_result",
          "data": {
            "text/plain": [
              "'객체 수: 2'"
            ],
            "application/vnd.google.colaboratory.intrinsic+json": {
              "type": "string"
            }
          },
          "metadata": {},
          "execution_count": 37
        }
      ]
    },
    {
      "cell_type": "code",
      "source": [
        "#정적 메서드\n",
        "class Coyote:\n",
        "  @staticmethod\n",
        "  def says(): #self 없음, 딕셔너리에 변수 저장하는 것과 비슷\n",
        "    print('hi')\n",
        "\n",
        "Coyote.says()"
      ],
      "metadata": {
        "colab": {
          "base_uri": "https://localhost:8080/"
        },
        "id": "4ueB2ZayuZcG",
        "outputId": "b68c5c1e-6837-40fd-ef6d-0cb41f540e41"
      },
      "execution_count": 38,
      "outputs": [
        {
          "output_type": "stream",
          "name": "stdout",
          "text": [
            "hi\n"
          ]
        }
      ]
    },
    {
      "cell_type": "code",
      "source": [
        "from abc import *\n",
        "\n",
        "class Vehicle(metaclass=ABCMeta):\n",
        "  #추상 클래스 설정하는 방법\n",
        "  speed = '속도'\n",
        "\n",
        "  @abstractmethod\n",
        "  def go(self):\n",
        "    print('탈 것이 간다.')\n",
        "  \"\"\"\n",
        "  def stop(self):\n",
        "    pass\"\"\"\n",
        "\n",
        "class Car(Vehicle):\n",
        "  def go(self):\n",
        "    print(\"\")"
      ],
      "metadata": {
        "id": "ppSi2L9Fve9N"
      },
      "execution_count": 39,
      "outputs": []
    },
    {
      "cell_type": "code",
      "source": [
        "Car()"
      ],
      "metadata": {
        "colab": {
          "base_uri": "https://localhost:8080/"
        },
        "id": "Y8TEKqp7wPmq",
        "outputId": "5044d85d-7a98-456d-cf6a-e3858042a547"
      },
      "execution_count": 40,
      "outputs": [
        {
          "output_type": "execute_result",
          "data": {
            "text/plain": [
              "<__main__.Car at 0x7f76d3976710>"
            ]
          },
          "metadata": {},
          "execution_count": 40
        }
      ]
    }
  ]
}