{
  "nbformat": 4,
  "nbformat_minor": 0,
  "metadata": {
    "colab": {
      "name": "week_10.ipynb",
      "provenance": [],
      "collapsed_sections": [],
      "authorship_tag": "ABX9TyN3HPq/HLfQ4L/YKxKZDh2J",
      "include_colab_link": true
    },
    "kernelspec": {
      "name": "python3",
      "display_name": "Python 3"
    },
    "language_info": {
      "name": "python"
    }
  },
  "cells": [
    {
      "cell_type": "markdown",
      "metadata": {
        "id": "view-in-github",
        "colab_type": "text"
      },
      "source": [
        "<a href=\"https://colab.research.google.com/github/HUFS-Programming-2022/Junsu_202102707/blob/main/week_10.ipynb\" target=\"_parent\"><img src=\"https://colab.research.google.com/assets/colab-badge.svg\" alt=\"Open In Colab\"/></a>"
      ]
    },
    {
      "cell_type": "markdown",
      "source": [
        "## 10. 객체와 클래스\n",
        "- object(객체)\n",
        "- 객체지향프로그래밍\n",
        "- 속성과 행동을 가지는 개념, 실존하는 물체?\n",
        "  - 예: 자동차, 강아지, 꽃... (thing, 실체가 있음)\n",
        "  - 속성(자동차): 브랜드, 색, 모델...  =>변수\n",
        "  - 행동: 가다, 서다, 회전, 주차, ...  =>메소드(함수)\n",
        "\n",
        "- 편의점 => \"고객이 편의점에서 과자를 샀다\"\n",
        "  - 객체: 고객=>사람, 편의점, 과자=>물건\n",
        "    - 사람: 이름, 돈 | 물건 사다, 돈 내다\n",
        "    - 편의점: 재고, 수익 | 팔다, 수익 남기다\n",
        "    - 물건: 이름, 브랜드, 가격 | 행동은 없음\n",
        "    - (행동, 속성은 필요하지 않으면 없어도 됨)\n",
        "  - 상호작용으로 코드를 구성하는 것"
      ],
      "metadata": {
        "id": "35dEGmJtfj8t"
      }
    },
    {
      "cell_type": "markdown",
      "source": [
        "###클래스의 특징\n",
        "- 글자 대문자\n",
        "- nice car -> Nice_car (x), NiceCar (o)\n",
        "\n",
        "-정의부, 선언부\n",
        "  - 정의부: 붕어빵 틀\n",
        "  - 선언부: 붕어빵"
      ],
      "metadata": {
        "id": "e2QL7U0DhNFO"
      }
    },
    {
      "cell_type": "code",
      "execution_count": 7,
      "metadata": {
        "colab": {
          "base_uri": "https://localhost:8080/"
        },
        "id": "EKjm738wffrl",
        "outputId": "33ced137-f709-4e1a-cadc-ac1d18d495b6"
      },
      "outputs": [
        {
          "output_type": "execute_result",
          "data": {
            "text/plain": [
              "<__main__.Car at 0x7f886683d050>"
            ]
          },
          "metadata": {},
          "execution_count": 7
        }
      ],
      "source": [
        "#정의부\n",
        "class Car: #\n",
        "  pass\n",
        "\n",
        "#선언부\n",
        "Car()"
      ]
    },
    {
      "cell_type": "code",
      "source": [
        "my_car =  Car()\n",
        "my_car  #instance"
      ],
      "metadata": {
        "colab": {
          "base_uri": "https://localhost:8080/"
        },
        "id": "gYjqYte3hLgJ",
        "outputId": "b28a505e-c532-4764-d942-c7a11c70dd1f"
      },
      "execution_count": 8,
      "outputs": [
        {
          "output_type": "execute_result",
          "data": {
            "text/plain": [
              "<__main__.Car at 0x7f886682f450>"
            ]
          },
          "metadata": {},
          "execution_count": 8
        }
      ]
    },
    {
      "cell_type": "code",
      "source": [
        "my_car.name = 'bmw'\n",
        "my_car.color = 'white'"
      ],
      "metadata": {
        "id": "FtLBnAY7hsAE"
      },
      "execution_count": 9,
      "outputs": []
    },
    {
      "cell_type": "code",
      "source": [
        "my_car.name"
      ],
      "metadata": {
        "colab": {
          "base_uri": "https://localhost:8080/",
          "height": 35
        },
        "id": "eIX2GC9Dh__8",
        "outputId": "29aeac09-2ab0-4953-df03-349ffaa89320"
      },
      "execution_count": 10,
      "outputs": [
        {
          "output_type": "execute_result",
          "data": {
            "text/plain": [
              "'bmw'"
            ],
            "application/vnd.google.colaboratory.intrinsic+json": {
              "type": "string"
            }
          },
          "metadata": {},
          "execution_count": 10
        }
      ]
    },
    {
      "cell_type": "code",
      "source": [
        "class Car:\n",
        "  name = 'BMW'\n",
        "your_car = Car()\n",
        "your_car.name"
      ],
      "metadata": {
        "colab": {
          "base_uri": "https://localhost:8080/",
          "height": 35
        },
        "id": "3oEkNy4FiBq3",
        "outputId": "8f5ce019-a6dc-47b6-e87d-d5ad4afb76dd"
      },
      "execution_count": 11,
      "outputs": [
        {
          "output_type": "execute_result",
          "data": {
            "text/plain": [
              "'BMW'"
            ],
            "application/vnd.google.colaboratory.intrinsic+json": {
              "type": "string"
            }
          },
          "metadata": {},
          "execution_count": 11
        }
      ]
    },
    {
      "cell_type": "code",
      "source": [
        "your_car.name = 'Kia'\n",
        "your_car.name   #바꿀 수 있는데 귀찮음"
      ],
      "metadata": {
        "colab": {
          "base_uri": "https://localhost:8080/",
          "height": 35
        },
        "id": "DXq-MOaPiOdG",
        "outputId": "7ae777f1-0c39-4c0f-e5e0-e2f9f36cf779"
      },
      "execution_count": 12,
      "outputs": [
        {
          "output_type": "execute_result",
          "data": {
            "text/plain": [
              "'Kia'"
            ],
            "application/vnd.google.colaboratory.intrinsic+json": {
              "type": "string"
            }
          },
          "metadata": {},
          "execution_count": 12
        }
      ]
    },
    {
      "cell_type": "code",
      "source": [
        "#2\n",
        "class Car:\n",
        "  def __init__(self, name): #속성 초기화 함수\n",
        "    #객체 만들 때 들어오는 값으로 이름을 설정하고 싶다.\n",
        "    self.name = name\n",
        "    #self == insrance(붕어빵): 나 자신(인스턴스 자신)"
      ],
      "metadata": {
        "id": "atUkgoeQiZve"
      },
      "execution_count": 13,
      "outputs": []
    },
    {
      "cell_type": "code",
      "source": [
        "her_car = Car(name='Hyundai')\n",
        "her_car.name"
      ],
      "metadata": {
        "colab": {
          "base_uri": "https://localhost:8080/",
          "height": 35
        },
        "id": "955i7IRTizQT",
        "outputId": "5ac3c351-578a-421c-e519-d48c1ff8c3f7"
      },
      "execution_count": 14,
      "outputs": [
        {
          "output_type": "execute_result",
          "data": {
            "text/plain": [
              "'Hyundai'"
            ],
            "application/vnd.google.colaboratory.intrinsic+json": {
              "type": "string"
            }
          },
          "metadata": {},
          "execution_count": 14
        }
      ]
    },
    {
      "cell_type": "code",
      "source": [
        "car2 = Car('Toyota')\n",
        "car2.name"
      ],
      "metadata": {
        "colab": {
          "base_uri": "https://localhost:8080/",
          "height": 35
        },
        "id": "HrfUrh7Ii9KT",
        "outputId": "dd4d0a9d-1f2b-457f-dba5-2b9cd4902077"
      },
      "execution_count": 15,
      "outputs": [
        {
          "output_type": "execute_result",
          "data": {
            "text/plain": [
              "'Toyota'"
            ],
            "application/vnd.google.colaboratory.intrinsic+json": {
              "type": "string"
            }
          },
          "metadata": {},
          "execution_count": 15
        }
      ]
    },
    {
      "cell_type": "code",
      "source": [
        "#이름, 모델, 색\n",
        "class Car:\n",
        "  def __init__(self, name, model, color):\n",
        "    self.name = name\n",
        "    self.model = model\n",
        "    self.color = color\n",
        "\n",
        "  #액션\n",
        "  def drive(self):\n",
        "    print('차가 갑니다')\n",
        "\n",
        "  def stop(self):\n",
        "    print('차가 섭니다')\n",
        "\n",
        "\n",
        "\n",
        "car1 = Car(name='Audi', color='black', model='A3')    #변수 설정을 안하면 name, model, color 순서대로 들어감\n",
        "car1.color"
      ],
      "metadata": {
        "colab": {
          "base_uri": "https://localhost:8080/",
          "height": 35
        },
        "id": "uBq1y_pDjHxk",
        "outputId": "668fcf0b-d3d7-40ca-d22b-4fc41d14930f"
      },
      "execution_count": 16,
      "outputs": [
        {
          "output_type": "execute_result",
          "data": {
            "text/plain": [
              "'black'"
            ],
            "application/vnd.google.colaboratory.intrinsic+json": {
              "type": "string"
            }
          },
          "metadata": {},
          "execution_count": 16
        }
      ]
    },
    {
      "cell_type": "code",
      "source": [
        "car1.drive()"
      ],
      "metadata": {
        "colab": {
          "base_uri": "https://localhost:8080/"
        },
        "id": "co0nHOWlkMf9",
        "outputId": "bae05d13-0e9f-4ed7-cf78-22bf71c921ec"
      },
      "execution_count": 17,
      "outputs": [
        {
          "output_type": "stream",
          "name": "stdout",
          "text": [
            "차가 갑니다\n"
          ]
        }
      ]
    },
    {
      "cell_type": "code",
      "source": [
        "#이름, 모델, 색\n",
        "class Car:\n",
        "  def __init__(self, name, model, color):\n",
        "    self.name = name\n",
        "    self.model = model\n",
        "    self.color = color\n",
        "\n",
        "  #액션\n",
        "  def drive(self):\n",
        "    # {차 이름}가 출발합니다.\n",
        "    print(f'{self.name}가 출발합니다')\n",
        "\n",
        "  def stop(self):\n",
        "    print('차가 섭니다')\n",
        "\n",
        "  def change_color(self):\n",
        "    #gray로 바꾼다\n",
        "    self.color = 'gray'\n",
        "\n",
        "car1 = Car(name='Audi', color='black', model='A3')    #변수 설정을 안하면 name, model, color 순서대로 들어감\n",
        "car1.color"
      ],
      "metadata": {
        "colab": {
          "base_uri": "https://localhost:8080/",
          "height": 35
        },
        "id": "tSkQUGu8lM3T",
        "outputId": "1135af98-d648-44b5-d58c-d73b11192987"
      },
      "execution_count": 18,
      "outputs": [
        {
          "output_type": "execute_result",
          "data": {
            "text/plain": [
              "'black'"
            ],
            "application/vnd.google.colaboratory.intrinsic+json": {
              "type": "string"
            }
          },
          "metadata": {},
          "execution_count": 18
        }
      ]
    },
    {
      "cell_type": "code",
      "source": [
        "car1.drive()"
      ],
      "metadata": {
        "colab": {
          "base_uri": "https://localhost:8080/"
        },
        "id": "vsEHscY3l7Ty",
        "outputId": "533b9421-be74-429a-b129-b0fdbb68c6c5"
      },
      "execution_count": 19,
      "outputs": [
        {
          "output_type": "stream",
          "name": "stdout",
          "text": [
            "Audi가 출발합니다\n"
          ]
        }
      ]
    },
    {
      "cell_type": "code",
      "source": [
        "car1.change_color()\n",
        "car1.color"
      ],
      "metadata": {
        "colab": {
          "base_uri": "https://localhost:8080/",
          "height": 35
        },
        "id": "ctXIa4e7l9S7",
        "outputId": "1788090e-c983-42d7-fa4d-ce97fe036ad9"
      },
      "execution_count": 20,
      "outputs": [
        {
          "output_type": "execute_result",
          "data": {
            "text/plain": [
              "'gray'"
            ],
            "application/vnd.google.colaboratory.intrinsic+json": {
              "type": "string"
            }
          },
          "metadata": {},
          "execution_count": 20
        }
      ]
    },
    {
      "cell_type": "code",
      "source": [
        "#이름, 모델, 색\n",
        "class Car:\n",
        "  def __init__(self, name, model=None, color='black'):\n",
        "    self.name = name\n",
        "    self.model = model\n",
        "    self.color = color\n",
        "\n",
        "  #액션\n",
        "  def drive(self):\n",
        "    #1. {차 이름}가 출발합니다.\n",
        "    print(f'{self.name}가 출발합니다')\n",
        "\n",
        "  def stop(self):\n",
        "    print('차가 섭니다')\n",
        "\n",
        "  def change_color(self, color):\n",
        "    #2. gray로 바꾼다\n",
        "    #self.color = 'gray'\n",
        "    #3. color를 입력받아서 그걸로 지정\n",
        "    self.color = color\n",
        "\n",
        "  #4. color가 들어오면 그 값으로 설정, 아니면 'black'으로\n",
        "  #5. model을 생성할 때 안 넣어도 되도록 설정하기\n",
        "\n",
        "car1 = Car(name='Audi')    #변수 설정을 안하면 name, model, color 순서대로 들어감\n",
        "car1.color, car1.model"
      ],
      "metadata": {
        "colab": {
          "base_uri": "https://localhost:8080/"
        },
        "id": "wRaqaqybmRM2",
        "outputId": "151ecc6a-abd9-4ef0-d699-42cbaa5c7241"
      },
      "execution_count": 21,
      "outputs": [
        {
          "output_type": "execute_result",
          "data": {
            "text/plain": [
              "('black', None)"
            ]
          },
          "metadata": {},
          "execution_count": 21
        }
      ]
    },
    {
      "cell_type": "code",
      "source": [
        "car1.change_color('white')\n",
        "car1.color"
      ],
      "metadata": {
        "colab": {
          "base_uri": "https://localhost:8080/",
          "height": 35
        },
        "id": "8w3nbVkSnK4X",
        "outputId": "45b23dc8-85b1-49ff-8d98-01292f8923fc"
      },
      "execution_count": 22,
      "outputs": [
        {
          "output_type": "execute_result",
          "data": {
            "text/plain": [
              "'white'"
            ],
            "application/vnd.google.colaboratory.intrinsic+json": {
              "type": "string"
            }
          },
          "metadata": {},
          "execution_count": 22
        }
      ]
    },
    {
      "cell_type": "markdown",
      "source": [
        "### 캡슐화, 정보 은닉\n",
        "- public -> private\n",
        "- getter, setter"
      ],
      "metadata": {
        "id": "qZ6lYfyxuS9-"
      }
    },
    {
      "cell_type": "code",
      "source": [
        "class Fruit:\n",
        "  color = 'red'\n",
        "\n",
        "kiwi = Fruit()\n",
        "kiwi.color"
      ],
      "metadata": {
        "colab": {
          "base_uri": "https://localhost:8080/",
          "height": 35
        },
        "id": "Asfnsn2YnQpf",
        "outputId": "9c1536a3-0227-44e3-e474-cc81c3103d30"
      },
      "execution_count": 23,
      "outputs": [
        {
          "output_type": "execute_result",
          "data": {
            "text/plain": [
              "'red'"
            ],
            "application/vnd.google.colaboratory.intrinsic+json": {
              "type": "string"
            }
          },
          "metadata": {},
          "execution_count": 23
        }
      ]
    },
    {
      "cell_type": "code",
      "source": [
        "Fruit.color = 'black'"
      ],
      "metadata": {
        "id": "2FbsxnZ6ucIS"
      },
      "execution_count": 24,
      "outputs": []
    },
    {
      "cell_type": "code",
      "source": [
        "apple = Fruit()\n",
        "apple.color  #바꾸고 싶지 않아도 바뀜"
      ],
      "metadata": {
        "colab": {
          "base_uri": "https://localhost:8080/",
          "height": 35
        },
        "id": "9GTNYezWuhfn",
        "outputId": "7a3420dd-3421-4b79-8227-d75992fae040"
      },
      "execution_count": 25,
      "outputs": [
        {
          "output_type": "execute_result",
          "data": {
            "text/plain": [
              "'black'"
            ],
            "application/vnd.google.colaboratory.intrinsic+json": {
              "type": "string"
            }
          },
          "metadata": {},
          "execution_count": 25
        }
      ]
    },
    {
      "cell_type": "markdown",
      "source": [
        "#### get set\n",
        "- getter: 클래스 내 객체 변수 반환\n",
        "-setter: == 변수설정"
      ],
      "metadata": {
        "id": "sH4ZiYvmu23J"
      }
    },
    {
      "cell_type": "code",
      "source": [
        "#1.자바버전\n",
        "class Car:\n",
        "  def __init__(self, input_name):\n",
        "    self.name = input_name\n",
        "\n",
        "  def get_name(self):\n",
        "    #변수 반환\n",
        "    return self.name\n",
        "  \n",
        "  def set_name(self, input_name):\n",
        "    self.name = input_name\n",
        "\n",
        "c = Car('name1')\n",
        "c.get_name()"
      ],
      "metadata": {
        "colab": {
          "base_uri": "https://localhost:8080/",
          "height": 35
        },
        "id": "HhUujFa-ul-S",
        "outputId": "0b6aefc6-3414-42fa-a8a8-cb8c230a0569"
      },
      "execution_count": 26,
      "outputs": [
        {
          "output_type": "execute_result",
          "data": {
            "text/plain": [
              "'name1'"
            ],
            "application/vnd.google.colaboratory.intrinsic+json": {
              "type": "string"
            }
          },
          "metadata": {},
          "execution_count": 26
        }
      ]
    },
    {
      "cell_type": "code",
      "source": [
        "c.set_name('name2')\n",
        "c.name"
      ],
      "metadata": {
        "colab": {
          "base_uri": "https://localhost:8080/",
          "height": 35
        },
        "id": "kQXXhCtXveAW",
        "outputId": "bb11679b-5cf0-43a3-c4ab-4f5f786c708d"
      },
      "execution_count": 27,
      "outputs": [
        {
          "output_type": "execute_result",
          "data": {
            "text/plain": [
              "'name2'"
            ],
            "application/vnd.google.colaboratory.intrinsic+json": {
              "type": "string"
            }
          },
          "metadata": {},
          "execution_count": 27
        }
      ]
    },
    {
      "cell_type": "code",
      "source": [
        "c.name = 'name3'\n",
        "c.name"
      ],
      "metadata": {
        "colab": {
          "base_uri": "https://localhost:8080/",
          "height": 35
        },
        "id": "sArPcQkIvjuT",
        "outputId": "c2b94ce4-7091-42fa-febe-683315612c96"
      },
      "execution_count": 28,
      "outputs": [
        {
          "output_type": "execute_result",
          "data": {
            "text/plain": [
              "'name3'"
            ],
            "application/vnd.google.colaboratory.intrinsic+json": {
              "type": "string"
            }
          },
          "metadata": {},
          "execution_count": 28
        }
      ]
    },
    {
      "cell_type": "code",
      "source": [
        "#2.파이썬버전\n",
        "class Car:\n",
        "  def __init__(self, input_name):\n",
        "    self.hidden_name = input_name\n",
        "\n",
        "  def get_name(self):\n",
        "    #변수 반환\n",
        "    return self.hidden_name\n",
        "  \n",
        "  def set_name(self, input_name):\n",
        "    self.hidden_name = input_name\n",
        "\n",
        "  name = property(get_name, set_name)\n",
        "\n",
        "d = Car('name1')\n",
        "d.name"
      ],
      "metadata": {
        "colab": {
          "base_uri": "https://localhost:8080/",
          "height": 35
        },
        "id": "GQ5k7Kpbvm0v",
        "outputId": "d40d718e-4464-47e4-b245-8038f2c158fd"
      },
      "execution_count": 29,
      "outputs": [
        {
          "output_type": "execute_result",
          "data": {
            "text/plain": [
              "'name1'"
            ],
            "application/vnd.google.colaboratory.intrinsic+json": {
              "type": "string"
            }
          },
          "metadata": {},
          "execution_count": 29
        }
      ]
    },
    {
      "cell_type": "markdown",
      "source": [
        "여기 아래 3,4번은 다시 확인해보기"
      ],
      "metadata": {
        "id": "4vuqEC1-wt-Y"
      }
    },
    {
      "cell_type": "code",
      "source": [
        "#3.\n",
        "class Car:\n",
        "  def __init__(self, input_name):\n",
        "    self.hidden_name = input_name\n",
        "  #decorator\n",
        "  @property\n",
        "  def name(self):\n",
        "    #변수 반환\n",
        "    return self.hidden_name\n",
        "  \n",
        "  @name.setter\n",
        "  def name(self, input_name):\n",
        "    self.hidden_name = input_name\n",
        "\n",
        "e = Car('name a')\n",
        "e.name"
      ],
      "metadata": {
        "colab": {
          "base_uri": "https://localhost:8080/",
          "height": 35
        },
        "id": "9oTSk_dTv96p",
        "outputId": "521cd5ad-0d84-4f1e-eaa0-5789a8726c74"
      },
      "execution_count": 30,
      "outputs": [
        {
          "output_type": "execute_result",
          "data": {
            "text/plain": [
              "'name a'"
            ],
            "application/vnd.google.colaboratory.intrinsic+json": {
              "type": "string"
            }
          },
          "metadata": {},
          "execution_count": 30
        }
      ]
    },
    {
      "cell_type": "code",
      "source": [
        "#4.\n",
        "class Car:\n",
        "  def __init__(self, input_name):\n",
        "    self.__name = input_name\n",
        "  #decorator\n",
        "  @property\n",
        "  def name(self):\n",
        "    #변수 반환\n",
        "    return self.__name\n",
        "  @name.setter\n",
        "  def name(self, input_name):\n",
        "    self.__name = input_name\n",
        "\n",
        "f = Car('name b')\n",
        "f.__name"
      ],
      "metadata": {
        "colab": {
          "base_uri": "https://localhost:8080/",
          "height": 209
        },
        "id": "7mrba3pbwaHR",
        "outputId": "5c633466-fd32-4e81-a954-0586e931d719"
      },
      "execution_count": 31,
      "outputs": [
        {
          "output_type": "error",
          "ename": "AttributeError",
          "evalue": "ignored",
          "traceback": [
            "\u001b[0;31m---------------------------------------------------------------------------\u001b[0m",
            "\u001b[0;31mAttributeError\u001b[0m                            Traceback (most recent call last)",
            "\u001b[0;32m<ipython-input-31-0492f856bfba>\u001b[0m in \u001b[0;36m<module>\u001b[0;34m()\u001b[0m\n\u001b[1;32m     13\u001b[0m \u001b[0;34m\u001b[0m\u001b[0m\n\u001b[1;32m     14\u001b[0m \u001b[0mf\u001b[0m \u001b[0;34m=\u001b[0m \u001b[0mCar\u001b[0m\u001b[0;34m(\u001b[0m\u001b[0;34m'name b'\u001b[0m\u001b[0;34m)\u001b[0m\u001b[0;34m\u001b[0m\u001b[0;34m\u001b[0m\u001b[0m\n\u001b[0;32m---> 15\u001b[0;31m \u001b[0mf\u001b[0m\u001b[0;34m.\u001b[0m\u001b[0m__name\u001b[0m\u001b[0;34m\u001b[0m\u001b[0;34m\u001b[0m\u001b[0m\n\u001b[0m",
            "\u001b[0;31mAttributeError\u001b[0m: 'Car' object has no attribute '__name'"
          ]
        }
      ]
    },
    {
      "cell_type": "code",
      "source": [
        "class Circle:\n",
        "  def __init__(self, radius):\n",
        "    self.radius = radius\n",
        "\n",
        "  @property\n",
        "  def parameter(self):\n",
        "    return self.radius * 2\n",
        "\n",
        "ex = Circle(5)\n",
        "ex.parameter"
      ],
      "metadata": {
        "id": "hIJadHAtxC7p",
        "colab": {
          "base_uri": "https://localhost:8080/"
        },
        "outputId": "e53f4c6e-8837-4348-a74a-fa1adea621e5"
      },
      "execution_count": 32,
      "outputs": [
        {
          "output_type": "execute_result",
          "data": {
            "text/plain": [
              "10"
            ]
          },
          "metadata": {},
          "execution_count": 32
        }
      ]
    },
    {
      "cell_type": "code",
      "source": [
        "ex.radius =19\n",
        "ex.parameter"
      ],
      "metadata": {
        "colab": {
          "base_uri": "https://localhost:8080/"
        },
        "id": "UMnyOMN830Rr",
        "outputId": "b2455e3c-086d-4e7e-9cb4-48014a938562"
      },
      "execution_count": 33,
      "outputs": [
        {
          "output_type": "execute_result",
          "data": {
            "text/plain": [
              "38"
            ]
          },
          "metadata": {},
          "execution_count": 33
        }
      ]
    },
    {
      "cell_type": "markdown",
      "source": [
        "### 실습\n",
        "- 메모장, 메모 구현하기\n",
        "- 메모장\n",
        "  - 속성: 제목, 페이지번호, 메모\n",
        "  - 메모 추가하다, 메모 삭제하다, 페이지번호 확인하다\n",
        "- 메모\n",
        "  - 속성: 글귀\n",
        "  - 행동: 쓰다, 지우다\n",
        "- 사용\n",
        "  - 메모 쓴다\n",
        "  - 메모장에 추가\n",
        "  - 페이지 번호가 늘어난다\n",
        "  - 메모 삭제\n",
        "  - 페이지 번호 줄어든다\n",
        "  - 메모장>제목만 은닉시킨다"
      ],
      "metadata": {
        "id": "Dm4XT_e4xSQP"
      }
    },
    {
      "cell_type": "code",
      "source": [
        "class Notebook:\n",
        "  def __init__(self, title, page, memo):\n",
        "    self.title = title\n",
        "    self.page = page\n",
        "    self.memo = memo\n",
        "  \n",
        "  def add_note(self, new_memo):\n",
        "    self.page += 1\n",
        "    self.memo += new_memo\n",
        "\n",
        "  def remove_note(self, old_memo):\n",
        "    self.page -= 1\n",
        "    self.memo -= old_memo\n",
        "\n",
        "  def check_page(self):\n",
        "    print(f'{self.page}페이지입니다')\n",
        "\n",
        "class Note:\n",
        "  def __init__(self, text):\n",
        "    self.text = text\n",
        "\n",
        "  def write(self, new_text):\n",
        "    self.text += new_text\n",
        "\n",
        "  def delete(self, old_text):\n",
        "    self.text -= old_text\n",
        "\n",
        "note1 = Note('hello world!')\n",
        "note1.write(' what are you doing?')\n",
        "print(note1.text)\n",
        "book = Notebook('world', 2, 'Listen!')\n",
        "book.add_note(note1.text)\n",
        "print(book.memo)\n",
        "book.check_page()"
      ],
      "metadata": {
        "colab": {
          "base_uri": "https://localhost:8080/"
        },
        "id": "qE7_rkOixu2t",
        "outputId": "b0108a4f-4f1e-4883-f4d5-729255312f1e"
      },
      "execution_count": 34,
      "outputs": [
        {
          "output_type": "stream",
          "name": "stdout",
          "text": [
            "hello world! what are you doing?\n",
            "Listen!hello world! what are you doing?\n",
            "3페이지입니다\n"
          ]
        }
      ]
    }
  ]
}