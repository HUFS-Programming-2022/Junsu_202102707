{
  "nbformat": 4,
  "nbformat_minor": 0,
  "metadata": {
    "colab": {
      "name": "week_2.ipynb",
      "provenance": [],
      "collapsed_sections": [],
      "mount_file_id": "12vz47iPWLMGtURmSUCeQ7WokSHP2awP-",
      "authorship_tag": "ABX9TyNxv71lORfEr8Ma2YIHUjqi",
      "include_colab_link": true
    },
    "kernelspec": {
      "name": "python3",
      "display_name": "Python 3"
    },
    "language_info": {
      "name": "python"
    }
  },
  "cells": [
    {
      "cell_type": "markdown",
      "metadata": {
        "id": "view-in-github",
        "colab_type": "text"
      },
      "source": [
        "<a href=\"https://colab.research.google.com/github/HUFS-Programming-2022/Junsu_202102707/blob/main/week_2.ipynb\" target=\"_parent\"><img src=\"https://colab.research.google.com/assets/colab-badge.svg\" alt=\"Open In Colab\"/></a>"
      ]
    },
    {
      "cell_type": "markdown",
      "source": [
        "#Ch02 Variable\n",
        "### 변수의 종류\n",
        "- string\n",
        "- integer\n",
        "- float\n",
        "- boolean\n",
        "\n",
        "\n"
      ],
      "metadata": {
        "id": "YFc4xn1x8CZ8"
      }
    },
    {
      "cell_type": "markdown",
      "source": [
        "## 할당하기"
      ],
      "metadata": {
        "id": "r8o6BLfP9QpD"
      }
    },
    {
      "cell_type": "code",
      "source": [
        "#여러 이름을 동시에 할당\n",
        "two = deux = dos = 2    #순서: dos -> deux -> two\n",
        "two, deux, dos"
      ],
      "metadata": {
        "colab": {
          "base_uri": "https://localhost:8080/"
        },
        "id": "Ttk7th9w9bjF",
        "outputId": "4a397989-1343-4e93-b0b7-4f74e4688635"
      },
      "execution_count": null,
      "outputs": [
        {
          "output_type": "execute_result",
          "data": {
            "text/plain": [
              "(2, 2, 2)"
            ]
          },
          "metadata": {},
          "execution_count": 10
        }
      ]
    },
    {
      "cell_type": "code",
      "source": [
        "two = 4\n",
        "two, deux, dos  #integer는 불변객체이기 때문"
      ],
      "metadata": {
        "colab": {
          "base_uri": "https://localhost:8080/"
        },
        "id": "rm-H5LrX9oo9",
        "outputId": "b745e935-e8bf-4f88-98f5-6797d7aa83eb"
      },
      "execution_count": null,
      "outputs": [
        {
          "output_type": "execute_result",
          "data": {
            "text/plain": [
              "(4, 2, 2)"
            ]
          },
          "metadata": {},
          "execution_count": 3
        }
      ]
    },
    {
      "cell_type": "code",
      "source": [
        "id(two), id(deux), id(dos)    #two가 2->4가 되면서 저장공간의 주소도 달라짐"
      ],
      "metadata": {
        "colab": {
          "base_uri": "https://localhost:8080/"
        },
        "id": "gORSlAR_-NYV",
        "outputId": "bf0b0d71-7f44-4dde-c8cc-1d53d2db9ab4"
      },
      "execution_count": null,
      "outputs": [
        {
          "output_type": "execute_result",
          "data": {
            "text/plain": [
              "(94522568501856, 94522568501792, 94522568501792)"
            ]
          },
          "metadata": {},
          "execution_count": 4
        }
      ]
    },
    {
      "cell_type": "code",
      "source": [
        "#리스트는 가변객체임\n",
        "p = [1, 2, 3]\n",
        "q = p\n",
        "p, q, id(p), id(q)"
      ],
      "metadata": {
        "colab": {
          "base_uri": "https://localhost:8080/"
        },
        "id": "vVOJ5iyq-mXa",
        "outputId": "ee8d3d23-586f-4a82-f90a-ffb5386d5530"
      },
      "execution_count": null,
      "outputs": [
        {
          "output_type": "execute_result",
          "data": {
            "text/plain": [
              "([1, 2, 3], [1, 2, 3], 139920478649952, 139920478649952)"
            ]
          },
          "metadata": {},
          "execution_count": 7
        }
      ]
    },
    {
      "cell_type": "code",
      "source": [
        "p[0] = 4\n",
        "p, q, id(p), id(q)    #q를 바꾸지 않았는데 동시에 바뀜, 저장공간의 주소도 그대로"
      ],
      "metadata": {
        "colab": {
          "base_uri": "https://localhost:8080/"
        },
        "id": "EH4j3swC-9QY",
        "outputId": "e15689af-a66f-4720-9564-ef3a989e694e"
      },
      "execution_count": null,
      "outputs": [
        {
          "output_type": "execute_result",
          "data": {
            "text/plain": [
              "([4, 2, 3], [4, 2, 3], 139920478649952, 139920478649952)"
            ]
          },
          "metadata": {},
          "execution_count": 9
        }
      ]
    },
    {
      "cell_type": "markdown",
      "source": [
        "## 좋은 변수명\n",
        "- 간결, 명확하고 의미가 담겨야 함 (a, b, c: X)\n",
        "- 코드에는 의미가 담기고 주석에는 의도가 담긴다.\n",
        "- 카멜표기법: numStudent"
      ],
      "metadata": {
        "id": "YbLqAvKY_ntg"
      }
    },
    {
      "cell_type": "markdown",
      "source": [
        "##자료형 변환, 형 변환\n",
        "- str(변환할 값), int(), float(), bool()"
      ],
      "metadata": {
        "id": "Wi5Ww7EFAt3s"
      }
    },
    {
      "cell_type": "code",
      "source": [
        "a = 10\n",
        "str(a), float(a), bool(a)     #a: integer -> string, float, boolean\n",
        "\n",
        "#bool은 어떤 값이 False로 바뀌는지 "
      ],
      "metadata": {
        "colab": {
          "base_uri": "https://localhost:8080/"
        },
        "id": "h-Pjps2IA8q0",
        "outputId": "5fd8a6f9-ebbb-4364-99cd-5a7880f0cec5"
      },
      "execution_count": null,
      "outputs": [
        {
          "output_type": "execute_result",
          "data": {
            "text/plain": [
              "('10', 10.0, True)"
            ]
          },
          "metadata": {},
          "execution_count": 12
        }
      ]
    },
    {
      "cell_type": "markdown",
      "source": [
        "#### 주의할 점 1\n",
        "float -> int: 소수점 뒤가 없어짐"
      ],
      "metadata": {
        "id": "-hyFELWqBiHA"
      }
    },
    {
      "cell_type": "code",
      "source": [
        "x = 10.7\n",
        "y = 10.3\n",
        "print(int(x) + int(y))\n",
        "print(int(x + y))   #둘의 계산 값이 달라짐"
      ],
      "metadata": {
        "colab": {
          "base_uri": "https://localhost:8080/"
        },
        "id": "bDIo6eHTBvIZ",
        "outputId": "9b8bbbc8-d927-46e1-b1c7-57a64ff7168e"
      },
      "execution_count": null,
      "outputs": [
        {
          "output_type": "stream",
          "name": "stdout",
          "text": [
            "20\n",
            "21\n"
          ]
        }
      ]
    },
    {
      "cell_type": "markdown",
      "source": [
        "####주의할 점 2\n",
        "str -> int/float"
      ],
      "metadata": {
        "id": "iAhmd_75CTa9"
      }
    },
    {
      "cell_type": "code",
      "source": [
        "i = '10'\n",
        "print(int(i), float(i))   #문제 X"
      ],
      "metadata": {
        "colab": {
          "base_uri": "https://localhost:8080/"
        },
        "id": "eXwYBWFdCddr",
        "outputId": "f92fd82e-7ddc-4e32-a643-068aebe12eb4"
      },
      "execution_count": null,
      "outputs": [
        {
          "output_type": "stream",
          "name": "stdout",
          "text": [
            "10 10.0\n"
          ]
        }
      ]
    },
    {
      "cell_type": "code",
      "source": [
        "j = '12.3'\n",
        "int(j)    #float이라고 바뀌어야 하는 str을 int로 바꾸면 error"
      ],
      "metadata": {
        "colab": {
          "base_uri": "https://localhost:8080/",
          "height": 190
        },
        "id": "m7MtvoOgCsEv",
        "outputId": "0c7653c2-e51e-4f79-b7f8-c1fee410ea3e"
      },
      "execution_count": null,
      "outputs": [
        {
          "output_type": "error",
          "ename": "ValueError",
          "evalue": "ignored",
          "traceback": [
            "\u001b[0;31m---------------------------------------------------------------------------\u001b[0m",
            "\u001b[0;31mValueError\u001b[0m                                Traceback (most recent call last)",
            "\u001b[0;32m<ipython-input-19-8a082fc65837>\u001b[0m in \u001b[0;36m<module>\u001b[0;34m()\u001b[0m\n\u001b[1;32m      1\u001b[0m \u001b[0mj\u001b[0m \u001b[0;34m=\u001b[0m \u001b[0;34m'12.3'\u001b[0m\u001b[0;34m\u001b[0m\u001b[0;34m\u001b[0m\u001b[0m\n\u001b[0;32m----> 2\u001b[0;31m \u001b[0mint\u001b[0m\u001b[0;34m(\u001b[0m\u001b[0mj\u001b[0m\u001b[0;34m)\u001b[0m    \u001b[0;31m#float이라고 바뀌어야 하는 것을 int로 바꾸면 error\u001b[0m\u001b[0;34m\u001b[0m\u001b[0;34m\u001b[0m\u001b[0m\n\u001b[0m",
            "\u001b[0;31mValueError\u001b[0m: invalid literal for int() with base 10: '12.3'"
          ]
        }
      ]
    },
    {
      "cell_type": "markdown",
      "source": [
        "##### 꿀팁 1"
      ],
      "metadata": {
        "id": "T5TNKx_zDFxI"
      }
    },
    {
      "cell_type": "code",
      "source": [
        "dog = 'dog'\n",
        "cat = 'cat'\n",
        "lion = 'lion'\n",
        "print(dog + cat + lion)   #space X, \\n\n",
        "print(dog, cat, lion)   #space O, \\n\n",
        "print(dog, cat, lion, sep=',', end='\\n')    #이게 default값\n",
        "print(dog, cat, lion, sep='/', end='\\n\\n')\n",
        "print(dog)"
      ],
      "metadata": {
        "colab": {
          "base_uri": "https://localhost:8080/"
        },
        "id": "daLEWW22DWKm",
        "outputId": "48c8c4d0-f362-4826-dcc5-510b57ac32d0"
      },
      "execution_count": null,
      "outputs": [
        {
          "output_type": "stream",
          "name": "stdout",
          "text": [
            "dogcatlion\n",
            "dog cat lion\n",
            "dog,cat,lion\n",
            "dog/cat/lion\n",
            "\n",
            "dog\n"
          ]
        }
      ]
    },
    {
      "cell_type": "markdown",
      "source": [
        "#####꿀팁 2"
      ],
      "metadata": {
        "id": "a1h7SF5zFO4e"
      }
    },
    {
      "cell_type": "code",
      "source": [
        "#2\n",
        "print('my favorite animal is', dog, '.')\n",
        "print(f'my favorite animal is {dog}.')    #얘가 더 좋음"
      ],
      "metadata": {
        "colab": {
          "base_uri": "https://localhost:8080/"
        },
        "id": "1yJNqIkcEmQN",
        "outputId": "1d3fe2ae-f725-4e63-f4fd-f55515d8954f"
      },
      "execution_count": null,
      "outputs": [
        {
          "output_type": "stream",
          "name": "stdout",
          "text": [
            "my favorite animal is dog .\n",
            "my favorite animal is dog.\n"
          ]
        }
      ]
    },
    {
      "cell_type": "markdown",
      "source": [
        "#####꿀팁 3"
      ],
      "metadata": {
        "id": "CWW8i8u-Fj4o"
      }
    },
    {
      "cell_type": "code",
      "source": [
        "#코드 줄이 짧을 때 ;를 사용해 한 줄로 쓸 수 있다.\n",
        "dog = 'dog'; cat = 'cat'; lion = 'lion'\n",
        "print(dog)"
      ],
      "metadata": {
        "colab": {
          "base_uri": "https://localhost:8080/"
        },
        "id": "3cRCNlXgFh1U",
        "outputId": "1bbb48a5-cb8f-429d-b26c-9b5c0ab3444a"
      },
      "execution_count": null,
      "outputs": [
        {
          "output_type": "stream",
          "name": "stdout",
          "text": [
            "dog\n"
          ]
        }
      ]
    },
    {
      "cell_type": "markdown",
      "source": [
        "###input() 함수\n",
        "- console에서 사용자가 입력하는 값을 받을 수 있는 함수\n",
        "- 입력받는 값은 문자열로 인식이 된다.\n",
        "- 입력받은 값을 변수에 담아서 사용한다. 안 그러면 사라짐\n",
        "- 숫자일 경우 형 변환 필요\n"
      ],
      "metadata": {
        "id": "Tbp4Y-_nGMln"
      }
    },
    {
      "cell_type": "code",
      "source": [
        "input('나이는?')"
      ],
      "metadata": {
        "colab": {
          "base_uri": "https://localhost:8080/",
          "height": 54
        },
        "id": "65OzsMpqGhBp",
        "outputId": "ad158b4a-1b74-47a2-c64c-1ef0c22e8c63"
      },
      "execution_count": null,
      "outputs": [
        {
          "name": "stdout",
          "output_type": "stream",
          "text": [
            "나이는?21\n"
          ]
        },
        {
          "output_type": "execute_result",
          "data": {
            "text/plain": [
              "'21'"
            ],
            "application/vnd.google.colaboratory.intrinsic+json": {
              "type": "string"
            }
          },
          "metadata": {},
          "execution_count": 32
        }
      ]
    },
    {
      "cell_type": "code",
      "source": [
        "int(input('나이는?'))"
      ],
      "metadata": {
        "colab": {
          "base_uri": "https://localhost:8080/"
        },
        "id": "cyG6JRTqG1e9",
        "outputId": "f2df61d5-4f7d-4b62-f857-dbdf578b570f"
      },
      "execution_count": null,
      "outputs": [
        {
          "name": "stdout",
          "output_type": "stream",
          "text": [
            "나이는?21\n"
          ]
        },
        {
          "output_type": "execute_result",
          "data": {
            "text/plain": [
              "21"
            ]
          },
          "metadata": {},
          "execution_count": 33
        }
      ]
    },
    {
      "cell_type": "markdown",
      "source": [
        "- 변수에 할당하는 방법"
      ],
      "metadata": {
        "id": "Pv1dLMNIHDC7"
      }
    },
    {
      "cell_type": "code",
      "source": [
        "#1\n",
        "age = input('나이는?')\n",
        "print(age)"
      ],
      "metadata": {
        "colab": {
          "base_uri": "https://localhost:8080/"
        },
        "id": "pIugHatJHFBU",
        "outputId": "134ba495-82d9-4bef-85a1-e37d2cbe33c9"
      },
      "execution_count": null,
      "outputs": [
        {
          "output_type": "stream",
          "name": "stdout",
          "text": [
            "나이는?21\n",
            "21\n"
          ]
        }
      ]
    },
    {
      "cell_type": "code",
      "source": [
        "#2\n",
        "print('나이는?')\n",
        "age = input()\n",
        "print(age)"
      ],
      "metadata": {
        "colab": {
          "base_uri": "https://localhost:8080/"
        },
        "id": "CKNqu9_iHUCa",
        "outputId": "b697fcbf-0f1e-481a-9b7d-f12d8885ab1e"
      },
      "execution_count": null,
      "outputs": [
        {
          "output_type": "stream",
          "name": "stdout",
          "text": [
            "나이는?\n",
            "21\n",
            "21\n"
          ]
        }
      ]
    },
    {
      "cell_type": "code",
      "execution_count": null,
      "metadata": {
        "colab": {
          "base_uri": "https://localhost:8080/"
        },
        "id": "aeOZnzAgFcSu",
        "outputId": "96e2433f-4ba8-4986-92b7-8a4f6ca01008"
      },
      "outputs": [
        {
          "output_type": "stream",
          "name": "stdout",
          "text": [
            "섭씨 몇 도?12.5\n",
            "화씨 54.5도 입니다.\n"
          ]
        }
      ],
      "source": [
        "#Quiz1\n",
        "tempC = float(input('섭씨 몇 도?'))\n",
        "tempF = tempC * 1.8 + 32\n",
        "print(f\"화씨 {tempF}도 입니다.\")"
      ]
    },
    {
      "cell_type": "code",
      "source": [
        "#Quiz2\n",
        "name = input('이름을 입력하세요: ')\n",
        "address = input('주소를 입력하세요: ')\n",
        "weight = float(input('제품의 무게를 입력하세요: '))\n",
        "price = weight * 5\n",
        "delivery = 3000\n",
        "total_price = price + delivery\n",
        "print('')\n",
        "print('===택배 정보===', f'수취인 성명: {name}',f'수취인 주소: {address}', f'배송비: {delivery}원', f'물건 비용: {price}원', f'총 합계: {total_price}원',sep='\\n')"
      ],
      "metadata": {
        "colab": {
          "base_uri": "https://localhost:8080/"
        },
        "id": "XUwdH3E5FdqI",
        "outputId": "d36884b0-d3de-4e0f-c880-c916a4599954"
      },
      "execution_count": null,
      "outputs": [
        {
          "output_type": "stream",
          "name": "stdout",
          "text": [
            "이름을 입력하세요: 이준수\n",
            "주소를 입력하세요: 서울\n",
            "제품의 무게를 입력하세요: 40\n",
            "\n",
            "===택배 정보===\n",
            "수취인 성명: 이준수\n",
            "수취인 주소: 서울\n",
            "배송비: 3000원\n",
            "물건 비용: 200.0원\n",
            "총 합계: 3200.0원\n"
          ]
        }
      ]
    },
    {
      "cell_type": "markdown",
      "source": [
        "#Ch03 Numbers\n",
        "\n",
        "###boolean\n",
        "- 형 변환할 때 True, False인지 기억\n",
        "- 조건식에서 많이 사용 ex) 만약 이 조건이 True라면..."
      ],
      "metadata": {
        "id": "uwAFAUMWHz17"
      }
    },
    {
      "cell_type": "code",
      "source": [
        "bool(1), bool('')"
      ],
      "metadata": {
        "colab": {
          "base_uri": "https://localhost:8080/"
        },
        "id": "mCOnuTsRIZEn",
        "outputId": "2d2afc19-901e-4ee6-b340-651a41a86001"
      },
      "execution_count": null,
      "outputs": [
        {
          "output_type": "execute_result",
          "data": {
            "text/plain": [
              "(True, False)"
            ]
          },
          "metadata": {},
          "execution_count": 37
        }
      ]
    },
    {
      "cell_type": "markdown",
      "source": [
        "###integer\n",
        "- 소수점 없음\n",
        "- default 양수, 음수 앞에는 -를 붙인다\n",
        "- 숫자 앞에는 0을 붙일 수 없다 ex)05\n",
        "  - 예외적으로 0bxxx: 다른 진수 표현법\n",
        "- 리터럴: 4\n",
        "- 중간에 공백이 많아도 무시\n",
        "- 10,000 -> 10, 000 두 개로 인식 => _사용\n",
        "  - 예: 10_000"
      ],
      "metadata": {
        "id": "0JVHe6cMIgUT"
      }
    },
    {
      "cell_type": "code",
      "source": [
        "a = 09"
      ],
      "metadata": {
        "colab": {
          "base_uri": "https://localhost:8080/",
          "height": 136
        },
        "id": "hYMFyXydJJje",
        "outputId": "e8a7d136-569f-433f-cd56-0234be87a5f2"
      },
      "execution_count": null,
      "outputs": [
        {
          "output_type": "error",
          "ename": "SyntaxError",
          "evalue": "ignored",
          "traceback": [
            "\u001b[0;36m  File \u001b[0;32m\"<ipython-input-38-3427453aa51c>\"\u001b[0;36m, line \u001b[0;32m1\u001b[0m\n\u001b[0;31m    a = 09\u001b[0m\n\u001b[0m         ^\u001b[0m\n\u001b[0;31mSyntaxError\u001b[0m\u001b[0;31m:\u001b[0m invalid token\n"
          ]
        }
      ]
    },
    {
      "cell_type": "code",
      "source": [
        "4                     +  7"
      ],
      "metadata": {
        "colab": {
          "base_uri": "https://localhost:8080/"
        },
        "id": "NukCOM5TJPlJ",
        "outputId": "97efb7b1-83f2-4dc0-9f01-3fed63426ed5"
      },
      "execution_count": null,
      "outputs": [
        {
          "output_type": "execute_result",
          "data": {
            "text/plain": [
              "11"
            ]
          },
          "metadata": {},
          "execution_count": 39
        }
      ]
    },
    {
      "cell_type": "markdown",
      "source": [
        "####연산\n",
        "- 연산자|operator: +,-\n",
        "- 피연산자|operand: 1,2\n",
        "- 수식|expression"
      ],
      "metadata": {
        "id": "y1zIlzczJmRE"
      }
    },
    {
      "cell_type": "markdown",
      "source": [
        "- x + y: 더하기\n",
        "- x - y: 빼기\n",
        "- x * y: 곱하기\n",
        "- x ** y: 제곱\n",
        "- x / y: 나누기\n",
        "- x // y: 몫\n",
        "- x % y: 나머지"
      ],
      "metadata": {
        "id": "zFtmvkdSJ983"
      }
    },
    {
      "cell_type": "markdown",
      "source": [
        "#### 나눗셈에서 주의할 사항\n",
        "- division by zero => 주의 (y!=0)\n",
        "- 몫, 나머지"
      ],
      "metadata": {
        "id": "PGngNekDKZZr"
      }
    },
    {
      "cell_type": "code",
      "source": [
        "x = 8; y = 3\n",
        "divmod(x, y)    #몫과 나머지만 나옴"
      ],
      "metadata": {
        "colab": {
          "base_uri": "https://localhost:8080/"
        },
        "id": "cwTkI5N9K0An",
        "outputId": "f1bacf53-d1b0-439a-f889-bc9b4df8e06a"
      },
      "execution_count": null,
      "outputs": [
        {
          "output_type": "execute_result",
          "data": {
            "text/plain": [
              "(2, 2)"
            ]
          },
          "metadata": {},
          "execution_count": 40
        }
      ]
    },
    {
      "cell_type": "markdown",
      "source": [
        "#### 복합대입연산자|compound assignment operator"
      ],
      "metadata": {
        "id": "CvOdsIybLDHU"
      }
    },
    {
      "cell_type": "code",
      "source": [
        "a = a - 3\n",
        "#1. a - 3 계산\n",
        "#2. 임시변수 temp = a - 3\n",
        "#3. a = a - 3\n",
        "\n",
        "a -= 3"
      ],
      "metadata": {
        "id": "xPPD8ma3LTUJ"
      },
      "execution_count": null,
      "outputs": []
    },
    {
      "cell_type": "code",
      "source": [
        "u = u + 1   #u는 초기화가 안 됐기 때문에"
      ],
      "metadata": {
        "colab": {
          "base_uri": "https://localhost:8080/",
          "height": 172
        },
        "id": "LXEqtNq0LpnW",
        "outputId": "eb768c24-9745-47ab-f90d-f7985fdc16a4"
      },
      "execution_count": null,
      "outputs": [
        {
          "output_type": "error",
          "ename": "NameError",
          "evalue": "ignored",
          "traceback": [
            "\u001b[0;31m---------------------------------------------------------------------------\u001b[0m",
            "\u001b[0;31mNameError\u001b[0m                                 Traceback (most recent call last)",
            "\u001b[0;32m<ipython-input-43-d058ae7ea7f0>\u001b[0m in \u001b[0;36m<module>\u001b[0;34m()\u001b[0m\n\u001b[0;32m----> 1\u001b[0;31m \u001b[0mu\u001b[0m \u001b[0;34m=\u001b[0m \u001b[0mu\u001b[0m \u001b[0;34m+\u001b[0m \u001b[0;36m1\u001b[0m   \u001b[0;31m#u는 초기화가 안 됐기 때문에\u001b[0m\u001b[0;34m\u001b[0m\u001b[0;34m\u001b[0m\u001b[0m\n\u001b[0m",
            "\u001b[0;31mNameError\u001b[0m: name 'u' is not defined"
          ]
        }
      ]
    },
    {
      "cell_type": "code",
      "source": [
        "#Quiz1\n",
        "num = int(input('정수를 입력하세요: '))\n",
        "multiple = num % 3\n",
        "odd = num % 2\n",
        "print(multiple == 0, odd == 1)\n",
        "print('첫번째에 True가 나오면 3의 배수고, False가 나오면 3의 배수가 아닙니다. 두번째에 True가 나오면 홀수고, False가 나오면 짝수입니다.')"
      ],
      "metadata": {
        "colab": {
          "base_uri": "https://localhost:8080/"
        },
        "id": "wPzfwsmgI1LG",
        "outputId": "fea784f4-9081-4bd5-e765-1dc9c0940f32"
      },
      "execution_count": null,
      "outputs": [
        {
          "output_type": "stream",
          "name": "stdout",
          "text": [
            "정수를 입력하세요: 5\n",
            "False True\n",
            "첫번째에 True가 나오면 3의 배수고, False가 나오면 3의 배수가 아닙니다. 두번째에 True가 나오면 홀수고, False가 나오면 짝수입니다.\n"
          ]
        }
      ]
    },
    {
      "cell_type": "markdown",
      "source": [
        "#### 지수표현\n",
        "- e, E 둘 다 가능\n",
        "- 앞부분은 float, int 가능\n",
        "- 뒷부분은 int만 가능\n",
        "  - 양수면 0 앞으로\n",
        "  - 음수면 0 뒤로"
      ],
      "metadata": {
        "id": "Y83KoMcBMTnL"
      }
    },
    {
      "cell_type": "code",
      "source": [
        "1.2e6, 1.2e-2  #float"
      ],
      "metadata": {
        "colab": {
          "base_uri": "https://localhost:8080/"
        },
        "id": "AjrEyze4MXmL",
        "outputId": "637d3e09-53ad-4a1c-97cf-f3497d9856ea"
      },
      "execution_count": null,
      "outputs": [
        {
          "output_type": "execute_result",
          "data": {
            "text/plain": [
              "(1200000.0, 0.012)"
            ]
          },
          "metadata": {},
          "execution_count": 47
        }
      ]
    },
    {
      "cell_type": "markdown",
      "source": [
        "## 조건문, if\n",
        "- code structure"
      ],
      "metadata": {
        "id": "MF6xy_EUNLlZ"
      }
    },
    {
      "cell_type": "markdown",
      "source": [
        "### 코드 짜는 룰\n",
        "- 주석 다는 법\n",
        "  - 설명하는 부분\n",
        "  - 목적: 의도를 표현한다\n",
        "  - '#'가 시작되는 부분부터 그 라인의 끝까지가 주석\n",
        "  - 문자열 안에 있는 #는 문자열로 인식됨\n",
        "  - \"\"\"<주석>\"\"\" (긴 주석을 달 때)\n",
        "\n",
        "- 라인 유지하기\n",
        "  - 들여쓰기, 공백 4개, 탭 1개\n",
        "  - 한 줄에 최대 80자 넘지 않게\n",
        "  - 80자 넘으면 백슬래시로 끊어준다(|)"
      ],
      "metadata": {
        "id": "NBagIMxSNY87"
      }
    },
    {
      "cell_type": "markdown",
      "source": [
        "- 조건 1개\n",
        "if<조건식>:\n",
        "  <실행할 코드>\n",
        "\n",
        "- 조건 2개\n",
        "if<조건식>:\n",
        "  <실행할 코드>\n",
        "else:\n",
        "  <실행할 코드2>\n",
        "\n",
        "- 조건 여러개\n",
        "if<조건식>:\n",
        "  <실행할 코드>\n",
        "elif<조건식2>:\n",
        "  <실행할 코드2>\n",
        "else:\n",
        "  <실행할 코드3>\n",
        "\n",
        "- if, elif, else가 같은 라인이고, 코드들 들여쓰기가 중요함"
      ],
      "metadata": {
        "id": "vuri9HlXwKcC"
      }
    },
    {
      "cell_type": "markdown",
      "source": [
        "### 비교 연산자\n",
        "- x > y, x >= y\n",
        "- x < y, x <= y\n",
        "- x == y (값)\n",
        "- x != y (값)\n",
        "- x is y (값, 메모리 주소)\n",
        "- x is not y"
      ],
      "metadata": {
        "id": "KY_B7dkTxO3e"
      }
    },
    {
      "cell_type": "code",
      "source": [
        "#Quiz1\n",
        "score = float(input('학점을 입력하세요: '))\n",
        "if score >= 90:\n",
        "  grade = 'A'\n",
        "elif score >= 80:\n",
        "  grade = 'B'\n",
        "elif score >= 70:\n",
        "  grade = 'C'\n",
        "else:\n",
        "  grade = 'D'\n",
        "print(f'학점 {score}는 {grade}입니다.')"
      ],
      "metadata": {
        "colab": {
          "base_uri": "https://localhost:8080/"
        },
        "id": "6qxHtu1OTTND",
        "outputId": "f99551fb-5dd6-4eca-c142-18355a1012bd"
      },
      "execution_count": null,
      "outputs": [
        {
          "output_type": "stream",
          "name": "stdout",
          "text": [
            "학점을 입력하세요: 90\n",
            "학점 90.0는 A입니다.\n"
          ]
        }
      ]
    },
    {
      "cell_type": "code",
      "source": [
        "#Quiz2\n",
        "my_id = '이준수'\n",
        "my_password = '멋쟁이'\n",
        "id_1 = input('ID를 입력하세요: ')\n",
        "password = input('비밀번호를 입력하세요: ')\n",
        "if my_id == id_1 and my_password == password:\n",
        "  print('나도 알아 ^^')\n",
        "elif my_id != id_1:\n",
        "  print('ID가 틀렸어!\\n힌트: 내 이름!')\n",
        "else:\n",
        "  print('비밀번호가 틀렸어!\\n힌트: 이준수는 OOO다.')"
      ],
      "metadata": {
        "colab": {
          "base_uri": "https://localhost:8080/"
        },
        "id": "vfPfE87yZNe_",
        "outputId": "59bed24f-af99-4195-978f-e1a8cd8c7821"
      },
      "execution_count": null,
      "outputs": [
        {
          "output_type": "stream",
          "name": "stdout",
          "text": [
            "ID를 입력하세요: 이준수\n",
            "비밀번호를 입력하세요: 멋쟁이\n",
            "나도 알아 ^^\n"
          ]
        }
      ]
    },
    {
      "cell_type": "markdown",
      "source": [
        "### 논리 연산자\n",
        "- 여러 조건식을 비교할 때\n",
        "  - ex) 10 < x < 20\n",
        "    - 파이썬에서만 가능한 표현\n",
        "- and, &: 둘 다 참일 때 True\n",
        "- or, |: 둘 중 하나만 참이여도 True\n",
        "- not: 참 -> False, 거짓 -> True"
      ],
      "metadata": {
        "id": "3av-U7Kkx9ek"
      }
    },
    {
      "cell_type": "code",
      "source": [
        "#Quiz3\n",
        "score = float(input('학점을 입력하세요: '))\n",
        "absence = int(input('결석 횟수를 입력하세요: '))\n",
        "if score >= 80:\n",
        "  if absence >= 2:\n",
        "    grade = 'F'\n",
        "  else:\n",
        "    if score >= 90:\n",
        "      grade = 'A'\n",
        "    else:\n",
        "      grade = 'B'\n",
        "elif score >= 70:\n",
        "  grade = 'C'\n",
        "else:\n",
        "  grade = 'D'\n",
        "print(f'{score}점, 결석 {absence}회로 {grade}입니다.')"
      ],
      "metadata": {
        "colab": {
          "base_uri": "https://localhost:8080/"
        },
        "id": "ZqSjI18javQU",
        "outputId": "ed8bbc3c-2211-40c2-b06b-21487b11280c"
      },
      "execution_count": null,
      "outputs": [
        {
          "output_type": "stream",
          "name": "stdout",
          "text": [
            "학점을 입력하세요: 91\n",
            "결석 횟수를 입력하세요: 3\n",
            "91.0점, 결석 3회로 F입니다.\n"
          ]
        }
      ]
    }
  ]
}