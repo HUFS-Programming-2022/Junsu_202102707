{
  "nbformat": 4,
  "nbformat_minor": 0,
  "metadata": {
    "colab": {
      "name": "week_06.ipynb",
      "provenance": [],
      "collapsed_sections": [
        "OqTbH5P589Wj"
      ],
      "authorship_tag": "ABX9TyN+n4FTxsPBUPAtQ8m2hqSA",
      "include_colab_link": true
    },
    "kernelspec": {
      "name": "python3",
      "display_name": "Python 3"
    },
    "language_info": {
      "name": "python"
    }
  },
  "cells": [
    {
      "cell_type": "markdown",
      "metadata": {
        "id": "view-in-github",
        "colab_type": "text"
      },
      "source": [
        "<a href=\"https://colab.research.google.com/github/HUFS-Programming-2022/Junsu_202102707/blob/main/week_06.ipynb\" target=\"_parent\"><img src=\"https://colab.research.google.com/assets/colab-badge.svg\" alt=\"Open In Colab\"/></a>"
      ]
    },
    {
      "cell_type": "markdown",
      "source": [
        ""
      ],
      "metadata": {
        "id": "B4q1sVlEOxyk"
      }
    },
    {
      "cell_type": "code",
      "source": [
        "import nltk\n",
        "nltk.download()"
      ],
      "metadata": {
        "colab": {
          "base_uri": "https://localhost:8080/"
        },
        "id": "gXvkt0sIXx78",
        "outputId": "77e0ac71-7c09-4f53-d7b5-7ba7d9450bce"
      },
      "execution_count": 1,
      "outputs": [
        {
          "name": "stdout",
          "output_type": "stream",
          "text": [
            "NLTK Downloader\n",
            "---------------------------------------------------------------------------\n",
            "    d) Download   l) List    u) Update   c) Config   h) Help   q) Quit\n",
            "---------------------------------------------------------------------------\n",
            "Downloader> q\n"
          ]
        },
        {
          "output_type": "execute_result",
          "data": {
            "text/plain": [
              "True"
            ]
          },
          "metadata": {},
          "execution_count": 1
        }
      ]
    },
    {
      "cell_type": "code",
      "execution_count": 2,
      "metadata": {
        "colab": {
          "base_uri": "https://localhost:8080/"
        },
        "id": "OEfbyUwCOs3E",
        "outputId": "44f892b3-021e-4d3e-ae41-11da9387cef6"
      },
      "outputs": [
        {
          "output_type": "stream",
          "name": "stdout",
          "text": [
            "[nltk_data] Downloading package brown to /root/nltk_data...\n",
            "[nltk_data]   Unzipping corpora/brown.zip.\n",
            "[nltk_data] Downloading package inaugural to /root/nltk_data...\n",
            "[nltk_data]   Unzipping corpora/inaugural.zip.\n"
          ]
        },
        {
          "output_type": "execute_result",
          "data": {
            "text/plain": [
              "True"
            ]
          },
          "metadata": {},
          "execution_count": 2
        }
      ],
      "source": [
        "import nltk\n",
        "nltk.download(['brown', 'inaugural'])"
      ]
    },
    {
      "cell_type": "code",
      "source": [
        "brown = nltk.corpus.brown"
      ],
      "metadata": {
        "id": "bY3gnnvSRF5q"
      },
      "execution_count": 3,
      "outputs": []
    },
    {
      "cell_type": "code",
      "source": [
        "#cfd\n",
        "cfd = nltk.ConditionalFreqDist(\n",
        "    (genre, word)\n",
        "    for genre in brown.categories()\n",
        "    for word in brown.words(categories=genre)\n",
        ")\n",
        "\n",
        "modals = ['can', 'could', 'would', 'will', 'might', 'may']\n",
        "cfd.tabulate(conditions=brown.categories(), samples=modals)"
      ],
      "metadata": {
        "colab": {
          "base_uri": "https://localhost:8080/"
        },
        "id": "7hfqq8ohRMWa",
        "outputId": "2475a57e-ad2d-4cfa-f74a-6034a696291a"
      },
      "execution_count": 4,
      "outputs": [
        {
          "output_type": "stream",
          "name": "stdout",
          "text": [
            "                  can could would  will might   may \n",
            "      adventure    46   151   191    50    58     5 \n",
            " belles_lettres   246   213   392   236   113   207 \n",
            "      editorial   121    56   180   233    39    74 \n",
            "        fiction    37   166   287    52    44     8 \n",
            "     government   117    38   120   244    13   153 \n",
            "        hobbies   268    58    78   264    22   131 \n",
            "          humor    16    30    56    13     8     8 \n",
            "        learned   365   159   319   340   128   324 \n",
            "           lore   170   141   186   175    49   165 \n",
            "        mystery    42   141   186    20    57    13 \n",
            "           news    93    86   244   389    38    66 \n",
            "       religion    82    59    68    71    12    78 \n",
            "        reviews    45    40    47    58    26    45 \n",
            "        romance    74   193   244    43    51    11 \n",
            "science_fiction    16    49    79    16    12     4 \n"
          ]
        }
      ]
    },
    {
      "cell_type": "code",
      "source": [
        "#바로 위 코드를 cfd 하나로!\n",
        "import nltk\n",
        "nltk.download('brown')\n",
        "from nltk.corpus import brown\n",
        "\n",
        "\n",
        "\n",
        "cfd = nltk.ConditionalFreqDist(\n",
        "    (genre, modals)\n",
        "    for genre in brown.categories()\n",
        "    for word in brown.words(categories=genre)\n",
        "    for modals in ['can', 'could', 'may', 'might', 'will', 'would']\n",
        "      if word.lower() == modals\n",
        ")\n",
        "\n",
        "cfd.tabulate()\n",
        "cfd.plot()"
      ],
      "metadata": {
        "id": "3GGQKFxi6zPi",
        "colab": {
          "base_uri": "https://localhost:8080/",
          "height": 626
        },
        "outputId": "5e2ac38a-9f57-4a83-8a80-57856d21c7c3"
      },
      "execution_count": 5,
      "outputs": [
        {
          "output_type": "stream",
          "name": "stdout",
          "text": [
            "[nltk_data] Downloading package brown to /root/nltk_data...\n",
            "[nltk_data]   Package brown is already up-to-date!\n",
            "                  can could   may might  will would \n",
            "      adventure    48   154     7    59    51   194 \n",
            " belles_lettres   249   216   221   113   246   397 \n",
            "      editorial   124    57    79    39   235   185 \n",
            "        fiction    39   168    10    44    56   291 \n",
            "     government   119    38   179    13   244   120 \n",
            "        hobbies   276    59   143    22   269    83 \n",
            "          humor    17    33     8     8    13    56 \n",
            "        learned   367   159   336   128   340   321 \n",
            "           lore   170   142   170    50   178   188 \n",
            "        mystery    45   145    15    57    25   189 \n",
            "           news    94    87    93    38   389   246 \n",
            "       religion    84    59    79    12    72    69 \n",
            "        reviews    45    40    47    26    61    48 \n",
            "        romance    79   195    11    51    49   247 \n",
            "science_fiction    16    49     4    12    17    80 \n"
          ]
        },
        {
          "output_type": "display_data",
          "data": {
            "text/plain": [
              "<Figure size 432x288 with 1 Axes>"
            ],
            "image/png": "[encoded data removed]"
          },
          "metadata": {
            "needs_background": "light"
          }
        }
      ]
    },
    {
      "cell_type": "markdown",
      "source": [
        "### Inaugural\n",
        "- 연설문 코퍼스\n",
        "- 연도-이름.txt"
      ],
      "metadata": {
        "id": "8ERennOVcUnv"
      }
    },
    {
      "cell_type": "code",
      "source": [
        "inaugural = nltk.corpus.inaugural"
      ],
      "metadata": {
        "id": "1WpivPx7RaGg"
      },
      "execution_count": 6,
      "outputs": []
    },
    {
      "cell_type": "code",
      "source": [
        "inaugural.fileids()[:5]"
      ],
      "metadata": {
        "id": "eehqxdjVSTGO",
        "colab": {
          "base_uri": "https://localhost:8080/"
        },
        "outputId": "1fc0d2a7-d62d-4ab5-b2ca-3f0feb96f6f1"
      },
      "execution_count": 7,
      "outputs": [
        {
          "output_type": "execute_result",
          "data": {
            "text/plain": [
              "['1789-Washington.txt',\n",
              " '1793-Washington.txt',\n",
              " '1797-Adams.txt',\n",
              " '1801-Jefferson.txt',\n",
              " '1805-Jefferson.txt']"
            ]
          },
          "metadata": {},
          "execution_count": 7
        }
      ]
    },
    {
      "cell_type": "code",
      "source": [
        "inaugural = nltk.corpus.inaugural\n",
        "\n",
        "cfd = nltk.ConditionalFreqDist(\n",
        "    (words, file[:-4])\n",
        "    for file in inaugural.fileids()\n",
        "    for words in ['citizen', 'america', 'earth', 'international', 'attack']\n",
        "\n",
        "    for word in inaugural.words(fileids=file)\n",
        "      if word.lower() == words\n",
        ")\n",
        "\n",
        "import matplotlib.pyplot as plt\n",
        "plt.figure(figsize=(20, 2.5))\n",
        "cfd.plot()"
      ],
      "metadata": {
        "colab": {
          "base_uri": "https://localhost:8080/",
          "height": 275
        },
        "id": "dCmN7qq3SXxw",
        "outputId": "cb1cf29f-97bd-46c0-cb16-82c765ab67a5"
      },
      "execution_count": 8,
      "outputs": [
        {
          "output_type": "display_data",
          "data": {
            "text/plain": [
              "<Figure size 1440x180 with 1 Axes>"
            ],
            "image/png": "[encoded data removed]"
          },
          "metadata": {
            "needs_background": "light"
          }
        }
      ]
    },
    {
      "cell_type": "markdown",
      "source": [
        "### Tuple & List\n",
        "- 불변 객체 vs. 가변 객체"
      ],
      "metadata": {
        "id": "S2xLNg-2V-_3"
      }
    },
    {
      "cell_type": "code",
      "source": [
        "# 생성\n",
        "emptyT = ()\n",
        "emptyT = tuple()\n",
        "\n",
        "emptyL = []\n",
        "emptyL = list()\n",
        "\n",
        "emptyT, emptyL"
      ],
      "metadata": {
        "colab": {
          "base_uri": "https://localhost:8080/"
        },
        "id": "pJr3EfovTabp",
        "outputId": "56f3850e-dfe3-428a-dbc5-45627d53925c"
      },
      "execution_count": 9,
      "outputs": [
        {
          "output_type": "execute_result",
          "data": {
            "text/plain": [
              "((), [])"
            ]
          },
          "metadata": {},
          "execution_count": 9
        }
      ]
    },
    {
      "cell_type": "code",
      "source": [
        "#1.1 요소가 여러 개일 때\n",
        "alphabetT = ('a', 'b') #튜플\n",
        "alphabetT = 'a', 'b'  #튜플\n",
        "alphabetT\n",
        "\n",
        "alphabetL = ['a', 'b']  #리스트"
      ],
      "metadata": {
        "id": "8TwTJhTZWb78"
      },
      "execution_count": 10,
      "outputs": []
    },
    {
      "cell_type": "code",
      "source": [
        "#1.2 요소가 1개일 때\n",
        "alphaT = ('a') #str(튜플 아님)\n",
        "\n",
        "alphaT = ('b',) # 튜플\n",
        "\n",
        "#리스트는 상관 없음"
      ],
      "metadata": {
        "id": "T5Qn3HhmWcC-"
      },
      "execution_count": 11,
      "outputs": []
    },
    {
      "cell_type": "code",
      "source": [
        ""
      ],
      "metadata": {
        "id": "KhPbZOnxXdT2"
      },
      "execution_count": 11,
      "outputs": []
    },
    {
      "cell_type": "markdown",
      "source": [
        "- packing: 한 변수에 여러 데이터를 할당하는 것.\n",
        "  - list, tuple 자체\n",
        "    - a = [1, 2, 3]\n",
        "\n",
        "- unpacking: 한 변수에 여러 데이터가 들어 있을 때 여러 변수에 나누는 것\n",
        "  - a='k', b='i', c='m'"
      ],
      "metadata": {
        "id": "zrokEQ9qXCNR"
      }
    },
    {
      "cell_type": "code",
      "source": [
        "a, b, c = 'kim' #unpacking\n",
        "a, b, c"
      ],
      "metadata": {
        "colab": {
          "base_uri": "https://localhost:8080/"
        },
        "id": "OFCBi8tJWcIn",
        "outputId": "885f48cd-5fa4-4008-cb42-a3c62eef26b3"
      },
      "execution_count": 12,
      "outputs": [
        {
          "output_type": "execute_result",
          "data": {
            "text/plain": [
              "('k', 'i', 'm')"
            ]
          },
          "metadata": {},
          "execution_count": 12
        }
      ]
    },
    {
      "cell_type": "markdown",
      "source": [
        "###값 교환하기"
      ],
      "metadata": {
        "id": "JrTXg9Vmc05t"
      }
    },
    {
      "cell_type": "code",
      "source": [
        "pwd = 'abcd'\n",
        "userid = 'sky'\n",
        "\n",
        "pwd = userid\n",
        "pwd, userid"
      ],
      "metadata": {
        "colab": {
          "base_uri": "https://localhost:8080/"
        },
        "id": "xSFurhYrc6Kv",
        "outputId": "f04d532e-616e-46a0-8c59-8691f9453df8"
      },
      "execution_count": 13,
      "outputs": [
        {
          "output_type": "execute_result",
          "data": {
            "text/plain": [
              "('sky', 'sky')"
            ]
          },
          "metadata": {},
          "execution_count": 13
        }
      ]
    },
    {
      "cell_type": "code",
      "source": [
        "pwd = 'abcd'\n",
        "userid = 'sky'\n",
        "'''\n",
        "temp1 = userid\n",
        "temp2 = pwd\n",
        "pwd = temp1\n",
        "userid = temp2\n",
        "'''\n",
        "\n",
        "pwd, userid = userid, pwd\n",
        "pwd, userid"
      ],
      "metadata": {
        "colab": {
          "base_uri": "https://localhost:8080/"
        },
        "id": "bctXZtxPWcNo",
        "outputId": "903acaf3-7701-454c-c4f4-019b31dbed49"
      },
      "execution_count": 14,
      "outputs": [
        {
          "output_type": "execute_result",
          "data": {
            "text/plain": [
              "('sky', 'abcd')"
            ]
          },
          "metadata": {},
          "execution_count": 14
        }
      ]
    },
    {
      "cell_type": "code",
      "source": [
        "#연산\n",
        "x = ('a',)\n",
        "y = (1, 2)\n",
        "('a',) + (1, 2)\n",
        "(1, 2) * 3\n",
        "\n",
        "id(x), id(x + y)"
      ],
      "metadata": {
        "colab": {
          "base_uri": "https://localhost:8080/"
        },
        "id": "qbI0d7D7X8YN",
        "outputId": "86971767-4386-4a75-c0f8-4f953fe8bc5a"
      },
      "execution_count": 15,
      "outputs": [
        {
          "output_type": "execute_result",
          "data": {
            "text/plain": [
              "(140281025426256, 140281026752016)"
            ]
          },
          "metadata": {},
          "execution_count": 15
        }
      ]
    },
    {
      "cell_type": "code",
      "source": [
        "#비교\n",
        "x = 1, 2\n",
        "y = 1, 6\n",
        "\n",
        "x < y"
      ],
      "metadata": {
        "colab": {
          "base_uri": "https://localhost:8080/"
        },
        "id": "FYRoQBeTX8mH",
        "outputId": "d2fc0dcb-1417-4825-bed4-4e01a5575bdf"
      },
      "execution_count": 16,
      "outputs": [
        {
          "output_type": "execute_result",
          "data": {
            "text/plain": [
              "True"
            ]
          },
          "metadata": {},
          "execution_count": 16
        }
      ]
    },
    {
      "cell_type": "code",
      "source": [
        "#순회\n",
        "for i in x:\n",
        "  print(x)"
      ],
      "metadata": {
        "colab": {
          "base_uri": "https://localhost:8080/"
        },
        "id": "TtjYAWT_YXyk",
        "outputId": "1fd21d0a-5e72-4825-8d2c-281e5e180e73"
      },
      "execution_count": 17,
      "outputs": [
        {
          "output_type": "stream",
          "name": "stdout",
          "text": [
            "(1, 2)\n",
            "(1, 2)\n"
          ]
        }
      ]
    },
    {
      "cell_type": "code",
      "source": [
        "[i for i in x] #1"
      ],
      "metadata": {
        "id": "HIk7PgFnYq34",
        "colab": {
          "base_uri": "https://localhost:8080/"
        },
        "outputId": "ee13e758-cea0-46c4-81d0-1a7d7339d027"
      },
      "execution_count": 18,
      "outputs": [
        {
          "output_type": "execute_result",
          "data": {
            "text/plain": [
              "[1, 2]"
            ]
          },
          "metadata": {},
          "execution_count": 18
        }
      ]
    },
    {
      "cell_type": "code",
      "source": [
        "#tuple comprehension?\n",
        "tuple([i for i in x]) #2\n",
        "*[i for i in x], #느림 #3"
      ],
      "metadata": {
        "id": "EiVok-POYX5V",
        "colab": {
          "base_uri": "https://localhost:8080/"
        },
        "outputId": "6639c111-dd46-492d-8db5-eee90713172a"
      },
      "execution_count": 19,
      "outputs": [
        {
          "output_type": "execute_result",
          "data": {
            "text/plain": [
              "(1, 2)"
            ]
          },
          "metadata": {},
          "execution_count": 19
        }
      ]
    },
    {
      "cell_type": "code",
      "source": [
        "#형변환\n",
        "\n",
        "dog = 'dog'\n",
        "dogT = tuple(dog)\n",
        "tuple(dog), list(dog), (dog,)"
      ],
      "metadata": {
        "colab": {
          "base_uri": "https://localhost:8080/"
        },
        "id": "LVMFe9gEYvNi",
        "outputId": "f7693c01-83b0-44bf-969d-0cb7aad3d0c2"
      },
      "execution_count": 20,
      "outputs": [
        {
          "output_type": "execute_result",
          "data": {
            "text/plain": [
              "(('d', 'o', 'g'), ['d', 'o', 'g'], ('dog',))"
            ]
          },
          "metadata": {},
          "execution_count": 20
        }
      ]
    },
    {
      "cell_type": "code",
      "source": [
        "#슬라이싱도 동일하게 가능하다.\n",
        "dogT[0]"
      ],
      "metadata": {
        "colab": {
          "base_uri": "https://localhost:8080/",
          "height": 35
        },
        "id": "PTucmLo5YvUZ",
        "outputId": "fa4f77ba-1d91-4c89-9772-06231f732c33"
      },
      "execution_count": 21,
      "outputs": [
        {
          "output_type": "execute_result",
          "data": {
            "text/plain": [
              "'d'"
            ],
            "application/vnd.google.colaboratory.intrinsic+json": {
              "type": "string"
            }
          },
          "metadata": {},
          "execution_count": 21
        }
      ]
    },
    {
      "cell_type": "markdown",
      "source": [
        "[정리]\n",
        "- tuple 장점\n",
        "  - 변하지 않는 데이터 시퀀스를 만들 수 있다.\n",
        "  - 타인의 접근 막는다.\n",
        "  - 메모리 사용 적다.\n",
        "-list 장점\n",
        "  - 튜플 장점 필요 없을 때 전부 리스트 사용\n",
        "  - 데이터를 순차적으로 파악할 때\n",
        "  - 중복 데이터를 쓸 수 있음 vs. set"
      ],
      "metadata": {
        "id": "9HmvII9cWGLF"
      }
    },
    {
      "cell_type": "markdown",
      "source": [
        "### 리스트의 유용한 함수들\n",
        "- 변경, 삭제, 추가\n",
        "- 리스트컴프리핸션 업그레이드"
      ],
      "metadata": {
        "id": "4224KeJlZjLy"
      }
    },
    {
      "cell_type": "markdown",
      "source": [
        "- list.append(value)\n",
        "- list.insert(index, value)\n",
        "- list.extend(list')\n",
        "- del list[]\n",
        "- list.remove(value)\n",
        "- list.pop(index)\n",
        "- list.clear()\n",
        "- sort(), sorted()\n",
        "- reverse(), reversed()\n"
      ],
      "metadata": {
        "id": "EQdKrn5jnnPg"
      }
    },
    {
      "cell_type": "code",
      "source": [
        "num = list(range(5))\n",
        "num"
      ],
      "metadata": {
        "colab": {
          "base_uri": "https://localhost:8080/"
        },
        "id": "3b3wHasyZgrm",
        "outputId": "a74bc32c-67d0-434c-97cb-cc0949d6e2da"
      },
      "execution_count": 22,
      "outputs": [
        {
          "output_type": "execute_result",
          "data": {
            "text/plain": [
              "[0, 1, 2, 3, 4]"
            ]
          },
          "metadata": {},
          "execution_count": 22
        }
      ]
    },
    {
      "cell_type": "code",
      "source": [
        "#추가\n",
        "num.append(6) #마지막에 요소 1개 추가"
      ],
      "metadata": {
        "id": "d5OF6B9CZ5fP"
      },
      "execution_count": 23,
      "outputs": []
    },
    {
      "cell_type": "code",
      "source": [
        "num #append한 뒤 다시 할당할 필요가 없음"
      ],
      "metadata": {
        "colab": {
          "base_uri": "https://localhost:8080/"
        },
        "id": "Sq2qWn_0Z-8B",
        "outputId": "c247db53-cb55-4122-8e0d-bee46a62568c"
      },
      "execution_count": 24,
      "outputs": [
        {
          "output_type": "execute_result",
          "data": {
            "text/plain": [
              "[0, 1, 2, 3, 4, 6]"
            ]
          },
          "metadata": {},
          "execution_count": 24
        }
      ]
    },
    {
      "cell_type": "code",
      "source": [
        "# insert(index, item)\n",
        "num.insert(0, 8)\n",
        "num"
      ],
      "metadata": {
        "colab": {
          "base_uri": "https://localhost:8080/"
        },
        "id": "OziRuqIAZ_2I",
        "outputId": "b9f5960e-2122-4c0a-fc66-fd42a65e9812"
      },
      "execution_count": 25,
      "outputs": [
        {
          "output_type": "execute_result",
          "data": {
            "text/plain": [
              "[8, 0, 1, 2, 3, 4, 6]"
            ]
          },
          "metadata": {},
          "execution_count": 25
        }
      ]
    },
    {
      "cell_type": "code",
      "source": [
        "#여러 개 추가\n",
        "num.extend([6,6,6]) #리스트에 리스트 확장(한번 더 실행하면 추가된 것에 더 추가됨)\n",
        "num"
      ],
      "metadata": {
        "colab": {
          "base_uri": "https://localhost:8080/"
        },
        "id": "fnvH3nmvaMek",
        "outputId": "50b62cf2-7c7e-450e-a703-bba8669bcce2"
      },
      "execution_count": 26,
      "outputs": [
        {
          "output_type": "execute_result",
          "data": {
            "text/plain": [
              "[8, 0, 1, 2, 3, 4, 6, 6, 6, 6]"
            ]
          },
          "metadata": {},
          "execution_count": 26
        }
      ]
    },
    {
      "cell_type": "code",
      "source": [
        "x = [6, 6, 6]\n",
        "\n",
        "num.append(x)\n",
        "num   #리스트가 추가됨"
      ],
      "metadata": {
        "colab": {
          "base_uri": "https://localhost:8080/"
        },
        "id": "0_rxjBMFaXSo",
        "outputId": "ab79466d-8a75-4a61-b10e-cfb8192b5829"
      },
      "execution_count": 27,
      "outputs": [
        {
          "output_type": "execute_result",
          "data": {
            "text/plain": [
              "[8, 0, 1, 2, 3, 4, 6, 6, 6, 6, [6, 6, 6]]"
            ]
          },
          "metadata": {},
          "execution_count": 27
        }
      ]
    },
    {
      "cell_type": "code",
      "source": [
        "num += x\n",
        "num   #extend와 동일"
      ],
      "metadata": {
        "colab": {
          "base_uri": "https://localhost:8080/"
        },
        "id": "e-6VcQfWalLl",
        "outputId": "76d7fbd5-c155-40d5-e773-06df3483f5a4"
      },
      "execution_count": 28,
      "outputs": [
        {
          "output_type": "execute_result",
          "data": {
            "text/plain": [
              "[8, 0, 1, 2, 3, 4, 6, 6, 6, 6, [6, 6, 6], 6, 6, 6]"
            ]
          },
          "metadata": {},
          "execution_count": 28
        }
      ]
    },
    {
      "cell_type": "code",
      "source": [
        "#offset\n",
        "num[0] = 9\n",
        "num"
      ],
      "metadata": {
        "colab": {
          "base_uri": "https://localhost:8080/"
        },
        "id": "gL6kMpvDasA-",
        "outputId": "a0215f27-8b13-4782-a0ba-fae8f2765a40"
      },
      "execution_count": 29,
      "outputs": [
        {
          "output_type": "execute_result",
          "data": {
            "text/plain": [
              "[9, 0, 1, 2, 3, 4, 6, 6, 6, 6, [6, 6, 6], 6, 6, 6]"
            ]
          },
          "metadata": {},
          "execution_count": 29
        }
      ]
    },
    {
      "cell_type": "code",
      "source": [
        "#slice\n",
        "num[:3] = 2, 2, 2\n",
        "num"
      ],
      "metadata": {
        "colab": {
          "base_uri": "https://localhost:8080/"
        },
        "id": "zW7sStQPavmn",
        "outputId": "4af5bd85-d7be-4aef-86bd-c22ce430100a"
      },
      "execution_count": 30,
      "outputs": [
        {
          "output_type": "execute_result",
          "data": {
            "text/plain": [
              "[2, 2, 2, 2, 3, 4, 6, 6, 6, 6, [6, 6, 6], 6, 6, 6]"
            ]
          },
          "metadata": {},
          "execution_count": 30
        }
      ]
    },
    {
      "cell_type": "code",
      "source": [
        "num[:3] = 'cat'\n",
        "num"
      ],
      "metadata": {
        "colab": {
          "base_uri": "https://localhost:8080/"
        },
        "id": "oYKw71Dra08a",
        "outputId": "e1af0be9-2406-49be-a4af-e3c1c7aaef49"
      },
      "execution_count": 31,
      "outputs": [
        {
          "output_type": "execute_result",
          "data": {
            "text/plain": [
              "['c', 'a', 't', 2, 3, 4, 6, 6, 6, 6, [6, 6, 6], 6, 6, 6]"
            ]
          },
          "metadata": {},
          "execution_count": 31
        }
      ]
    },
    {
      "cell_type": "code",
      "source": [
        "#삭제\n",
        "del num[:3]\n",
        "num"
      ],
      "metadata": {
        "colab": {
          "base_uri": "https://localhost:8080/"
        },
        "id": "9-A3lu1Xa5Tv",
        "outputId": "d60cd0a0-8ede-432d-fbc8-cf79494d2abe"
      },
      "execution_count": 32,
      "outputs": [
        {
          "output_type": "execute_result",
          "data": {
            "text/plain": [
              "[2, 3, 4, 6, 6, 6, 6, [6, 6, 6], 6, 6, 6]"
            ]
          },
          "metadata": {},
          "execution_count": 32
        }
      ]
    },
    {
      "cell_type": "code",
      "source": [
        "#remove(value)\n",
        "num.remove(2)\n",
        "num"
      ],
      "metadata": {
        "colab": {
          "base_uri": "https://localhost:8080/"
        },
        "id": "MvT-aAd8bEE3",
        "outputId": "bb077b98-b323-44f8-ecbc-54d322b85693"
      },
      "execution_count": 33,
      "outputs": [
        {
          "output_type": "execute_result",
          "data": {
            "text/plain": [
              "[3, 4, 6, 6, 6, 6, [6, 6, 6], 6, 6, 6]"
            ]
          },
          "metadata": {},
          "execution_count": 33
        }
      ]
    },
    {
      "cell_type": "code",
      "source": [
        "# pop(index) 인덱스 기본값: -1\n",
        "num.pop()\n",
        "num"
      ],
      "metadata": {
        "colab": {
          "base_uri": "https://localhost:8080/"
        },
        "id": "SPaIylXUbJzZ",
        "outputId": "a61776d2-fcba-47fd-9f78-bbb52e9333e6"
      },
      "execution_count": 34,
      "outputs": [
        {
          "output_type": "execute_result",
          "data": {
            "text/plain": [
              "[3, 4, 6, 6, 6, 6, [6, 6, 6], 6, 6]"
            ]
          },
          "metadata": {},
          "execution_count": 34
        }
      ]
    },
    {
      "cell_type": "code",
      "source": [
        "num.pop(0)\n",
        "num"
      ],
      "metadata": {
        "colab": {
          "base_uri": "https://localhost:8080/"
        },
        "id": "y_TfBxv7bRcj",
        "outputId": "c05ffc68-fd53-4b8b-d8e0-5004cdc2cdee"
      },
      "execution_count": 35,
      "outputs": [
        {
          "output_type": "execute_result",
          "data": {
            "text/plain": [
              "[4, 6, 6, 6, 6, [6, 6, 6], 6, 6]"
            ]
          },
          "metadata": {},
          "execution_count": 35
        }
      ]
    },
    {
      "cell_type": "code",
      "source": [
        "#clear\n",
        "num.clear()\n",
        "num"
      ],
      "metadata": {
        "colab": {
          "base_uri": "https://localhost:8080/"
        },
        "id": "h-9iluMdbWey",
        "outputId": "651d4998-425f-4106-e45b-c991a0bb35da"
      },
      "execution_count": 36,
      "outputs": [
        {
          "output_type": "execute_result",
          "data": {
            "text/plain": [
              "[]"
            ]
          },
          "metadata": {},
          "execution_count": 36
        }
      ]
    },
    {
      "cell_type": "code",
      "source": [
        "# 인덱스\n",
        "num = list(range(5))\n",
        "num.index(4)"
      ],
      "metadata": {
        "colab": {
          "base_uri": "https://localhost:8080/"
        },
        "id": "gUKha_2KbcO3",
        "outputId": "3e5cbcf1-0ab3-4781-98d5-65c492602c1b"
      },
      "execution_count": 37,
      "outputs": [
        {
          "output_type": "execute_result",
          "data": {
            "text/plain": [
              "4"
            ]
          },
          "metadata": {},
          "execution_count": 37
        }
      ]
    },
    {
      "cell_type": "code",
      "source": [
        "0 in num"
      ],
      "metadata": {
        "colab": {
          "base_uri": "https://localhost:8080/"
        },
        "id": "cjbWCRnXbl9o",
        "outputId": "0fd4834b-ae64-44b7-8485-21e9a92b859b"
      },
      "execution_count": 38,
      "outputs": [
        {
          "output_type": "execute_result",
          "data": {
            "text/plain": [
              "True"
            ]
          },
          "metadata": {},
          "execution_count": 38
        }
      ]
    },
    {
      "cell_type": "code",
      "source": [
        "#정렬: sort(), sorted()\n",
        "sorted(num, reverse=True), num #변환값만 복사해서 출력"
      ],
      "metadata": {
        "colab": {
          "base_uri": "https://localhost:8080/"
        },
        "id": "5_Mb1I4Dbnag",
        "outputId": "6eac3b30-4195-4fc2-db73-6972c494aa4e"
      },
      "execution_count": 39,
      "outputs": [
        {
          "output_type": "execute_result",
          "data": {
            "text/plain": [
              "([4, 3, 2, 1, 0], [0, 1, 2, 3, 4])"
            ]
          },
          "metadata": {},
          "execution_count": 39
        }
      ]
    },
    {
      "cell_type": "code",
      "source": [
        "num.sort(reverse=True) #리스트.sort(), 값을 할당하지 않아도 됨\n",
        "num"
      ],
      "metadata": {
        "colab": {
          "base_uri": "https://localhost:8080/"
        },
        "id": "vuogl_utby8V",
        "outputId": "2dd8ce4a-646b-4cbe-d66f-173f98540ac6"
      },
      "execution_count": 40,
      "outputs": [
        {
          "output_type": "execute_result",
          "data": {
            "text/plain": [
              "[4, 3, 2, 1, 0]"
            ]
          },
          "metadata": {},
          "execution_count": 40
        }
      ]
    },
    {
      "cell_type": "code",
      "source": [
        "#reverse(), reversed()\n",
        "num.reverse()\n",
        "reversed(num)"
      ],
      "metadata": {
        "colab": {
          "base_uri": "https://localhost:8080/"
        },
        "id": "V5lwsXKWb8n8",
        "outputId": "0291e527-1803-415c-ab92-fd11f7a153ef"
      },
      "execution_count": 41,
      "outputs": [
        {
          "output_type": "execute_result",
          "data": {
            "text/plain": [
              "<list_reverseiterator at 0x7f95b8af48d0>"
            ]
          },
          "metadata": {},
          "execution_count": 41
        }
      ]
    },
    {
      "cell_type": "markdown",
      "source": [
        "### 복사\n",
        "- shallow copy\n",
        "  - b = a.copy()\n",
        "  - b = a[:]\n",
        "  - b = list(a)\n",
        "\n",
        "- deep copy\n",
        "  - import copy \\n b = copy.deepcopy(a)"
      ],
      "metadata": {
        "id": "OqTbH5P589Wj"
      }
    },
    {
      "cell_type": "code",
      "source": [
        "# 할당\n",
        "a = list(range(1,5))\n",
        "a"
      ],
      "metadata": {
        "colab": {
          "base_uri": "https://localhost:8080/"
        },
        "id": "JKAHt2N6eXM2",
        "outputId": "49b87b07-746a-4770-c399-35840f1bcf28"
      },
      "execution_count": 42,
      "outputs": [
        {
          "output_type": "execute_result",
          "data": {
            "text/plain": [
              "[1, 2, 3, 4]"
            ]
          },
          "metadata": {},
          "execution_count": 42
        }
      ]
    },
    {
      "cell_type": "code",
      "source": [
        "b = a # 같은 메모리주소를 참조하는 것\n",
        "b[0] = 6\n",
        "a, b"
      ],
      "metadata": {
        "colab": {
          "base_uri": "https://localhost:8080/"
        },
        "id": "Pa6I02udedGJ",
        "outputId": "86eaa488-61e6-42a5-d6a3-49ae17cf4428"
      },
      "execution_count": 43,
      "outputs": [
        {
          "output_type": "execute_result",
          "data": {
            "text/plain": [
              "([6, 2, 3, 4], [6, 2, 3, 4])"
            ]
          },
          "metadata": {},
          "execution_count": 43
        }
      ]
    },
    {
      "cell_type": "code",
      "source": [
        "id(a), id(b)"
      ],
      "metadata": {
        "colab": {
          "base_uri": "https://localhost:8080/"
        },
        "id": "SZ_mrsCQehBW",
        "outputId": "79c7f17c-a7e4-456a-ce37-f6224997ed7f"
      },
      "execution_count": 44,
      "outputs": [
        {
          "output_type": "execute_result",
          "data": {
            "text/plain": [
              "(140281025296336, 140281025296336)"
            ]
          },
          "metadata": {},
          "execution_count": 44
        }
      ]
    },
    {
      "cell_type": "code",
      "source": [
        "#shallow copy: 참조하지 않고 새로운 객체에 할당하는 방법. 얕은 복사\n",
        "c = a.copy()\n",
        "d = list(a)\n",
        "e = a[:]\n",
        "\n",
        "id(a), id(c), id(d), id(e)"
      ],
      "metadata": {
        "colab": {
          "base_uri": "https://localhost:8080/"
        },
        "id": "fZ5C0Iu5epgI",
        "outputId": "0178560e-39f6-49c8-e43b-ec9dfe49823d"
      },
      "execution_count": 45,
      "outputs": [
        {
          "output_type": "execute_result",
          "data": {
            "text/plain": [
              "(140281025296336, 140281025391344, 140281030431360, 140281025391824)"
            ]
          },
          "metadata": {},
          "execution_count": 45
        }
      ]
    },
    {
      "cell_type": "code",
      "source": [
        "a = list(range(1,5))\n",
        "a.append([1, 2, 3])\n",
        "\n",
        "f = a.copy()\n",
        "id(a), id(f)\n",
        "f[-1][0] = 9    #리스트 안에 리스트 있을 때 접근하는 방법\n",
        "a, f"
      ],
      "metadata": {
        "colab": {
          "base_uri": "https://localhost:8080/"
        },
        "id": "1p_DfN9nfCRw",
        "outputId": "7991fe98-c48f-4259-c184-ba28e9ac84ea"
      },
      "execution_count": 50,
      "outputs": [
        {
          "output_type": "execute_result",
          "data": {
            "text/plain": [
              "([1, 2, 3, 4, [9, 2, 3]], [1, 2, 3, 4, [9, 2, 3]])"
            ]
          },
          "metadata": {},
          "execution_count": 50
        }
      ]
    },
    {
      "cell_type": "code",
      "source": [
        "#deepcopy: 깊은 복사, 하위에 중첩된 리스트 요소가 안 바뀌도록\n",
        "import copy\n",
        "g = copy.deepcopy(a)\n",
        "g"
      ],
      "metadata": {
        "colab": {
          "base_uri": "https://localhost:8080/"
        },
        "id": "tVTfzl4kfNke",
        "outputId": "0fa58238-0481-407f-9aa3-7e02bde55e59"
      },
      "execution_count": 51,
      "outputs": [
        {
          "output_type": "execute_result",
          "data": {
            "text/plain": [
              "[1, 2, 3, 4, [9, 2, 3]]"
            ]
          },
          "metadata": {},
          "execution_count": 51
        }
      ]
    },
    {
      "cell_type": "code",
      "source": [
        "g[-1][0] = 10\n",
        "a, g    #g가 바뀌어도 a는 바뀌지 않음"
      ],
      "metadata": {
        "colab": {
          "base_uri": "https://localhost:8080/"
        },
        "id": "RKOIXu3ufdTZ",
        "outputId": "d11a5adc-313a-43a7-b772-b60da2af21b0"
      },
      "execution_count": 53,
      "outputs": [
        {
          "output_type": "execute_result",
          "data": {
            "text/plain": [
              "([1, 2, 3, 4, [9, 2, 3]], [1, 2, 3, 4, [10, 2, 3]])"
            ]
          },
          "metadata": {},
          "execution_count": 53
        }
      ]
    },
    {
      "cell_type": "markdown",
      "source": [
        "### 순회\n",
        "- zip: 여러 리스트를 동시에 순회\n",
        "- enumerate: 인덱스 + 요소"
      ],
      "metadata": {
        "id": "487vPTE79k4J"
      }
    },
    {
      "cell_type": "code",
      "source": [
        "# 순회: zip, enumerate\n",
        "name = ['kate', 'royce', 'phill']\n",
        "age = [77, 44, 54]\n",
        "\n",
        "# (name, age)\n",
        "for item1, item2 in zip(name, age): #여러 리스트를 동시에 순회\n",
        "  print((item1, item2))"
      ],
      "metadata": {
        "colab": {
          "base_uri": "https://localhost:8080/"
        },
        "id": "O0av5D2BfgPl",
        "outputId": "ceebe4fd-4f88-4ba7-e8d3-7516dec4c84b"
      },
      "execution_count": 54,
      "outputs": [
        {
          "output_type": "stream",
          "name": "stdout",
          "text": [
            "('kate', 77)\n",
            "('royce', 44)\n",
            "('phill', 54)\n"
          ]
        }
      ]
    },
    {
      "cell_type": "code",
      "source": [
        "for item1 in name:\n",
        "  for item2 in age:\n",
        "    print((item1, item2))"
      ],
      "metadata": {
        "colab": {
          "base_uri": "https://localhost:8080/"
        },
        "id": "7PdacxQ8f6ED",
        "outputId": "7a44d1a2-655d-4303-98e3-74eb2cff5ada"
      },
      "execution_count": 55,
      "outputs": [
        {
          "output_type": "stream",
          "name": "stdout",
          "text": [
            "('kate', 77)\n",
            "('kate', 44)\n",
            "('kate', 54)\n",
            "('royce', 77)\n",
            "('royce', 44)\n",
            "('royce', 54)\n",
            "('phill', 77)\n",
            "('phill', 44)\n",
            "('phill', 54)\n"
          ]
        }
      ]
    },
    {
      "cell_type": "code",
      "source": [
        "list(zip(name, age))"
      ],
      "metadata": {
        "colab": {
          "base_uri": "https://localhost:8080/"
        },
        "id": "Mc3AR5pYgGy_",
        "outputId": "fb03f160-8afe-48be-c684-821e00bae86b"
      },
      "execution_count": 56,
      "outputs": [
        {
          "output_type": "execute_result",
          "data": {
            "text/plain": [
              "[('kate', 77), ('royce', 44), ('phill', 54)]"
            ]
          },
          "metadata": {},
          "execution_count": 56
        }
      ]
    },
    {
      "cell_type": "code",
      "source": [
        "#리스트+인덱스 enumerate\n",
        "\n",
        "for idx, item in enumerate(name):\n",
        "  print(idx, item)"
      ],
      "metadata": {
        "colab": {
          "base_uri": "https://localhost:8080/"
        },
        "id": "UIf-E2JzgJoz",
        "outputId": "fed0390f-4af8-48c9-cadb-e670ed68586a"
      },
      "execution_count": 57,
      "outputs": [
        {
          "output_type": "stream",
          "name": "stdout",
          "text": [
            "0 kate\n",
            "1 royce\n",
            "2 phill\n"
          ]
        }
      ]
    },
    {
      "cell_type": "code",
      "source": [
        "for item in enumerate(name):\n",
        "  print(item)"
      ],
      "metadata": {
        "colab": {
          "base_uri": "https://localhost:8080/"
        },
        "id": "tKEmDjmxAM92",
        "outputId": "2119951e-7778-4d13-a5b6-76b27242aa13"
      },
      "execution_count": 58,
      "outputs": [
        {
          "output_type": "stream",
          "name": "stdout",
          "text": [
            "(0, 'kate')\n",
            "(1, 'royce')\n",
            "(2, 'phill')\n"
          ]
        }
      ]
    },
    {
      "cell_type": "code",
      "source": [
        "\"\"\"\n",
        "name = ['kate', 'royce', 'phill']\n",
        "age = [77, 44, 54]\n",
        "\n",
        "list(zip(name, age))\n",
        "\n",
        "를 리스트 컴프리헨션 써서 출력해보기\n",
        "\"\"\"\n",
        "name = ['kate', 'royce', 'phill']\n",
        "age = [77, 44, 54]\n",
        "\n",
        "[word for word in zip(name, age)]\n",
        "# [(i, j+33) for i,j in zip(name, age)] 두 요소 중에서 한가지를 바꾸고 싶을 때!"
      ],
      "metadata": {
        "colab": {
          "base_uri": "https://localhost:8080/"
        },
        "id": "bPZ82S6RgTWL",
        "outputId": "55a83659-0993-46db-f3bb-7b7e4bbc90aa"
      },
      "execution_count": 59,
      "outputs": [
        {
          "output_type": "execute_result",
          "data": {
            "text/plain": [
              "[('kate', 77), ('royce', 44), ('phill', 54)]"
            ]
          },
          "metadata": {},
          "execution_count": 59
        }
      ]
    },
    {
      "cell_type": "code",
      "source": [
        "#리컴 쓰지 않고 for문 사용\n",
        "list = []\n",
        "for i, j in zip(name, age):\n",
        "  list.append((i, j))\n",
        "\n",
        "print(list)"
      ],
      "metadata": {
        "id": "QXPnX20RiXcf",
        "colab": {
          "base_uri": "https://localhost:8080/"
        },
        "outputId": "7bb32b36-040e-46fa-e79f-a4b8b5419bea"
      },
      "execution_count": 60,
      "outputs": [
        {
          "output_type": "stream",
          "name": "stdout",
          "text": [
            "[('kate', 77), ('royce', 44), ('phill', 54)]\n"
          ]
        }
      ]
    },
    {
      "cell_type": "code",
      "source": [
        "#1. for문의 리,컴으로 바꿔보기\n",
        "\"\"\"\n",
        "for i in name:\n",
        "  for j in age:\n",
        "    print(i, j)\n",
        "\"\"\"\n",
        "\n",
        "[(i, j) for j in age for i in name], [(i, j) for i in name for j in age]"
      ],
      "metadata": {
        "colab": {
          "base_uri": "https://localhost:8080/"
        },
        "id": "T9PCRMaDPTPr",
        "outputId": "9a7a5264-bc1a-4eb5-c053-4b47d253b016"
      },
      "execution_count": 61,
      "outputs": [
        {
          "output_type": "execute_result",
          "data": {
            "text/plain": [
              "([('kate', 77),\n",
              "  ('royce', 77),\n",
              "  ('phill', 77),\n",
              "  ('kate', 44),\n",
              "  ('royce', 44),\n",
              "  ('phill', 44),\n",
              "  ('kate', 54),\n",
              "  ('royce', 54),\n",
              "  ('phill', 54)],\n",
              " [('kate', 77),\n",
              "  ('kate', 44),\n",
              "  ('kate', 54),\n",
              "  ('royce', 77),\n",
              "  ('royce', 44),\n",
              "  ('royce', 54),\n",
              "  ('phill', 77),\n",
              "  ('phill', 44),\n",
              "  ('phill', 54)])"
            ]
          },
          "metadata": {},
          "execution_count": 61
        }
      ]
    },
    {
      "cell_type": "code",
      "source": [
        "#2. [i, j] 리스트의 리스트로 바꿔보기 (리,컴)\n",
        "\n",
        "[[(i, j) for j in age] for i in name]"
      ],
      "metadata": {
        "colab": {
          "base_uri": "https://localhost:8080/"
        },
        "id": "4XZQEhoyiwX0",
        "outputId": "e014aba8-e387-4f22-ae10-1a3a1afc25a7"
      },
      "execution_count": 62,
      "outputs": [
        {
          "output_type": "execute_result",
          "data": {
            "text/plain": [
              "[[('kate', 77), ('kate', 44), ('kate', 54)],\n",
              " [('royce', 77), ('royce', 44), ('royce', 54)],\n",
              " [('phill', 77), ('phill', 44), ('phill', 54)]]"
            ]
          },
          "metadata": {},
          "execution_count": 62
        }
      ]
    },
    {
      "cell_type": "code",
      "source": [
        "list = []\n",
        "[list.append([i, j]) for j in age for i in name]    #뭐지?"
      ],
      "metadata": {
        "colab": {
          "base_uri": "https://localhost:8080/"
        },
        "id": "mfaNo10Wl5rX",
        "outputId": "5c20b652-a46a-4e3c-a3bb-79d53f5b7b87"
      },
      "execution_count": 63,
      "outputs": [
        {
          "output_type": "execute_result",
          "data": {
            "text/plain": [
              "[None, None, None, None, None, None, None, None, None]"
            ]
          },
          "metadata": {},
          "execution_count": 63
        }
      ]
    },
    {
      "cell_type": "code",
      "source": [
        "sentence = \"do not judge a book by its cover\"\n",
        "tokens = sentence.split(' ')\n",
        "[(word.upper(), word.title(), len(word)) for word in tokens]"
      ],
      "metadata": {
        "colab": {
          "base_uri": "https://localhost:8080/"
        },
        "id": "fg0alzAxlS5u",
        "outputId": "b7e27463-6323-4aa7-dd52-ddee8f71d6bf"
      },
      "execution_count": 64,
      "outputs": [
        {
          "output_type": "execute_result",
          "data": {
            "text/plain": [
              "[('DO', 'Do', 2),\n",
              " ('NOT', 'Not', 3),\n",
              " ('JUDGE', 'Judge', 5),\n",
              " ('A', 'A', 1),\n",
              " ('BOOK', 'Book', 4),\n",
              " ('BY', 'By', 2),\n",
              " ('ITS', 'Its', 3),\n",
              " ('COVER', 'Cover', 5)]"
            ]
          },
          "metadata": {},
          "execution_count": 64
        }
      ]
    },
    {
      "cell_type": "code",
      "source": [
        "#문장마다 스트링으로 바꿔서 리스트로 반환\n",
        "text = [\n",
        "        ['Sunja', 'said', 'goodnight', 'to', 'her', 'mother'],\n",
        "        ['Hansu', 'was', 'no', 'longer', 'in', 'Busan']\n",
        "]\n",
        "\n",
        "[' '.join(sents) for sents in text]"
      ],
      "metadata": {
        "colab": {
          "base_uri": "https://localhost:8080/"
        },
        "id": "Xhm3sPZBmtGD",
        "outputId": "c429b0a1-b142-4f00-cf88-79f13a570cd2"
      },
      "execution_count": 65,
      "outputs": [
        {
          "output_type": "execute_result",
          "data": {
            "text/plain": [
              "['Sunja said goodnight to her mother', 'Hansu was no longer in Busan']"
            ]
          },
          "metadata": {},
          "execution_count": 65
        }
      ]
    },
    {
      "cell_type": "code",
      "source": [
        "#전체를 스트링으로 반환\n",
        "text = [\n",
        "        ['Sunja', 'said', 'goodnight', 'to', 'her', 'mother'],\n",
        "        ['Hansu', 'was', 'no', 'longer', 'in', 'Busan']\n",
        "]\n",
        "\n",
        "' '.join([' '.join(sents) for sents in text])"
      ],
      "metadata": {
        "id": "x-gWGLtloDZY",
        "colab": {
          "base_uri": "https://localhost:8080/",
          "height": 35
        },
        "outputId": "2deb337d-5e3d-4ee0-b89c-bd624c6c235f"
      },
      "execution_count": 66,
      "outputs": [
        {
          "output_type": "execute_result",
          "data": {
            "text/plain": [
              "'Sunja said goodnight to her mother Hansu was no longer in Busan'"
            ],
            "application/vnd.google.colaboratory.intrinsic+json": {
              "type": "string"
            }
          },
          "metadata": {},
          "execution_count": 66
        }
      ]
    },
    {
      "cell_type": "code",
      "source": [
        "#전체 단어 리스트 가져오기\n",
        "\n",
        "text = [\n",
        "        ['Sunja', 'said', 'goodnight', 'to', 'her', 'mother'],\n",
        "        ['Hansu', 'was', 'no', 'longer', 'in', 'Busan']\n",
        "]\n",
        "\n",
        "[words for sents in text for words in sents]"
      ],
      "metadata": {
        "colab": {
          "base_uri": "https://localhost:8080/"
        },
        "id": "MdA1yQnVhD1E",
        "outputId": "5002aa91-9a13-425d-d23a-1b8f9ea53233"
      },
      "execution_count": 67,
      "outputs": [
        {
          "output_type": "execute_result",
          "data": {
            "text/plain": [
              "['Sunja',\n",
              " 'said',\n",
              " 'goodnight',\n",
              " 'to',\n",
              " 'her',\n",
              " 'mother',\n",
              " 'Hansu',\n",
              " 'was',\n",
              " 'no',\n",
              " 'longer',\n",
              " 'in',\n",
              " 'Busan']"
            ]
          },
          "metadata": {},
          "execution_count": 67
        }
      ]
    },
    {
      "cell_type": "markdown",
      "source": [
        "### List Comprehension + if, else\n",
        "- if, else를 for 앞에다가 씀"
      ],
      "metadata": {
        "id": "Eu967-r6lUfn"
      }
    },
    {
      "cell_type": "code",
      "source": [
        "[i if i%2 == 0 else '홀수' for i in range(10)]"
      ],
      "metadata": {
        "colab": {
          "base_uri": "https://localhost:8080/"
        },
        "id": "z3VfSaKxlYIZ",
        "outputId": "1c74c90d-2624-4d22-b951-bcd3e917524f"
      },
      "execution_count": 68,
      "outputs": [
        {
          "output_type": "execute_result",
          "data": {
            "text/plain": [
              "[0, '홀수', 2, '홀수', 4, '홀수', 6, '홀수', 8, '홀수']"
            ]
          },
          "metadata": {},
          "execution_count": 68
        }
      ]
    }
  ]
}