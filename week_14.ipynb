{
  "nbformat": 4,
  "nbformat_minor": 0,
  "metadata": {
    "colab": {
      "name": "Week_14.ipynb",
      "provenance": [],
      "collapsed_sections": [],
      "authorship_tag": "ABX9TyND96+zzqiNcKOkqGpc4U/i",
      "include_colab_link": true
    },
    "kernelspec": {
      "name": "python3",
      "display_name": "Python 3"
    },
    "language_info": {
      "name": "python"
    }
  },
  "cells": [
    {
      "cell_type": "markdown",
      "metadata": {
        "id": "view-in-github",
        "colab_type": "text"
      },
      "source": [
        "<a href=\"https://colab.research.google.com/github/HUFS-Programming-2022/Junsu_202102707/blob/main/Week_14.ipynb\" target=\"_parent\"><img src=\"https://colab.research.google.com/assets/colab-badge.svg\" alt=\"Open In Colab\"/></a>"
      ]
    },
    {
      "cell_type": "markdown",
      "source": [
        "### 함수 II\n",
        "- 일급 객체\n",
        "- 중첩 함수\n",
        "- 제너레이터\n",
        "- 재귀 함수"
      ],
      "metadata": {
        "id": "jcE9uLJRia4T"
      }
    },
    {
      "cell_type": "markdown",
      "source": [
        "#### 일급 객체\n",
        "- first class object, first class citizen\n",
        "- 파이썬에서는 함수도 일급객체다. (다른 언어에서는 x)\n",
        "- 일급 객체의 조건\n",
        "  - 함수의 인자로 전달된다.\n",
        "    def fx(func):\n",
        "  - 함수의 반환값이 된다.\n",
        "    def fx(func):\n",
        "      return func\n",
        "  - 수정, 할당이 된다.\n",
        "    var = fx()"
      ],
      "metadata": {
        "id": "bPo2RWJXir7Y"
      }
    },
    {
      "cell_type": "code",
      "execution_count": 12,
      "metadata": {
        "colab": {
          "base_uri": "https://localhost:8080/"
        },
        "id": "yV12Kh58iUBq",
        "outputId": "ce04a439-2c98-426f-a0d0-1ce38123803d"
      },
      "outputs": [
        {
          "output_type": "stream",
          "name": "stdout",
          "text": [
            "42\n"
          ]
        }
      ],
      "source": [
        "def answer():\n",
        "  print(42)\n",
        "\n",
        "def run_sth(func):\n",
        "  func() #func vs. func()   ()가 붙은 경우 실행하라는 뜻임\n",
        "\n",
        "run_sth(answer)"
      ]
    },
    {
      "cell_type": "code",
      "source": [
        "def add_args(arg1, arg2):\n",
        "  print(arg1 + arg2)\n",
        "\n",
        "def run_sth2(func, *args):\n",
        "  func(*args)\n",
        "\n",
        "run_sth2(add_args, 3, 5)"
      ],
      "metadata": {
        "colab": {
          "base_uri": "https://localhost:8080/"
        },
        "id": "Hbm3RGIdiotU",
        "outputId": "1b0477fc-abf1-4cff-bcaf-ad46fa9c0538"
      },
      "execution_count": 13,
      "outputs": [
        {
          "output_type": "stream",
          "name": "stdout",
          "text": [
            "8\n"
          ]
        }
      ]
    },
    {
      "cell_type": "markdown",
      "source": [
        "#### 중첩함수\n",
        "- 함수 내에서 또 다른 함수를 정의하는 것\n",
        "- 내부함수 캡슐화\n",
        "  - 메모리 절약\n",
        "  - 변수가 섞여서 불필요하게 충돌하는 것을 방지함\n",
        "  - 목적에 맞게 변수를 그룹화할 수 있음. 관리, 책임 명확히"
      ],
      "metadata": {
        "id": "jxc_t7n-j58b"
      }
    },
    {
      "cell_type": "code",
      "source": [
        "def outer(a, b):\n",
        "  def inner(c, d):\n",
        "    return c + d\n",
        "  return inner(a, b)\n",
        "\n",
        "outer(1, 1)"
      ],
      "metadata": {
        "colab": {
          "base_uri": "https://localhost:8080/"
        },
        "id": "SEUJLkiKjvy9",
        "outputId": "29b904a1-f6c9-4681-9078-98dba2807500"
      },
      "execution_count": 14,
      "outputs": [
        {
          "output_type": "execute_result",
          "data": {
            "text/plain": [
              "2"
            ]
          },
          "metadata": {},
          "execution_count": 14
        }
      ]
    },
    {
      "cell_type": "code",
      "source": [
        "inner(1, 1) #내부에 있기 때문에 함수 밖에서 건드릴 수 없음"
      ],
      "metadata": {
        "colab": {
          "base_uri": "https://localhost:8080/",
          "height": 173
        },
        "id": "H-TvZ7ZNkSID",
        "outputId": "c5c49931-034c-48ae-afd7-06522f59329f"
      },
      "execution_count": 15,
      "outputs": [
        {
          "output_type": "error",
          "ename": "NameError",
          "evalue": "ignored",
          "traceback": [
            "\u001b[0;31m---------------------------------------------------------------------------\u001b[0m",
            "\u001b[0;31mNameError\u001b[0m                                 Traceback (most recent call last)",
            "\u001b[0;32m<ipython-input-15-738a33ff421e>\u001b[0m in \u001b[0;36m<module>\u001b[0;34m()\u001b[0m\n\u001b[0;32m----> 1\u001b[0;31m \u001b[0minner\u001b[0m\u001b[0;34m(\u001b[0m\u001b[0;36m1\u001b[0m\u001b[0;34m,\u001b[0m \u001b[0;36m1\u001b[0m\u001b[0;34m)\u001b[0m \u001b[0;31m#내부에 있기 때문에 함수 밖에서 건드릴 수 없음\u001b[0m\u001b[0;34m\u001b[0m\u001b[0;34m\u001b[0m\u001b[0m\n\u001b[0m",
            "\u001b[0;31mNameError\u001b[0m: name 'inner' is not defined"
          ]
        }
      ]
    },
    {
      "cell_type": "code",
      "source": [
        "def knight(saying):\n",
        "  def inner():\n",
        "    return f'We are the knights who say: {saying}'\n",
        "  return inner\n",
        "\n",
        "a = knight('hi')\n",
        "b = knight('안녕')"
      ],
      "metadata": {
        "id": "vDtdhjHUkWY-"
      },
      "execution_count": 16,
      "outputs": []
    },
    {
      "cell_type": "markdown",
      "source": [
        "- 외부함수의 인자를 \"참조\"할 수 있다. (inner에서 인자를 받지 않았는데도 saying 가능)\n",
        "- 참조: 외부함수 인자를 수정/인용하는 것은 안됨"
      ],
      "metadata": {
        "id": "ZuX-Yg_Yl0ST"
      }
    },
    {
      "cell_type": "code",
      "source": [
        "a"
      ],
      "metadata": {
        "colab": {
          "base_uri": "https://localhost:8080/"
        },
        "id": "iFm14irrk9VI",
        "outputId": "e95dac77-4c28-4944-eb00-d3da81d84d23"
      },
      "execution_count": 17,
      "outputs": [
        {
          "output_type": "execute_result",
          "data": {
            "text/plain": [
              "<function __main__.knight.<locals>.inner>"
            ]
          },
          "metadata": {},
          "execution_count": 17
        }
      ]
    },
    {
      "cell_type": "code",
      "source": [
        "a()"
      ],
      "metadata": {
        "colab": {
          "base_uri": "https://localhost:8080/",
          "height": 35
        },
        "id": "QF8bfiGOlTDc",
        "outputId": "b1382848-258f-4a40-90cd-f4457dd68dda"
      },
      "execution_count": 18,
      "outputs": [
        {
          "output_type": "execute_result",
          "data": {
            "text/plain": [
              "'We are the knights who say: hi'"
            ],
            "application/vnd.google.colaboratory.intrinsic+json": {
              "type": "string"
            }
          },
          "metadata": {},
          "execution_count": 18
        }
      ]
    },
    {
      "cell_type": "code",
      "source": [
        "def knight(saying):\n",
        "  def inner():\n",
        "    return f'We are the knights who say: {saying}'\n",
        "  return inner()\n",
        "\n",
        "a = knight('hi')\n",
        "b = knight('안녕')"
      ],
      "metadata": {
        "id": "8OlxbnR8ggkb"
      },
      "execution_count": 19,
      "outputs": []
    },
    {
      "cell_type": "code",
      "source": [
        "a"
      ],
      "metadata": {
        "colab": {
          "base_uri": "https://localhost:8080/",
          "height": 35
        },
        "id": "4TY4mi8ugiQo",
        "outputId": "b8d8cb87-beea-46b5-df34-130db05525a2"
      },
      "execution_count": 20,
      "outputs": [
        {
          "output_type": "execute_result",
          "data": {
            "text/plain": [
              "'We are the knights who say: hi'"
            ],
            "application/vnd.google.colaboratory.intrinsic+json": {
              "type": "string"
            }
          },
          "metadata": {},
          "execution_count": 20
        }
      ]
    },
    {
      "cell_type": "markdown",
      "source": [
        "### 클로저 | closure\n",
        "- 조건\n",
        "  1. 중첩함수일 것\n",
        "  2. 내부함수가 외부함수의 상태값을 참조할 것\n",
        "  3. 외부함수의 리턴값이 내부함수일 것\n",
        "- 외부함숭의 상태값을 기억하는 함수(호출 시 사용 가능)"
      ],
      "metadata": {
        "id": "-BAQd26EmG2c"
      }
    },
    {
      "cell_type": "code",
      "source": [
        "def multiply(x):\n",
        "  def inner(y):#조건 1\n",
        "    return x * y  #조건 2\n",
        "  return inner #조건 3"
      ],
      "metadata": {
        "id": "oTe1BjwslTxg"
      },
      "execution_count": 21,
      "outputs": []
    },
    {
      "cell_type": "code",
      "source": [
        "m = multiply(5)\n",
        "n = multiply(6)"
      ],
      "metadata": {
        "id": "N6BRagKlmvFa"
      },
      "execution_count": 22,
      "outputs": []
    },
    {
      "cell_type": "code",
      "source": [
        "m"
      ],
      "metadata": {
        "colab": {
          "base_uri": "https://localhost:8080/"
        },
        "id": "g7NZ5hLLm0Bf",
        "outputId": "3c05864e-18ef-46e3-8a7a-4cd340bf065c"
      },
      "execution_count": 23,
      "outputs": [
        {
          "output_type": "execute_result",
          "data": {
            "text/plain": [
              "<function __main__.multiply.<locals>.inner>"
            ]
          },
          "metadata": {},
          "execution_count": 23
        }
      ]
    },
    {
      "cell_type": "code",
      "source": [
        "n"
      ],
      "metadata": {
        "colab": {
          "base_uri": "https://localhost:8080/"
        },
        "id": "4mkSAkTTm0Zn",
        "outputId": "3a5016fb-c006-4a34-f6a4-41b07de0747d"
      },
      "execution_count": 24,
      "outputs": [
        {
          "output_type": "execute_result",
          "data": {
            "text/plain": [
              "<function __main__.multiply.<locals>.inner>"
            ]
          },
          "metadata": {},
          "execution_count": 24
        }
      ]
    },
    {
      "cell_type": "code",
      "source": [
        "m(10)"
      ],
      "metadata": {
        "colab": {
          "base_uri": "https://localhost:8080/"
        },
        "id": "qlX9EPtGm1Ln",
        "outputId": "933d71bb-1a05-4253-b663-b4a8dd42a8dd"
      },
      "execution_count": 25,
      "outputs": [
        {
          "output_type": "execute_result",
          "data": {
            "text/plain": [
              "50"
            ]
          },
          "metadata": {},
          "execution_count": 25
        }
      ]
    },
    {
      "cell_type": "code",
      "source": [
        "n(10)"
      ],
      "metadata": {
        "colab": {
          "base_uri": "https://localhost:8080/"
        },
        "id": "BSJNl57um3wR",
        "outputId": "5e8bf42c-3dcd-4615-8a1a-35db71b31a6b"
      },
      "execution_count": 26,
      "outputs": [
        {
          "output_type": "execute_result",
          "data": {
            "text/plain": [
              "60"
            ]
          },
          "metadata": {},
          "execution_count": 26
        }
      ]
    },
    {
      "cell_type": "code",
      "source": [
        "del(multiply)"
      ],
      "metadata": {
        "id": "QHz_iehhnG4F"
      },
      "execution_count": 27,
      "outputs": []
    },
    {
      "cell_type": "code",
      "source": [
        "multiply #외부함수가 메모리에서 지워짐"
      ],
      "metadata": {
        "colab": {
          "base_uri": "https://localhost:8080/",
          "height": 173
        },
        "id": "mflHZb9PnJyL",
        "outputId": "fe7fe4d4-063d-477e-cc89-f392466ea643"
      },
      "execution_count": 28,
      "outputs": [
        {
          "output_type": "error",
          "ename": "NameError",
          "evalue": "ignored",
          "traceback": [
            "\u001b[0;31m---------------------------------------------------------------------------\u001b[0m",
            "\u001b[0;31mNameError\u001b[0m                                 Traceback (most recent call last)",
            "\u001b[0;32m<ipython-input-28-416721510c2f>\u001b[0m in \u001b[0;36m<module>\u001b[0;34m()\u001b[0m\n\u001b[0;32m----> 1\u001b[0;31m \u001b[0mmultiply\u001b[0m \u001b[0;31m#외부함수가 메모리에서 지워짐\u001b[0m\u001b[0;34m\u001b[0m\u001b[0;34m\u001b[0m\u001b[0m\n\u001b[0m",
            "\u001b[0;31mNameError\u001b[0m: name 'multiply' is not defined"
          ]
        }
      ]
    },
    {
      "cell_type": "code",
      "source": [
        "def add(a, b):\n",
        "  return a + b\n",
        "\n",
        "#리턴값 * 리턴값 (8 * 8)\n",
        "def square(func):\n",
        "  def inner(a, b):\n",
        "    result = func(a, b)\n",
        "    return result * result\n",
        "  return inner\n",
        "\n",
        "fx = square(add)\n",
        "fx(4, 5)  #(4+5)*(4+5)\n",
        "fx(3, 3)\n"
      ],
      "metadata": {
        "colab": {
          "base_uri": "https://localhost:8080/"
        },
        "id": "MKV4dkWwnLpK",
        "outputId": "57ee9cfb-52c6-4ee6-fc70-455415663c2a"
      },
      "execution_count": 29,
      "outputs": [
        {
          "output_type": "execute_result",
          "data": {
            "text/plain": [
              "36"
            ]
          },
          "metadata": {},
          "execution_count": 29
        }
      ]
    },
    {
      "cell_type": "code",
      "source": [
        "'''\n",
        "def square(func):\n",
        "  def inner():\n",
        "    return func ** 2\n",
        "  return inner  \n",
        "'''"
      ],
      "metadata": {
        "id": "II0c2Xppnhl2"
      },
      "execution_count": null,
      "outputs": []
    },
    {
      "cell_type": "markdown",
      "source": [
        "#### 데코레이터\n",
        "- 메인 함수에 또 다른 함수를 취해 반환할 수 있게 함\n",
        "- 재활용성 높음\n",
        "- 가독성, 직관성 좋다"
      ],
      "metadata": {
        "id": "veEWssOJqCxt"
      }
    },
    {
      "cell_type": "code",
      "source": [
        "@square\n",
        "def plus(a, b):\n",
        "  return a + b\n",
        "\n",
        "plus(4, 5)"
      ],
      "metadata": {
        "colab": {
          "base_uri": "https://localhost:8080/"
        },
        "id": "qiY_nN5moCbA",
        "outputId": "69b6d3a3-8ac6-483b-804c-214e03c85967"
      },
      "execution_count": 31,
      "outputs": [
        {
          "output_type": "execute_result",
          "data": {
            "text/plain": [
              "81"
            ]
          },
          "metadata": {},
          "execution_count": 31
        }
      ]
    },
    {
      "cell_type": "markdown",
      "source": [
        "#### scope | 범위\n",
        "- 전역: global\n",
        "- 지역: local\n",
        "- nonlocal"
      ],
      "metadata": {
        "id": "9x0728ymqeCs"
      }
    },
    {
      "cell_type": "code",
      "source": [
        "a = 1 #global\n",
        "def add(a, b):\n",
        "  x = 2\n",
        "  \n",
        "def square(func):\n",
        "  def inner(a, b):  #nonlocal\n",
        "    result = func(a, b)\n",
        "    return result * result\n",
        "    return\n",
        "  return inner"
      ],
      "metadata": {
        "id": "X2seVwfVqO_b"
      },
      "execution_count": 32,
      "outputs": []
    },
    {
      "cell_type": "code",
      "source": [
        "a = 3 #global\n",
        "\n",
        "def outer(c): #c=9\n",
        "  b = 5 #local\n",
        "  def inner():\n",
        "    c = 999 #nonlocal\n",
        "    return c\n",
        "  return inner()\n",
        "\n",
        "outer(9)"
      ],
      "metadata": {
        "colab": {
          "base_uri": "https://localhost:8080/"
        },
        "id": "34WCOUEOq2F4",
        "outputId": "67fdd16c-b1d5-41d2-9297-af64d54fccd8"
      },
      "execution_count": 33,
      "outputs": [
        {
          "output_type": "execute_result",
          "data": {
            "text/plain": [
              "999"
            ]
          },
          "metadata": {},
          "execution_count": 33
        }
      ]
    },
    {
      "cell_type": "code",
      "source": [
        "a = 3 #global\n",
        "\n",
        "def outer(c): #c=9\n",
        "  b = 5 #local\n",
        "  def inner():\n",
        "    nonlocal c\n",
        "    c += 1\n",
        "    return c\n",
        "  return inner()\n",
        "\n",
        "outer(9)"
      ],
      "metadata": {
        "colab": {
          "base_uri": "https://localhost:8080/"
        },
        "id": "TQUAiqgArAyU",
        "outputId": "f64675eb-c919-466f-cbb7-77eda81e47d8"
      },
      "execution_count": 34,
      "outputs": [
        {
          "output_type": "execute_result",
          "data": {
            "text/plain": [
              "10"
            ]
          },
          "metadata": {},
          "execution_count": 34
        }
      ]
    },
    {
      "cell_type": "markdown",
      "source": [
        "#### 실습\n",
        "fx1: speed, limit 내 속도가 제한속도를 위반하는지 t/f\n",
        "\n",
        "fx2: 클로저, 추가할 경우 얼마나 초과하는지 프린트하는 함수\n",
        "\n",
        "실행은 데코레이터로"
      ],
      "metadata": {
        "id": "fqpmo0oorsxl"
      }
    },
    {
      "cell_type": "code",
      "source": [
        "def fx2(func):\n",
        "  def inner(speed, limit):\n",
        "    result = speed - limit\n",
        "    return f'속도를 {result}km/h 초과했습니다'\n",
        "  return inner\n",
        "\n",
        "@fx2\n",
        "def fx1(speed, limit):\n",
        "  return speed <= limit"
      ],
      "metadata": {
        "id": "f1IYLbYtrrWg"
      },
      "execution_count": 35,
      "outputs": []
    },
    {
      "cell_type": "code",
      "source": [
        "fx1(7, 6)"
      ],
      "metadata": {
        "colab": {
          "base_uri": "https://localhost:8080/",
          "height": 35
        },
        "id": "abG7l2L4tyLX",
        "outputId": "b374cfa6-1d3b-44b1-ea7b-bd691b07a311"
      },
      "execution_count": 36,
      "outputs": [
        {
          "output_type": "execute_result",
          "data": {
            "text/plain": [
              "'속도를 1km/h 초과했습니다'"
            ],
            "application/vnd.google.colaboratory.intrinsic+json": {
              "type": "string"
            }
          },
          "metadata": {},
          "execution_count": 36
        }
      ]
    },
    {
      "cell_type": "code",
      "source": [
        "def violate(func):\n",
        "  def inner(speed, limit):\n",
        "    if func(speed, limit):\n",
        "      return f'초과: {speed - limit}km/h'\n",
        "    else:\n",
        "      return '정상 속도'\n",
        "  return inner\n",
        "\n",
        "@violate\n",
        "def is_speeding(speed, limit):\n",
        "  return speed > limit"
      ],
      "metadata": {
        "id": "nfMcAStbt1Yk"
      },
      "execution_count": 37,
      "outputs": []
    },
    {
      "cell_type": "code",
      "source": [
        "is_speeding(10, 8)"
      ],
      "metadata": {
        "colab": {
          "base_uri": "https://localhost:8080/",
          "height": 35
        },
        "id": "J6l7IYpiwKRO",
        "outputId": "971fc200-e258-4f44-8490-8c68757e93d4"
      },
      "execution_count": 38,
      "outputs": [
        {
          "output_type": "execute_result",
          "data": {
            "text/plain": [
              "'초과: 2km/h'"
            ],
            "application/vnd.google.colaboratory.intrinsic+json": {
              "type": "string"
            }
          },
          "metadata": {},
          "execution_count": 38
        }
      ]
    },
    {
      "cell_type": "code",
      "source": [
        "is_speeding(8, 10)"
      ],
      "metadata": {
        "colab": {
          "base_uri": "https://localhost:8080/",
          "height": 35
        },
        "id": "GvnkjGnQwpFJ",
        "outputId": "fff3d96e-6a27-433b-e9c9-2f2f07e05a85"
      },
      "execution_count": 39,
      "outputs": [
        {
          "output_type": "execute_result",
          "data": {
            "text/plain": [
              "'정상 속도'"
            ],
            "application/vnd.google.colaboratory.intrinsic+json": {
              "type": "string"
            }
          },
          "metadata": {},
          "execution_count": 39
        }
      ]
    },
    {
      "cell_type": "markdown",
      "source": [
        "#### 익명함수 | lambda\n",
        "- 이름이 없다\n",
        "def is_speeding():\n",
        "  return\n",
        "- def, return\n",
        "- is_speeding\n",
        "- 단순한 용도의 함수가 필요할 경우 사용\n",
        "- 잦은 사용은 권하지 않음\n",
        "- lambda x: <x를 요리할 코드>"
      ],
      "metadata": {
        "id": "rDvZQ3t1wt6X"
      }
    },
    {
      "cell_type": "code",
      "source": [
        "(lambda x: x + 1)(2)"
      ],
      "metadata": {
        "colab": {
          "base_uri": "https://localhost:8080/"
        },
        "id": "Mvdn08ZYwrxz",
        "outputId": "fcbbfd97-728d-4d88-d806-89bab6d53127"
      },
      "execution_count": 40,
      "outputs": [
        {
          "output_type": "execute_result",
          "data": {
            "text/plain": [
              "3"
            ]
          },
          "metadata": {},
          "execution_count": 40
        }
      ]
    },
    {
      "cell_type": "code",
      "source": [
        "def add_one(x):\n",
        "  return x + 1\n",
        "add_one(2)"
      ],
      "metadata": {
        "colab": {
          "base_uri": "https://localhost:8080/"
        },
        "id": "c2cADWp0xMVE",
        "outputId": "eb8a3418-84a5-4c27-a0ea-530fec10357b"
      },
      "execution_count": 41,
      "outputs": [
        {
          "output_type": "execute_result",
          "data": {
            "text/plain": [
              "3"
            ]
          },
          "metadata": {},
          "execution_count": 41
        }
      ]
    },
    {
      "cell_type": "code",
      "source": [
        "f = lambda x, y: x + y\n",
        "f(3, 5)"
      ],
      "metadata": {
        "colab": {
          "base_uri": "https://localhost:8080/"
        },
        "id": "uEQaHdAPxUgg",
        "outputId": "338f39a7-221a-4ae0-8929-1a528080706a"
      },
      "execution_count": 42,
      "outputs": [
        {
          "output_type": "execute_result",
          "data": {
            "text/plain": [
              "8"
            ]
          },
          "metadata": {},
          "execution_count": 42
        }
      ]
    },
    {
      "cell_type": "markdown",
      "source": [
        "# 실습\n",
        "- 단어가 들어왔을 때 첫글자 대문자로 바꾸고 단어 끝에 !를 붙이도록 람다를 만들자\n",
        "- 예: hello -> Hello!"
      ],
      "metadata": {
        "id": "50woocDhxjTF"
      }
    },
    {
      "cell_type": "code",
      "source": [
        "f = lambda word: word.capitalize() + '!'\n",
        "f('hello')"
      ],
      "metadata": {
        "colab": {
          "base_uri": "https://localhost:8080/",
          "height": 35
        },
        "id": "zOdid11Vxazv",
        "outputId": "66f3514e-988b-4e63-e9ca-2ed7f342a535"
      },
      "execution_count": 43,
      "outputs": [
        {
          "output_type": "execute_result",
          "data": {
            "text/plain": [
              "'Hello!'"
            ],
            "application/vnd.google.colaboratory.intrinsic+json": {
              "type": "string"
            }
          },
          "metadata": {},
          "execution_count": 43
        }
      ]
    },
    {
      "cell_type": "markdown",
      "source": [
        "#### 제너레이터\n",
        "- return => yield\n",
        "- 시퀀스를 순회할 때 시퀀스를 생성하는 객체\n",
        "- 한번 사용되고 사라짐 => 메모리 효율 좋음"
      ],
      "metadata": {
        "id": "T64xuzTfyWmI"
      }
    },
    {
      "cell_type": "code",
      "source": [
        "def print_number(num):\n",
        "  for i in range(num):\n",
        "    yield i\n",
        "\n",
        "print_number(10)"
      ],
      "metadata": {
        "colab": {
          "base_uri": "https://localhost:8080/"
        },
        "id": "6UU_acj8x-9w",
        "outputId": "5dcc18ae-ae59-4490-840d-8e99f3cab2c9"
      },
      "execution_count": 44,
      "outputs": [
        {
          "output_type": "execute_result",
          "data": {
            "text/plain": [
              "<generator object print_number at 0x7fc6173353d0>"
            ]
          },
          "metadata": {},
          "execution_count": 44
        }
      ]
    },
    {
      "cell_type": "code",
      "source": [
        "fx = print_number(10)\n",
        "\n",
        "for i in fx:\n",
        "  print(i)"
      ],
      "metadata": {
        "colab": {
          "base_uri": "https://localhost:8080/"
        },
        "id": "2CAvH0JnytqZ",
        "outputId": "b1a3257a-dbed-4b4d-fe74-1d7433e2674c"
      },
      "execution_count": 45,
      "outputs": [
        {
          "output_type": "stream",
          "name": "stdout",
          "text": [
            "0\n",
            "1\n",
            "2\n",
            "3\n",
            "4\n",
            "5\n",
            "6\n",
            "7\n",
            "8\n",
            "9\n"
          ]
        }
      ]
    },
    {
      "cell_type": "code",
      "source": [
        "for i in fx:\n",
        "  print(i)"
      ],
      "metadata": {
        "id": "BjoF6B4vzLG3"
      },
      "execution_count": 46,
      "outputs": []
    },
    {
      "cell_type": "markdown",
      "source": [
        "# 실습\n",
        "range() 구현하기\n",
        "- 제너레이터 사용\n",
        "- def my_range(start, end, step):\n",
        "  yeild\n",
        "\n",
        "ranger = my_range(a, b, c)"
      ],
      "metadata": {
        "id": "r0JlXC_5zPf4"
      }
    },
    {
      "cell_type": "code",
      "source": [
        "def my_range(start, end, step):\n",
        "  i = start\n",
        "  while i < end:\n",
        "    yield i\n",
        "    i += step\n",
        "\n",
        "ranger = my_range(1, 50, 2)\n",
        "for i in ranger:\n",
        "  print(i)"
      ],
      "metadata": {
        "colab": {
          "base_uri": "https://localhost:8080/"
        },
        "id": "zacLfIDfzM6c",
        "outputId": "a4718582-9e9a-42a4-863a-3c561770c025"
      },
      "execution_count": 47,
      "outputs": [
        {
          "output_type": "stream",
          "name": "stdout",
          "text": [
            "1\n",
            "3\n",
            "5\n",
            "7\n",
            "9\n",
            "11\n",
            "13\n",
            "15\n",
            "17\n",
            "19\n",
            "21\n",
            "23\n",
            "25\n",
            "27\n",
            "29\n",
            "31\n",
            "33\n",
            "35\n",
            "37\n",
            "39\n",
            "41\n",
            "43\n",
            "45\n",
            "47\n",
            "49\n"
          ]
        }
      ]
    },
    {
      "cell_type": "code",
      "source": [
        "a = range(1, 2, 3)\n",
        "a"
      ],
      "metadata": {
        "colab": {
          "base_uri": "https://localhost:8080/"
        },
        "id": "FH2iFxDlzoNr",
        "outputId": "4cde46b3-01b6-4242-b1d0-f3b230f9e0f2"
      },
      "execution_count": 48,
      "outputs": [
        {
          "output_type": "execute_result",
          "data": {
            "text/plain": [
              "range(1, 2, 3)"
            ]
          },
          "metadata": {},
          "execution_count": 48
        }
      ]
    },
    {
      "cell_type": "code",
      "source": [
        "for i in ranger:\n",
        "  print(i)"
      ],
      "metadata": {
        "id": "d80x1h-xzqiZ"
      },
      "execution_count": 49,
      "outputs": []
    },
    {
      "cell_type": "markdown",
      "source": [
        "#### 재귀함수\n",
        "- 너무 깊으면 예외 발생 => 주의\n",
        "- 자기 자신을 호출하는 함수\n",
        "- [[1,2,3], [[[1,1]],4,5]] -> [1,2,3,1,1,4,5]"
      ],
      "metadata": {
        "id": "W9Ym9CVC58x2"
      }
    },
    {
      "cell_type": "code",
      "source": [
        "def flatten(sent):\n",
        "  for word in sent:\n",
        "    if isinstance(word, list):\n",
        "      #true\n",
        "      for sub_word in flatten(word):\n",
        "        yield sub_word\n",
        "    else:\n",
        "      #false\n",
        "      yield word"
      ],
      "metadata": {
        "id": "aXk8ewAa57jV"
      },
      "execution_count": 50,
      "outputs": []
    },
    {
      "cell_type": "code",
      "source": [
        "def flatten(sent):\n",
        "  for word in sent:\n",
        "    if isinstance(word, list):\n",
        "      #true\n",
        "        yield from flatten(word)\n",
        "    else:\n",
        "      #false\n",
        "      yield word"
      ],
      "metadata": {
        "id": "mUXagDC9FkS7"
      },
      "execution_count": 51,
      "outputs": []
    },
    {
      "cell_type": "code",
      "source": [
        "isinstance('h', int)"
      ],
      "metadata": {
        "colab": {
          "base_uri": "https://localhost:8080/"
        },
        "id": "g8qN5Tyx6v_I",
        "outputId": "14f3bd2e-b608-41e5-b130-3cfa844c1dab"
      },
      "execution_count": 52,
      "outputs": [
        {
          "output_type": "execute_result",
          "data": {
            "text/plain": [
              "False"
            ]
          },
          "metadata": {},
          "execution_count": 52
        }
      ]
    },
    {
      "cell_type": "code",
      "source": [
        "a = [[1,2,3],[[[1,1]],4,5]]\n",
        "flatten(a)"
      ],
      "metadata": {
        "colab": {
          "base_uri": "https://localhost:8080/"
        },
        "id": "OEpy8ayT6yVV",
        "outputId": "b5322066-ec97-4a75-e6a2-200c00fe283f"
      },
      "execution_count": 53,
      "outputs": [
        {
          "output_type": "execute_result",
          "data": {
            "text/plain": [
              "<generator object flatten at 0x7fc617335050>"
            ]
          },
          "metadata": {},
          "execution_count": 53
        }
      ]
    },
    {
      "cell_type": "code",
      "source": [
        "for i in flatten(a):\n",
        "  print(i)"
      ],
      "metadata": {
        "colab": {
          "base_uri": "https://localhost:8080/"
        },
        "id": "7j7IGWmq67RW",
        "outputId": "4036634f-20e1-452b-85a6-ff4fa989b790"
      },
      "execution_count": 54,
      "outputs": [
        {
          "output_type": "stream",
          "name": "stdout",
          "text": [
            "1\n",
            "2\n",
            "3\n",
            "1\n",
            "1\n",
            "4\n",
            "5\n"
          ]
        }
      ]
    },
    {
      "cell_type": "markdown",
      "source": [
        "#### 예외처리 | exception handling\n",
        "- 목적: 프로그램 정상 종료\n",
        "- 예외 발생 시, 사용자에게 알리고 조치 취함\n",
        "- 소프트랜딩"
      ],
      "metadata": {
        "id": "lcJuKezQ7D5C"
      }
    },
    {
      "cell_type": "code",
      "source": [
        "10/0 #division error"
      ],
      "metadata": {
        "colab": {
          "base_uri": "https://localhost:8080/",
          "height": 173
        },
        "id": "_dP6TFF67gev",
        "outputId": "ea51431e-d1cd-46b0-9705-37b38ff99389"
      },
      "execution_count": 55,
      "outputs": [
        {
          "output_type": "error",
          "ename": "ZeroDivisionError",
          "evalue": "ignored",
          "traceback": [
            "\u001b[0;31m---------------------------------------------------------------------------\u001b[0m",
            "\u001b[0;31mZeroDivisionError\u001b[0m                         Traceback (most recent call last)",
            "\u001b[0;32m<ipython-input-55-3fed973131c9>\u001b[0m in \u001b[0;36m<module>\u001b[0;34m()\u001b[0m\n\u001b[0;32m----> 1\u001b[0;31m \u001b[0;36m10\u001b[0m\u001b[0;34m/\u001b[0m\u001b[0;36m0\u001b[0m \u001b[0;31m#division error\u001b[0m\u001b[0;34m\u001b[0m\u001b[0;34m\u001b[0m\u001b[0m\n\u001b[0m",
            "\u001b[0;31mZeroDivisionError\u001b[0m: division by zero"
          ]
        }
      ]
    },
    {
      "cell_type": "code",
      "source": [
        "int('ssss') #value error"
      ],
      "metadata": {
        "colab": {
          "base_uri": "https://localhost:8080/",
          "height": 173
        },
        "id": "i71w1iiL7kbO",
        "outputId": "ee85a4eb-a666-4de5-bea7-3bf9874e067e"
      },
      "execution_count": 56,
      "outputs": [
        {
          "output_type": "error",
          "ename": "ValueError",
          "evalue": "ignored",
          "traceback": [
            "\u001b[0;31m---------------------------------------------------------------------------\u001b[0m",
            "\u001b[0;31mValueError\u001b[0m                                Traceback (most recent call last)",
            "\u001b[0;32m<ipython-input-56-6ec727cb3275>\u001b[0m in \u001b[0;36m<module>\u001b[0;34m()\u001b[0m\n\u001b[0;32m----> 1\u001b[0;31m \u001b[0mint\u001b[0m\u001b[0;34m(\u001b[0m\u001b[0;34m'ssss'\u001b[0m\u001b[0;34m)\u001b[0m \u001b[0;31m#value error\u001b[0m\u001b[0;34m\u001b[0m\u001b[0;34m\u001b[0m\u001b[0m\n\u001b[0m",
            "\u001b[0;31mValueError\u001b[0m: invalid literal for int() with base 10: 'ssss'"
          ]
        }
      ]
    },
    {
      "cell_type": "code",
      "source": [
        "hello += 1 #name error"
      ],
      "metadata": {
        "colab": {
          "base_uri": "https://localhost:8080/",
          "height": 173
        },
        "id": "osFlI4Fd7nmG",
        "outputId": "dec6a796-408d-4a84-eddd-7fbc87e8ca76"
      },
      "execution_count": 57,
      "outputs": [
        {
          "output_type": "error",
          "ename": "NameError",
          "evalue": "ignored",
          "traceback": [
            "\u001b[0;31m---------------------------------------------------------------------------\u001b[0m",
            "\u001b[0;31mNameError\u001b[0m                                 Traceback (most recent call last)",
            "\u001b[0;32m<ipython-input-57-2fdc130d3b1a>\u001b[0m in \u001b[0;36m<module>\u001b[0;34m()\u001b[0m\n\u001b[0;32m----> 1\u001b[0;31m \u001b[0mhello\u001b[0m \u001b[0;34m+=\u001b[0m \u001b[0;36m1\u001b[0m \u001b[0;31m#name error\u001b[0m\u001b[0;34m\u001b[0m\u001b[0;34m\u001b[0m\u001b[0m\n\u001b[0m",
            "\u001b[0;31mNameError\u001b[0m: name 'hello' is not defined"
          ]
        }
      ]
    },
    {
      "cell_type": "code",
      "source": [
        "ssssss[10] #index error"
      ],
      "metadata": {
        "colab": {
          "base_uri": "https://localhost:8080/",
          "height": 173
        },
        "id": "gUFn1oql7qy5",
        "outputId": "81810051-d3b9-46ba-8ed4-5f3814136c98"
      },
      "execution_count": 58,
      "outputs": [
        {
          "output_type": "error",
          "ename": "NameError",
          "evalue": "ignored",
          "traceback": [
            "\u001b[0;31m---------------------------------------------------------------------------\u001b[0m",
            "\u001b[0;31mNameError\u001b[0m                                 Traceback (most recent call last)",
            "\u001b[0;32m<ipython-input-58-ea99d7a0a24c>\u001b[0m in \u001b[0;36m<module>\u001b[0;34m()\u001b[0m\n\u001b[0;32m----> 1\u001b[0;31m \u001b[0mssssss\u001b[0m\u001b[0;34m[\u001b[0m\u001b[0;36m10\u001b[0m\u001b[0;34m]\u001b[0m \u001b[0;31m#index error\u001b[0m\u001b[0;34m\u001b[0m\u001b[0;34m\u001b[0m\u001b[0m\n\u001b[0m",
            "\u001b[0;31mNameError\u001b[0m: name 'ssssss' is not defined"
          ]
        }
      ]
    },
    {
      "cell_type": "code",
      "source": [
        "try:\n",
        "  #<에러 발생될 법한 코드 블럭>\n",
        "  10/0\n",
        "except ZeroDivisionError:#<에러 타입>:\n",
        "  #<처리할 방법>\n",
        "  print('0으로 나눌 수 없음')"
      ],
      "metadata": {
        "colab": {
          "base_uri": "https://localhost:8080/"
        },
        "id": "JBKOFIQv7xRo",
        "outputId": "749dfd7d-50c4-4f8e-bb75-90d031de8c1b"
      },
      "execution_count": 59,
      "outputs": [
        {
          "output_type": "stream",
          "name": "stdout",
          "text": [
            "0으로 나눌 수 없음\n"
          ]
        }
      ]
    },
    {
      "cell_type": "code",
      "source": [
        "try:\n",
        "  for i in range(10):\n",
        "    print(10 / i)\n",
        "except ZeroDivisionError:\n",
        "  print('error')"
      ],
      "metadata": {
        "colab": {
          "base_uri": "https://localhost:8080/"
        },
        "id": "EsqU6E5r71g-",
        "outputId": "96df2835-ce81-4c1a-f05b-131b0ebe65bd"
      },
      "execution_count": 60,
      "outputs": [
        {
          "output_type": "stream",
          "name": "stdout",
          "text": [
            "error\n"
          ]
        }
      ]
    },
    {
      "cell_type": "code",
      "source": [
        "for i in range(10):\n",
        "  try:\n",
        "    print(10 / i)\n",
        "  except ZeroDivisionError:\n",
        "    print('error')"
      ],
      "metadata": {
        "colab": {
          "base_uri": "https://localhost:8080/"
        },
        "id": "KGeGSLJa8ZPG",
        "outputId": "2ebd3146-86e5-43e1-829c-f71a4bb74863"
      },
      "execution_count": 61,
      "outputs": [
        {
          "output_type": "stream",
          "name": "stdout",
          "text": [
            "error\n",
            "10.0\n",
            "5.0\n",
            "3.3333333333333335\n",
            "2.5\n",
            "2.0\n",
            "1.6666666666666667\n",
            "1.4285714285714286\n",
            "1.25\n",
            "1.1111111111111112\n"
          ]
        }
      ]
    },
    {
      "cell_type": "code",
      "source": [
        "word = 'hello'\n",
        "while True:\n",
        "  index = input('인덱스를 입력하세요> ')\n",
        "  if index == 'q':\n",
        "    break\n",
        "\n",
        "  try:\n",
        "    print(word[int(index)])\n",
        "  except IndexError as e1:\n",
        "    print('index error')\n",
        "    print(e1)\n",
        "  except ValueError as e2:\n",
        "    print('type error')\n",
        "    print(e2)"
      ],
      "metadata": {
        "colab": {
          "base_uri": "https://localhost:8080/"
        },
        "id": "RCZbPZZu8iFh",
        "outputId": "10cf2cc0-4546-4926-8ab8-87c691728b3b"
      },
      "execution_count": 62,
      "outputs": [
        {
          "name": "stdout",
          "output_type": "stream",
          "text": [
            "인덱스를 입력하세요> 8\n",
            "index error\n",
            "string index out of range\n",
            "인덱스를 입력하세요> 1\n",
            "e\n",
            "인덱스를 입력하세요> f\n",
            "type error\n",
            "invalid literal for int() with base 10: 'f'\n",
            "인덱스를 입력하세요> q\n"
          ]
        }
      ]
    },
    {
      "cell_type": "markdown",
      "source": [
        "#### 예외 발생시키기\n",
        "프로그램을 강제 종료하고자 할 때 사용함\n",
        "- raise\n",
        "- assert"
      ],
      "metadata": {
        "id": "Jrz7wWxi9fvF"
      }
    },
    {
      "cell_type": "code",
      "source": [
        "raise ValueError('print....')"
      ],
      "metadata": {
        "colab": {
          "base_uri": "https://localhost:8080/",
          "height": 173
        },
        "id": "opmil6rE9PbP",
        "outputId": "a0349fba-6ce3-491d-d2ef-4075a51caaa5"
      },
      "execution_count": 63,
      "outputs": [
        {
          "output_type": "error",
          "ename": "ValueError",
          "evalue": "ignored",
          "traceback": [
            "\u001b[0;31m---------------------------------------------------------------------------\u001b[0m",
            "\u001b[0;31mValueError\u001b[0m                                Traceback (most recent call last)",
            "\u001b[0;32m<ipython-input-63-90129eef4ea0>\u001b[0m in \u001b[0;36m<module>\u001b[0;34m()\u001b[0m\n\u001b[0;32m----> 1\u001b[0;31m \u001b[0;32mraise\u001b[0m \u001b[0mValueError\u001b[0m\u001b[0;34m(\u001b[0m\u001b[0;34m'print....'\u001b[0m\u001b[0;34m)\u001b[0m\u001b[0;34m\u001b[0m\u001b[0;34m\u001b[0m\u001b[0m\n\u001b[0m",
            "\u001b[0;31mValueError\u001b[0m: print...."
          ]
        }
      ]
    },
    {
      "cell_type": "code",
      "source": [
        "while True:\n",
        "  num = input('number>> ')\n",
        "  if not num.isdigit():\n",
        "    raise ValueError('숫자가 아닙니다.')\n",
        "  else:\n",
        "    print(num)\n",
        "    break"
      ],
      "metadata": {
        "colab": {
          "base_uri": "https://localhost:8080/",
          "height": 264
        },
        "id": "zXdefq539vjw",
        "outputId": "10878f6d-ef2e-4a5b-ec46-07c2e88e655e"
      },
      "execution_count": 64,
      "outputs": [
        {
          "name": "stdout",
          "output_type": "stream",
          "text": [
            "number>> g\n"
          ]
        },
        {
          "output_type": "error",
          "ename": "ValueError",
          "evalue": "ignored",
          "traceback": [
            "\u001b[0;31m---------------------------------------------------------------------------\u001b[0m",
            "\u001b[0;31mValueError\u001b[0m                                Traceback (most recent call last)",
            "\u001b[0;32m<ipython-input-64-559ef073e8c8>\u001b[0m in \u001b[0;36m<module>\u001b[0;34m()\u001b[0m\n\u001b[1;32m      2\u001b[0m   \u001b[0mnum\u001b[0m \u001b[0;34m=\u001b[0m \u001b[0minput\u001b[0m\u001b[0;34m(\u001b[0m\u001b[0;34m'number>> '\u001b[0m\u001b[0;34m)\u001b[0m\u001b[0;34m\u001b[0m\u001b[0;34m\u001b[0m\u001b[0m\n\u001b[1;32m      3\u001b[0m   \u001b[0;32mif\u001b[0m \u001b[0;32mnot\u001b[0m \u001b[0mnum\u001b[0m\u001b[0;34m.\u001b[0m\u001b[0misdigit\u001b[0m\u001b[0;34m(\u001b[0m\u001b[0;34m)\u001b[0m\u001b[0;34m:\u001b[0m\u001b[0;34m\u001b[0m\u001b[0;34m\u001b[0m\u001b[0m\n\u001b[0;32m----> 4\u001b[0;31m     \u001b[0;32mraise\u001b[0m \u001b[0mValueError\u001b[0m\u001b[0;34m(\u001b[0m\u001b[0;34m'숫자가 아닙니다.'\u001b[0m\u001b[0;34m)\u001b[0m\u001b[0;34m\u001b[0m\u001b[0;34m\u001b[0m\u001b[0m\n\u001b[0m\u001b[1;32m      5\u001b[0m   \u001b[0;32melse\u001b[0m\u001b[0;34m:\u001b[0m\u001b[0;34m\u001b[0m\u001b[0;34m\u001b[0m\u001b[0m\n\u001b[1;32m      6\u001b[0m     \u001b[0mprint\u001b[0m\u001b[0;34m(\u001b[0m\u001b[0mnum\u001b[0m\u001b[0;34m)\u001b[0m\u001b[0;34m\u001b[0m\u001b[0;34m\u001b[0m\u001b[0m\n",
            "\u001b[0;31mValueError\u001b[0m: 숫자가 아닙니다."
          ]
        }
      ]
    },
    {
      "cell_type": "code",
      "source": [
        "assert <참인 조건>, '예외 메시지' #AssertionError "
      ],
      "metadata": {
        "id": "Ol_HD9Cq-Da7"
      },
      "execution_count": null,
      "outputs": []
    },
    {
      "cell_type": "code",
      "source": [
        "def get_binary(num):\n",
        "  assert isinstance(num, int), '정수 아님' #check 기능\n",
        "  return bin(num)\n",
        "\n",
        "get_binary('ee')"
      ],
      "metadata": {
        "colab": {
          "base_uri": "https://localhost:8080/",
          "height": 336
        },
        "id": "g2dwXvKQ-Q0N",
        "outputId": "79a0977d-7697-4566-c0f6-c8814f57f0f1"
      },
      "execution_count": 65,
      "outputs": [
        {
          "output_type": "error",
          "ename": "AssertionError",
          "evalue": "ignored",
          "traceback": [
            "\u001b[0;31m---------------------------------------------------------------------------\u001b[0m",
            "\u001b[0;31mAssertionError\u001b[0m                            Traceback (most recent call last)",
            "\u001b[0;32m<ipython-input-65-7b7805371140>\u001b[0m in \u001b[0;36m<module>\u001b[0;34m()\u001b[0m\n\u001b[1;32m      3\u001b[0m   \u001b[0;32mreturn\u001b[0m \u001b[0mbin\u001b[0m\u001b[0;34m(\u001b[0m\u001b[0mnum\u001b[0m\u001b[0;34m)\u001b[0m\u001b[0;34m\u001b[0m\u001b[0;34m\u001b[0m\u001b[0m\n\u001b[1;32m      4\u001b[0m \u001b[0;34m\u001b[0m\u001b[0m\n\u001b[0;32m----> 5\u001b[0;31m \u001b[0mget_binary\u001b[0m\u001b[0;34m(\u001b[0m\u001b[0;34m'ee'\u001b[0m\u001b[0;34m)\u001b[0m\u001b[0;34m\u001b[0m\u001b[0;34m\u001b[0m\u001b[0m\n\u001b[0m",
            "\u001b[0;32m<ipython-input-65-7b7805371140>\u001b[0m in \u001b[0;36mget_binary\u001b[0;34m(num)\u001b[0m\n\u001b[1;32m      1\u001b[0m \u001b[0;32mdef\u001b[0m \u001b[0mget_binary\u001b[0m\u001b[0;34m(\u001b[0m\u001b[0mnum\u001b[0m\u001b[0;34m)\u001b[0m\u001b[0;34m:\u001b[0m\u001b[0;34m\u001b[0m\u001b[0;34m\u001b[0m\u001b[0m\n\u001b[0;32m----> 2\u001b[0;31m   \u001b[0;32massert\u001b[0m \u001b[0misinstance\u001b[0m\u001b[0;34m(\u001b[0m\u001b[0mnum\u001b[0m\u001b[0;34m,\u001b[0m \u001b[0mint\u001b[0m\u001b[0;34m)\u001b[0m\u001b[0;34m,\u001b[0m \u001b[0;34m'정수 아님'\u001b[0m \u001b[0;31m#check 기능\u001b[0m\u001b[0;34m\u001b[0m\u001b[0;34m\u001b[0m\u001b[0m\n\u001b[0m\u001b[1;32m      3\u001b[0m   \u001b[0;32mreturn\u001b[0m \u001b[0mbin\u001b[0m\u001b[0;34m(\u001b[0m\u001b[0mnum\u001b[0m\u001b[0;34m)\u001b[0m\u001b[0;34m\u001b[0m\u001b[0;34m\u001b[0m\u001b[0m\n\u001b[1;32m      4\u001b[0m \u001b[0;34m\u001b[0m\u001b[0m\n\u001b[1;32m      5\u001b[0m \u001b[0mget_binary\u001b[0m\u001b[0;34m(\u001b[0m\u001b[0;34m'ee'\u001b[0m\u001b[0;34m)\u001b[0m\u001b[0;34m\u001b[0m\u001b[0;34m\u001b[0m\u001b[0m\n",
            "\u001b[0;31mAssertionError\u001b[0m: 정수 아님"
          ]
        }
      ]
    },
    {
      "cell_type": "markdown",
      "source": [
        "#### 예외 정의하기\n",
        "- 사용자 정의 예외\n",
        "- Exception이라는 부모클래스를 상속받는다\n",
        "\n"
      ],
      "metadata": {
        "id": "9G1hIfT9-rEa"
      }
    },
    {
      "cell_type": "code",
      "source": [
        "class MyException(Exception):\n",
        "  pass"
      ],
      "metadata": {
        "id": "XgOn43qr-j_w"
      },
      "execution_count": 66,
      "outputs": []
    },
    {
      "cell_type": "code",
      "source": [
        "for word in ['a', 'b', 'C']:\n",
        "  if word.isupper():\n",
        "    raise MyException('대문자 안 됨!')\n",
        "  else:\n",
        "    print(word)"
      ],
      "metadata": {
        "colab": {
          "base_uri": "https://localhost:8080/",
          "height": 282
        },
        "id": "PW1T3StZ-qBO",
        "outputId": "91e43f59-0ab2-4305-9369-58de64f2496f"
      },
      "execution_count": 67,
      "outputs": [
        {
          "output_type": "stream",
          "name": "stdout",
          "text": [
            "a\n",
            "b\n"
          ]
        },
        {
          "output_type": "error",
          "ename": "MyException",
          "evalue": "ignored",
          "traceback": [
            "\u001b[0;31m---------------------------------------------------------------------------\u001b[0m",
            "\u001b[0;31mMyException\u001b[0m                               Traceback (most recent call last)",
            "\u001b[0;32m<ipython-input-67-c80b6f80ed7b>\u001b[0m in \u001b[0;36m<module>\u001b[0;34m()\u001b[0m\n\u001b[1;32m      1\u001b[0m \u001b[0;32mfor\u001b[0m \u001b[0mword\u001b[0m \u001b[0;32min\u001b[0m \u001b[0;34m[\u001b[0m\u001b[0;34m'a'\u001b[0m\u001b[0;34m,\u001b[0m \u001b[0;34m'b'\u001b[0m\u001b[0;34m,\u001b[0m \u001b[0;34m'C'\u001b[0m\u001b[0;34m]\u001b[0m\u001b[0;34m:\u001b[0m\u001b[0;34m\u001b[0m\u001b[0;34m\u001b[0m\u001b[0m\n\u001b[1;32m      2\u001b[0m   \u001b[0;32mif\u001b[0m \u001b[0mword\u001b[0m\u001b[0;34m.\u001b[0m\u001b[0misupper\u001b[0m\u001b[0;34m(\u001b[0m\u001b[0;34m)\u001b[0m\u001b[0;34m:\u001b[0m\u001b[0;34m\u001b[0m\u001b[0;34m\u001b[0m\u001b[0m\n\u001b[0;32m----> 3\u001b[0;31m     \u001b[0;32mraise\u001b[0m \u001b[0mMyException\u001b[0m\u001b[0;34m(\u001b[0m\u001b[0;34m'대문자 안 됨!'\u001b[0m\u001b[0;34m)\u001b[0m\u001b[0;34m\u001b[0m\u001b[0;34m\u001b[0m\u001b[0m\n\u001b[0m\u001b[1;32m      4\u001b[0m   \u001b[0;32melse\u001b[0m\u001b[0;34m:\u001b[0m\u001b[0;34m\u001b[0m\u001b[0;34m\u001b[0m\u001b[0m\n\u001b[1;32m      5\u001b[0m     \u001b[0mprint\u001b[0m\u001b[0;34m(\u001b[0m\u001b[0mword\u001b[0m\u001b[0;34m)\u001b[0m\u001b[0;34m\u001b[0m\u001b[0;34m\u001b[0m\u001b[0m\n",
            "\u001b[0;31mMyException\u001b[0m: 대문자 안 됨!"
          ]
        }
      ]
    },
    {
      "cell_type": "code",
      "source": [
        "class UppercaseException(Exception):\n",
        "  def __init__(self):\n",
        "    super().__init__('대문자 안된다구')\n",
        "\n",
        "for word in ['a', 'b', 'C']:\n",
        "  if word.isupper():\n",
        "    raise UppercaseException\n",
        "  else:\n",
        "    print(word)"
      ],
      "metadata": {
        "colab": {
          "base_uri": "https://localhost:8080/",
          "height": 282
        },
        "id": "caeC3C2L_VVt",
        "outputId": "9bd6d151-aa1d-4158-9bf7-19ff33112920"
      },
      "execution_count": 68,
      "outputs": [
        {
          "output_type": "stream",
          "name": "stdout",
          "text": [
            "a\n",
            "b\n"
          ]
        },
        {
          "output_type": "error",
          "ename": "UppercaseException",
          "evalue": "ignored",
          "traceback": [
            "\u001b[0;31m---------------------------------------------------------------------------\u001b[0m",
            "\u001b[0;31mUppercaseException\u001b[0m                        Traceback (most recent call last)",
            "\u001b[0;32m<ipython-input-68-fc824f1e0a98>\u001b[0m in \u001b[0;36m<module>\u001b[0;34m()\u001b[0m\n\u001b[1;32m      5\u001b[0m \u001b[0;32mfor\u001b[0m \u001b[0mword\u001b[0m \u001b[0;32min\u001b[0m \u001b[0;34m[\u001b[0m\u001b[0;34m'a'\u001b[0m\u001b[0;34m,\u001b[0m \u001b[0;34m'b'\u001b[0m\u001b[0;34m,\u001b[0m \u001b[0;34m'C'\u001b[0m\u001b[0;34m]\u001b[0m\u001b[0;34m:\u001b[0m\u001b[0;34m\u001b[0m\u001b[0;34m\u001b[0m\u001b[0m\n\u001b[1;32m      6\u001b[0m   \u001b[0;32mif\u001b[0m \u001b[0mword\u001b[0m\u001b[0;34m.\u001b[0m\u001b[0misupper\u001b[0m\u001b[0;34m(\u001b[0m\u001b[0;34m)\u001b[0m\u001b[0;34m:\u001b[0m\u001b[0;34m\u001b[0m\u001b[0;34m\u001b[0m\u001b[0m\n\u001b[0;32m----> 7\u001b[0;31m     \u001b[0;32mraise\u001b[0m \u001b[0mUppercaseException\u001b[0m\u001b[0;34m\u001b[0m\u001b[0;34m\u001b[0m\u001b[0m\n\u001b[0m\u001b[1;32m      8\u001b[0m   \u001b[0;32melse\u001b[0m\u001b[0;34m:\u001b[0m\u001b[0;34m\u001b[0m\u001b[0;34m\u001b[0m\u001b[0m\n\u001b[1;32m      9\u001b[0m     \u001b[0mprint\u001b[0m\u001b[0;34m(\u001b[0m\u001b[0mword\u001b[0m\u001b[0;34m)\u001b[0m\u001b[0;34m\u001b[0m\u001b[0;34m\u001b[0m\u001b[0m\n",
            "\u001b[0;31mUppercaseException\u001b[0m: 대문자 안된다구"
          ]
        }
      ]
    }
  ]
}
