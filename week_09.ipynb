{
  "nbformat": 4,
  "nbformat_minor": 0,
  "metadata": {
    "colab": {
      "name": "week_09.ipynb",
      "provenance": [],
      "collapsed_sections": [],
      "authorship_tag": "ABX9TyO3Z2UQMqqKK/DyiwcyQ0nt",
      "include_colab_link": true
    },
    "kernelspec": {
      "name": "python3",
      "display_name": "Python 3"
    },
    "language_info": {
      "name": "python"
    }
  },
  "cells": [
    {
      "cell_type": "markdown",
      "metadata": {
        "id": "view-in-github",
        "colab_type": "text"
      },
      "source": [
        "<a href=\"https://colab.research.google.com/github/HUFS-Programming-2022/Junsu_202102707/blob/main/week_09.ipynb\" target=\"_parent\"><img src=\"https://colab.research.google.com/assets/colab-badge.svg\" alt=\"Open In Colab\"/></a>"
      ]
    },
    {
      "cell_type": "markdown",
      "source": [
        "## Dictionary\n",
        "- 영어 사전\n",
        "  - 단어: 뜻\n",
        "  - 키: 값\n",
        "  - 순서가 없다 => 인덱싱 불가능\n",
        "  - 키로 값을 찾음\n",
        "    - 키: 중복되지 않는 고유한 값\n",
        "  - 가변: 수정, 삭제, 추가 가능\n",
        "  - 타입: dict\n",
        "  - 형변환: dict()\n",
        "  - 중괄호 사용 {}, 콤마로 구분함\n",
        "  - 값에 다양한 자료구조가 올 수 있음"
      ],
      "metadata": {
        "id": "FuTZW88mQNEq"
      }
    },
    {
      "cell_type": "code",
      "execution_count": 11,
      "metadata": {
        "colab": {
          "base_uri": "https://localhost:8080/"
        },
        "id": "asCX8lpAQJFN",
        "outputId": "7c244299-e9dc-4bb9-e997-645e1a9de0d9"
      },
      "outputs": [
        {
          "output_type": "execute_result",
          "data": {
            "text/plain": [
              "set"
            ]
          },
          "metadata": {},
          "execution_count": 11
        }
      ],
      "source": [
        "empty = dict()\n",
        "empty = {}\n",
        "#set도 {}를 쓰지만 {}만 쓰면 dict임\n",
        "empty = set() #이렇게 써야 set\n",
        "type(empty)"
      ]
    },
    {
      "cell_type": "code",
      "source": [
        "a = {1, 2, 3} #set\n",
        "a = {1:'apple', 2:'banana', 3:'kiwi'} #dict\n",
        "a"
      ],
      "metadata": {
        "colab": {
          "base_uri": "https://localhost:8080/"
        },
        "id": "IYGGYpDBSsxQ",
        "outputId": "8c050d71-d533-4b9f-cf58-2c54221f52b8"
      },
      "execution_count": 12,
      "outputs": [
        {
          "output_type": "execute_result",
          "data": {
            "text/plain": [
              "{1: 'apple', 2: 'banana', 3: 'kiwi'}"
            ]
          },
          "metadata": {},
          "execution_count": 12
        }
      ]
    },
    {
      "cell_type": "code",
      "source": [
        "b = dict(apple='a', banana='b', kiwi='c') #여기에선 key에 따옴표 안해도 됨\n",
        "b"
      ],
      "metadata": {
        "colab": {
          "base_uri": "https://localhost:8080/"
        },
        "id": "iKmqUeYrS4zR",
        "outputId": "64ffca54-c7b0-4c56-e3a3-ecdd2dcaf914"
      },
      "execution_count": 13,
      "outputs": [
        {
          "output_type": "execute_result",
          "data": {
            "text/plain": [
              "{'apple': 'a', 'banana': 'b', 'kiwi': 'c'}"
            ]
          },
          "metadata": {},
          "execution_count": 13
        }
      ]
    },
    {
      "cell_type": "code",
      "source": [
        "#출석부로 딕셔너리 만들기\n",
        "#이름, 학번, 학과\n",
        "\n",
        "#{'james':[202201, '경제학과'], 'laura':[202203, '스페인어과'], 'louis':[202202, '컴공과']}\n",
        "#key는 중복되면 안되므로 학번이 key가 되어야 함!\n",
        "{202201:['james', '경제학과'], 202203:['laura', '스페인어과'], 202202:['louis', '컴공과']}"
      ],
      "metadata": {
        "colab": {
          "base_uri": "https://localhost:8080/"
        },
        "id": "dLjDScYXTNzu",
        "outputId": "e7531f4f-ecde-4cf5-9177-c953d0fb3f73"
      },
      "execution_count": 14,
      "outputs": [
        {
          "output_type": "execute_result",
          "data": {
            "text/plain": [
              "{202201: ['james', '경제학과'],\n",
              " 202202: ['louis', '컴공과'],\n",
              " 202203: ['laura', '스페인어과']}"
            ]
          },
          "metadata": {},
          "execution_count": 14
        }
      ]
    },
    {
      "cell_type": "markdown",
      "source": [
        "### 형 변환"
      ],
      "metadata": {
        "id": "w_ETe3c6VdHL"
      }
    },
    {
      "cell_type": "code",
      "source": [
        "ex1 = [[1, 2], [2, 3], [3, 4]]\n",
        "dict(ex1)"
      ],
      "metadata": {
        "colab": {
          "base_uri": "https://localhost:8080/"
        },
        "id": "7GwXuFRgVaa6",
        "outputId": "ad6f1ad9-1dc4-4131-f301-eb5fe25985ec"
      },
      "execution_count": 15,
      "outputs": [
        {
          "output_type": "execute_result",
          "data": {
            "text/plain": [
              "{1: 2, 2: 3, 3: 4}"
            ]
          },
          "metadata": {},
          "execution_count": 15
        }
      ]
    },
    {
      "cell_type": "code",
      "source": [
        "ex2 = [(1, 2), (2, 3), (1, 3)]\n",
        "dict(ex2)"
      ],
      "metadata": {
        "colab": {
          "base_uri": "https://localhost:8080/"
        },
        "id": "pjzhQehjVuKF",
        "outputId": "0889cdc9-588f-4b26-d9f6-fab36913db87"
      },
      "execution_count": 16,
      "outputs": [
        {
          "output_type": "execute_result",
          "data": {
            "text/plain": [
              "{1: 3, 2: 3}"
            ]
          },
          "metadata": {},
          "execution_count": 16
        }
      ]
    },
    {
      "cell_type": "code",
      "source": [
        "ex3 = ['ab', 'bc', 'cd']\n",
        "dict(ex3)"
      ],
      "metadata": {
        "colab": {
          "base_uri": "https://localhost:8080/"
        },
        "id": "4-Q_oarmV3QS",
        "outputId": "9e34fd71-6382-485d-8cd2-6e41c691642a"
      },
      "execution_count": 17,
      "outputs": [
        {
          "output_type": "execute_result",
          "data": {
            "text/plain": [
              "{'a': 'b', 'b': 'c', 'c': 'd'}"
            ]
          },
          "metadata": {},
          "execution_count": 17
        }
      ]
    },
    {
      "cell_type": "code",
      "source": [
        "ex3 = ['abb', 'bcc', 'cdd']\n",
        "dict(ex3)"
      ],
      "metadata": {
        "colab": {
          "base_uri": "https://localhost:8080/",
          "height": 192
        },
        "id": "Gzk-KQAXDYG2",
        "outputId": "7205ab60-1829-46a3-bdc1-704dc6a59e12"
      },
      "execution_count": 18,
      "outputs": [
        {
          "output_type": "error",
          "ename": "ValueError",
          "evalue": "ignored",
          "traceback": [
            "\u001b[0;31m---------------------------------------------------------------------------\u001b[0m",
            "\u001b[0;31mValueError\u001b[0m                                Traceback (most recent call last)",
            "\u001b[0;32m<ipython-input-18-3665b678d5b7>\u001b[0m in \u001b[0;36m<module>\u001b[0;34m()\u001b[0m\n\u001b[1;32m      1\u001b[0m \u001b[0mex3\u001b[0m \u001b[0;34m=\u001b[0m \u001b[0;34m[\u001b[0m\u001b[0;34m'abb'\u001b[0m\u001b[0;34m,\u001b[0m \u001b[0;34m'bcc'\u001b[0m\u001b[0;34m,\u001b[0m \u001b[0;34m'cdd'\u001b[0m\u001b[0;34m]\u001b[0m\u001b[0;34m\u001b[0m\u001b[0;34m\u001b[0m\u001b[0m\n\u001b[0;32m----> 2\u001b[0;31m \u001b[0mdict\u001b[0m\u001b[0;34m(\u001b[0m\u001b[0mex3\u001b[0m\u001b[0;34m)\u001b[0m\u001b[0;34m\u001b[0m\u001b[0;34m\u001b[0m\u001b[0m\n\u001b[0m",
            "\u001b[0;31mValueError\u001b[0m: dictionary update sequence element #0 has length 3; 2 is required"
          ]
        }
      ]
    },
    {
      "cell_type": "markdown",
      "source": [
        "### 항목 조회 & 변경"
      ],
      "metadata": {
        "id": "0NM__sk4WAV0"
      }
    },
    {
      "cell_type": "code",
      "source": [
        "pythons = {#성: 이름\n",
        "           'Chapman': 'Graham',\n",
        "           'Cleese': 'Jhon',\n",
        "           'Idle': 'James',\n",
        "           'Jones': 'Terry',\n",
        "           'Palin': 'Michael'}"
      ],
      "metadata": {
        "id": "dPbV_IjOV_rb"
      },
      "execution_count": 19,
      "outputs": []
    },
    {
      "cell_type": "code",
      "source": [
        "#예외 피하는 법 1\n",
        "'Hwa' in pythons"
      ],
      "metadata": {
        "colab": {
          "base_uri": "https://localhost:8080/"
        },
        "id": "GDFCVomsWiLw",
        "outputId": "c72e070e-3631-402d-ddb4-72cb2372600a"
      },
      "execution_count": 20,
      "outputs": [
        {
          "output_type": "execute_result",
          "data": {
            "text/plain": [
              "False"
            ]
          },
          "metadata": {},
          "execution_count": 20
        }
      ]
    },
    {
      "cell_type": "code",
      "source": [
        "#예외 피하는 법 2\n",
        "#get()\n",
        "pythons.get('Lee', 0) #없는 키는 None 반환"
      ],
      "metadata": {
        "colab": {
          "base_uri": "https://localhost:8080/"
        },
        "id": "eXg2qwHuWpA6",
        "outputId": "c9dc7042-83a3-443d-cef6-6816efb7abfa"
      },
      "execution_count": 21,
      "outputs": [
        {
          "output_type": "execute_result",
          "data": {
            "text/plain": [
              "0"
            ]
          },
          "metadata": {},
          "execution_count": 21
        }
      ]
    },
    {
      "cell_type": "markdown",
      "source": [
        "### 전체 조회\n",
        "- keys()\n",
        "- values()\n",
        "- items()"
      ],
      "metadata": {
        "id": "hlDHeYfoW7ia"
      }
    },
    {
      "cell_type": "code",
      "source": [
        "pythons.keys()"
      ],
      "metadata": {
        "colab": {
          "base_uri": "https://localhost:8080/"
        },
        "id": "ut5pvCXaW5Wq",
        "outputId": "ce4154a6-c5a3-4c2a-c5b9-09506e93d033"
      },
      "execution_count": 22,
      "outputs": [
        {
          "output_type": "execute_result",
          "data": {
            "text/plain": [
              "dict_keys(['Chapman', 'Cleese', 'Idle', 'Jones', 'Palin'])"
            ]
          },
          "metadata": {},
          "execution_count": 22
        }
      ]
    },
    {
      "cell_type": "code",
      "source": [
        "list(pythons.keys())"
      ],
      "metadata": {
        "colab": {
          "base_uri": "https://localhost:8080/"
        },
        "id": "aVBxttpDXBzj",
        "outputId": "881cc0b1-d61b-4fb0-80ad-25ae1caf4603"
      },
      "execution_count": 23,
      "outputs": [
        {
          "output_type": "execute_result",
          "data": {
            "text/plain": [
              "['Chapman', 'Cleese', 'Idle', 'Jones', 'Palin']"
            ]
          },
          "metadata": {},
          "execution_count": 23
        }
      ]
    },
    {
      "cell_type": "code",
      "source": [
        "pythons.values()"
      ],
      "metadata": {
        "colab": {
          "base_uri": "https://localhost:8080/"
        },
        "id": "WCAx3FQcXE2V",
        "outputId": "1b8ccfbd-1d2c-4dbc-c16a-7019c6294b30"
      },
      "execution_count": 24,
      "outputs": [
        {
          "output_type": "execute_result",
          "data": {
            "text/plain": [
              "dict_values(['Graham', 'Jhon', 'James', 'Terry', 'Michael'])"
            ]
          },
          "metadata": {},
          "execution_count": 24
        }
      ]
    },
    {
      "cell_type": "code",
      "source": [
        "pythons.items() #(키, 값) 튜플 형태로 => 순회 많이 씀"
      ],
      "metadata": {
        "colab": {
          "base_uri": "https://localhost:8080/"
        },
        "id": "rE8ZYZJ1XIJ-",
        "outputId": "ed49f493-6475-4a2c-e670-3761bc52ced7"
      },
      "execution_count": 25,
      "outputs": [
        {
          "output_type": "execute_result",
          "data": {
            "text/plain": [
              "dict_items([('Chapman', 'Graham'), ('Cleese', 'Jhon'), ('Idle', 'James'), ('Jones', 'Terry'), ('Palin', 'Michael')])"
            ]
          },
          "metadata": {},
          "execution_count": 25
        }
      ]
    },
    {
      "cell_type": "code",
      "source": [
        "for k, v in pythons.items():\n",
        "  print(f'{k} = {v}')"
      ],
      "metadata": {
        "colab": {
          "base_uri": "https://localhost:8080/"
        },
        "id": "eK8L7f5NXKRk",
        "outputId": "2afd21cf-5061-4e9a-9ddf-e723b3e99346"
      },
      "execution_count": 26,
      "outputs": [
        {
          "output_type": "stream",
          "name": "stdout",
          "text": [
            "Chapman = Graham\n",
            "Cleese = Jhon\n",
            "Idle = James\n",
            "Jones = Terry\n",
            "Palin = Michael\n"
          ]
        }
      ]
    },
    {
      "cell_type": "code",
      "source": [
        "[(k, v) for k, v in pythons.items()]"
      ],
      "metadata": {
        "colab": {
          "base_uri": "https://localhost:8080/"
        },
        "id": "kk_ks5gWXccb",
        "outputId": "e0a8ed4b-d886-4e6f-c6b4-116ceacc974f"
      },
      "execution_count": 27,
      "outputs": [
        {
          "output_type": "execute_result",
          "data": {
            "text/plain": [
              "[('Chapman', 'Graham'),\n",
              " ('Cleese', 'Jhon'),\n",
              " ('Idle', 'James'),\n",
              " ('Jones', 'Terry'),\n",
              " ('Palin', 'Michael')]"
            ]
          },
          "metadata": {},
          "execution_count": 27
        }
      ]
    },
    {
      "cell_type": "code",
      "source": [
        "[k[0] for k in pythons.items()]\n",
        "\n",
        "#0=key, 1=value"
      ],
      "metadata": {
        "colab": {
          "base_uri": "https://localhost:8080/"
        },
        "id": "ILV0F2zfXkJB",
        "outputId": "bfe6e3e9-fd58-4d9a-a1fb-1aec28d2ca17"
      },
      "execution_count": 28,
      "outputs": [
        {
          "output_type": "execute_result",
          "data": {
            "text/plain": [
              "['Chapman', 'Cleese', 'Idle', 'Jones', 'Palin']"
            ]
          },
          "metadata": {},
          "execution_count": 28
        }
      ]
    },
    {
      "cell_type": "code",
      "source": [
        "[k for k in pythons] #keys 아무것도 없으면 키 값만 나옴"
      ],
      "metadata": {
        "colab": {
          "base_uri": "https://localhost:8080/"
        },
        "id": "ZyKTtOMRXsa9",
        "outputId": "f1a0d2ab-eb43-4490-ede6-4911db633316"
      },
      "execution_count": 29,
      "outputs": [
        {
          "output_type": "execute_result",
          "data": {
            "text/plain": [
              "['Chapman', 'Cleese', 'Idle', 'Jones', 'Palin']"
            ]
          },
          "metadata": {},
          "execution_count": 29
        }
      ]
    },
    {
      "cell_type": "code",
      "source": [
        "animal = 'cat snake monkey ant spider'.split()\n",
        "legs = 4, 0, 2, 4, 8\n",
        "\n",
        "num_leg = {}\n",
        "for i in range(len(animal)):\n",
        "  num_leg[animal[i]] = legs[i]\n",
        "\n",
        "print(num_leg)"
      ],
      "metadata": {
        "colab": {
          "base_uri": "https://localhost:8080/"
        },
        "id": "tUKjMUz-Xwh-",
        "outputId": "a13d8ffd-02cb-4089-8402-8c45e6690b43"
      },
      "execution_count": 30,
      "outputs": [
        {
          "output_type": "stream",
          "name": "stdout",
          "text": [
            "{'cat': 4, 'snake': 0, 'monkey': 2, 'ant': 4, 'spider': 8}\n"
          ]
        }
      ]
    },
    {
      "cell_type": "markdown",
      "source": [
        "Q. pythons에서 성:이름, 성 첫글자만, 이름은 글자 개수로 이루어진 튜플(성, 이름) 리스트로 반환하기"
      ],
      "metadata": {
        "id": "M2jOTHkPdSlC"
      }
    },
    {
      "cell_type": "code",
      "source": [
        "#1\n",
        "[(k[0], len(v)) for k, v in pythons.items()]"
      ],
      "metadata": {
        "colab": {
          "base_uri": "https://localhost:8080/"
        },
        "id": "IBPL9p37EIrB",
        "outputId": "e93e4949-b39d-4341-d683-4e4fb4aba50d"
      },
      "execution_count": 31,
      "outputs": [
        {
          "output_type": "execute_result",
          "data": {
            "text/plain": [
              "[('C', 6), ('C', 4), ('I', 5), ('J', 5), ('P', 7)]"
            ]
          },
          "metadata": {},
          "execution_count": 31
        }
      ]
    },
    {
      "cell_type": "code",
      "source": [
        "#2\n",
        "[(k[0][0], len(k[1])) for k in pythons.items()]"
      ],
      "metadata": {
        "colab": {
          "base_uri": "https://localhost:8080/"
        },
        "id": "TKdktxdcEa6_",
        "outputId": "9cfd64be-f456-46ba-8397-9730d7d0777a"
      },
      "execution_count": 32,
      "outputs": [
        {
          "output_type": "execute_result",
          "data": {
            "text/plain": [
              "[('C', 6), ('C', 4), ('I', 5), ('J', 5), ('P', 7)]"
            ]
          },
          "metadata": {},
          "execution_count": 32
        }
      ]
    },
    {
      "cell_type": "markdown",
      "source": [
        "### 값 수정, 삭제, 복제, 비교"
      ],
      "metadata": {
        "id": "LEcjvZ3Xduj9"
      }
    },
    {
      "cell_type": "code",
      "source": [
        "pythons"
      ],
      "metadata": {
        "colab": {
          "base_uri": "https://localhost:8080/"
        },
        "id": "q8WT0K84aqF8",
        "outputId": "e0b76200-fd2e-41e3-af7b-8fe157c4b981"
      },
      "execution_count": 33,
      "outputs": [
        {
          "output_type": "execute_result",
          "data": {
            "text/plain": [
              "{'Chapman': 'Graham',\n",
              " 'Cleese': 'Jhon',\n",
              " 'Idle': 'James',\n",
              " 'Jones': 'Terry',\n",
              " 'Palin': 'Michael'}"
            ]
          },
          "metadata": {},
          "execution_count": 33
        }
      ]
    },
    {
      "cell_type": "code",
      "source": [
        "others = {\n",
        "    'Marx':'Groucho',\n",
        "    'Howard':'Moe'\n",
        "}\n",
        "\n",
        "others"
      ],
      "metadata": {
        "colab": {
          "base_uri": "https://localhost:8080/"
        },
        "id": "Q9iKXqJ-dx9b",
        "outputId": "66a19b27-9166-48cb-aa97-56dc76934923"
      },
      "execution_count": 34,
      "outputs": [
        {
          "output_type": "execute_result",
          "data": {
            "text/plain": [
              "{'Howard': 'Moe', 'Marx': 'Groucho'}"
            ]
          },
          "metadata": {},
          "execution_count": 34
        }
      ]
    },
    {
      "cell_type": "code",
      "source": [
        "pythons.update(others)"
      ],
      "metadata": {
        "id": "b46_oeO3d9YJ"
      },
      "execution_count": 35,
      "outputs": []
    },
    {
      "cell_type": "code",
      "source": [
        "pythons"
      ],
      "metadata": {
        "colab": {
          "base_uri": "https://localhost:8080/"
        },
        "id": "8zBCBqXreGjS",
        "outputId": "d2d698dd-441e-4340-ff80-8aa68746754e"
      },
      "execution_count": 36,
      "outputs": [
        {
          "output_type": "execute_result",
          "data": {
            "text/plain": [
              "{'Chapman': 'Graham',\n",
              " 'Cleese': 'Jhon',\n",
              " 'Howard': 'Moe',\n",
              " 'Idle': 'James',\n",
              " 'Jones': 'Terry',\n",
              " 'Marx': 'Groucho',\n",
              " 'Palin': 'Michael'}"
            ]
          },
          "metadata": {},
          "execution_count": 36
        }
      ]
    },
    {
      "cell_type": "code",
      "source": [
        "#python 3\n",
        "{**others, **pythons}"
      ],
      "metadata": {
        "colab": {
          "base_uri": "https://localhost:8080/"
        },
        "id": "atky-SUneHqj",
        "outputId": "8a12351d-aa0c-4e2c-f295-fd4445e72b15"
      },
      "execution_count": 37,
      "outputs": [
        {
          "output_type": "execute_result",
          "data": {
            "text/plain": [
              "{'Chapman': 'Graham',\n",
              " 'Cleese': 'Jhon',\n",
              " 'Howard': 'Moe',\n",
              " 'Idle': 'James',\n",
              " 'Jones': 'Terry',\n",
              " 'Marx': 'Groucho',\n",
              " 'Palin': 'Michael'}"
            ]
          },
          "metadata": {},
          "execution_count": 37
        }
      ]
    },
    {
      "cell_type": "code",
      "source": [
        "#삭제\n",
        "del pythons['Howard']\n",
        "\n",
        "pythons"
      ],
      "metadata": {
        "colab": {
          "base_uri": "https://localhost:8080/"
        },
        "id": "2sGQ3NmVeN6M",
        "outputId": "7eeaf4be-129f-4293-b7b9-af6081d83623"
      },
      "execution_count": 38,
      "outputs": [
        {
          "output_type": "execute_result",
          "data": {
            "text/plain": [
              "{'Chapman': 'Graham',\n",
              " 'Cleese': 'Jhon',\n",
              " 'Idle': 'James',\n",
              " 'Jones': 'Terry',\n",
              " 'Marx': 'Groucho',\n",
              " 'Palin': 'Michael'}"
            ]
          },
          "metadata": {},
          "execution_count": 38
        }
      ]
    },
    {
      "cell_type": "code",
      "source": [
        "del pythons['Lee']    #없는 값 삭제하면 error"
      ],
      "metadata": {
        "colab": {
          "base_uri": "https://localhost:8080/",
          "height": 174
        },
        "id": "H_kKKbDseX7K",
        "outputId": "af5823e5-914b-40fb-adc4-245e1f357f4a"
      },
      "execution_count": 39,
      "outputs": [
        {
          "output_type": "error",
          "ename": "KeyError",
          "evalue": "ignored",
          "traceback": [
            "\u001b[0;31m---------------------------------------------------------------------------\u001b[0m",
            "\u001b[0;31mKeyError\u001b[0m                                  Traceback (most recent call last)",
            "\u001b[0;32m<ipython-input-39-e0aa2d7ab6f8>\u001b[0m in \u001b[0;36m<module>\u001b[0;34m()\u001b[0m\n\u001b[0;32m----> 1\u001b[0;31m \u001b[0;32mdel\u001b[0m \u001b[0mpythons\u001b[0m\u001b[0;34m[\u001b[0m\u001b[0;34m'Lee'\u001b[0m\u001b[0;34m]\u001b[0m    \u001b[0;31m#없는 값 삭제하면 error\u001b[0m\u001b[0;34m\u001b[0m\u001b[0;34m\u001b[0m\u001b[0m\n\u001b[0m",
            "\u001b[0;31mKeyError\u001b[0m: 'Lee'"
          ]
        }
      ]
    },
    {
      "cell_type": "code",
      "source": [
        "pythons.pop('Marx')"
      ],
      "metadata": {
        "colab": {
          "base_uri": "https://localhost:8080/",
          "height": 36
        },
        "id": "fjoR78fzeaf2",
        "outputId": "d43a7101-9d42-45d8-dada-f297b3031795"
      },
      "execution_count": 40,
      "outputs": [
        {
          "output_type": "execute_result",
          "data": {
            "text/plain": [
              "'Groucho'"
            ],
            "application/vnd.google.colaboratory.intrinsic+json": {
              "type": "string"
            }
          },
          "metadata": {},
          "execution_count": 40
        }
      ]
    },
    {
      "cell_type": "code",
      "source": [
        "pythons.pop('Lee', 0)  #없으면 예외는 나지만, 예외 시 출력 값을 지정할 수 있다."
      ],
      "metadata": {
        "colab": {
          "base_uri": "https://localhost:8080/"
        },
        "id": "yZUcyOIqekXp",
        "outputId": "121bf6f0-a10b-4cd0-b0de-8b8018c25d63"
      },
      "execution_count": 41,
      "outputs": [
        {
          "output_type": "execute_result",
          "data": {
            "text/plain": [
              "0"
            ]
          },
          "metadata": {},
          "execution_count": 41
        }
      ]
    },
    {
      "cell_type": "code",
      "source": [
        "#전체 삭제\n",
        "pythons.clear()  #1\n",
        "pythons = {}    #2\n",
        "\n",
        "pythons"
      ],
      "metadata": {
        "colab": {
          "base_uri": "https://localhost:8080/"
        },
        "id": "HZh_G1g2etST",
        "outputId": "d94d807a-12c2-47f1-bfad-2cef1f9fece8"
      },
      "execution_count": 42,
      "outputs": [
        {
          "output_type": "execute_result",
          "data": {
            "text/plain": [
              "{}"
            ]
          },
          "metadata": {},
          "execution_count": 42
        }
      ]
    },
    {
      "cell_type": "markdown",
      "source": [
        "### 복제\n",
        "- 할당: b = a\n",
        "- 얕은 복사: c = a.copy()\n",
        "- 깊은 복사: deepcopy"
      ],
      "metadata": {
        "id": "g2pY-nG4eyxN"
      }
    },
    {
      "cell_type": "code",
      "source": [
        "a = {1:1, 2:2, 3:3}\n",
        "b = a\n",
        "a[1] = 45\n",
        "a, b"
      ],
      "metadata": {
        "colab": {
          "base_uri": "https://localhost:8080/"
        },
        "id": "cNfHLMBSex3q",
        "outputId": "617f574a-5bcf-45e0-f31b-3858cd072b7e"
      },
      "execution_count": 43,
      "outputs": [
        {
          "output_type": "execute_result",
          "data": {
            "text/plain": [
              "({1: 45, 2: 2, 3: 3}, {1: 45, 2: 2, 3: 3})"
            ]
          },
          "metadata": {},
          "execution_count": 43
        }
      ]
    },
    {
      "cell_type": "code",
      "source": [
        "c = a.copy()\n",
        "a[2] = 22\n",
        "a, c"
      ],
      "metadata": {
        "colab": {
          "base_uri": "https://localhost:8080/"
        },
        "id": "b9dH740_fL2a",
        "outputId": "df1f4f0b-f7c5-4925-d08f-846ab50df793"
      },
      "execution_count": 44,
      "outputs": [
        {
          "output_type": "execute_result",
          "data": {
            "text/plain": [
              "({1: 45, 2: 22, 3: 3}, {1: 45, 2: 2, 3: 3})"
            ]
          },
          "metadata": {},
          "execution_count": 44
        }
      ]
    },
    {
      "cell_type": "code",
      "source": [
        "a = {1: [1, 2, 3], 2: [2, 3, 4]}\n",
        "d = a.copy()\n",
        "a[1][0] = 100\n",
        "a, d"
      ],
      "metadata": {
        "colab": {
          "base_uri": "https://localhost:8080/"
        },
        "id": "4wcxTJdKfPHX",
        "outputId": "dc7f00b8-a6b2-4506-cfca-115144f8f2a7"
      },
      "execution_count": 45,
      "outputs": [
        {
          "output_type": "execute_result",
          "data": {
            "text/plain": [
              "({1: [100, 2, 3], 2: [2, 3, 4]}, {1: [100, 2, 3], 2: [2, 3, 4]})"
            ]
          },
          "metadata": {},
          "execution_count": 45
        }
      ]
    },
    {
      "cell_type": "code",
      "source": [
        "import copy\n",
        "e = copy.deepcopy(a)\n",
        "a[1][1] = 999\n",
        "a, e"
      ],
      "metadata": {
        "colab": {
          "base_uri": "https://localhost:8080/"
        },
        "id": "A7ra5UfffYfx",
        "outputId": "f60ef1a0-0f09-4347-c0e2-9a45bc4ab8ac"
      },
      "execution_count": 46,
      "outputs": [
        {
          "output_type": "execute_result",
          "data": {
            "text/plain": [
              "({1: [100, 999, 3], 2: [2, 3, 4]}, {1: [100, 2, 3], 2: [2, 3, 4]})"
            ]
          },
          "metadata": {},
          "execution_count": 46
        }
      ]
    },
    {
      "cell_type": "markdown",
      "source": [
        "### 비교\n",
        "- '같다', '다르다'만 된다."
      ],
      "metadata": {
        "id": "BK9n0gz8fltG"
      }
    },
    {
      "cell_type": "code",
      "source": [
        "a != b"
      ],
      "metadata": {
        "colab": {
          "base_uri": "https://localhost:8080/"
        },
        "id": "jlvBPYmgfkzB",
        "outputId": "06ef1099-b991-4431-b4a3-bf770e2cfd40"
      },
      "execution_count": 47,
      "outputs": [
        {
          "output_type": "execute_result",
          "data": {
            "text/plain": [
              "True"
            ]
          },
          "metadata": {},
          "execution_count": 47
        }
      ]
    },
    {
      "cell_type": "markdown",
      "source": [
        "### EX\n",
        "1. 두 리스트로 하나의 딕셔너리 생성\n",
        "2. 명왕성=pluto 추가하기\n",
        "3. '성'으로 끝나지 않는 키 삭제하기\n",
        "4. sorted 이용해서 값 정렬하기  i)key ii)value"
      ],
      "metadata": {
        "id": "xwovQNkYfs_A"
      }
    },
    {
      "cell_type": "code",
      "source": [
        "solar_kor = '태양 수성 금성 지구 화성 목성 토성 천왕성 해왕성'.split()\n",
        "solar_eng = 'sun mercury venus earth mars jupiter saturn uranus neptune'.split()\n",
        "\n",
        "system = {}\n",
        "for k, v in zip(solar_kor, solar_eng):\n",
        "  system[k] = v\n",
        "\n",
        "print(system)\n",
        "\n",
        "system['명왕성'] = 'pluto'\n",
        "\n",
        "system_1 = dict([(k, v) for k, v in system.items() if k.endswith('성')])\n",
        "print(system_1)"
      ],
      "metadata": {
        "colab": {
          "base_uri": "https://localhost:8080/"
        },
        "id": "e7SlDnJ6oGYu",
        "outputId": "505c5bc0-33c5-4ff1-d0d6-90e1abffd16f"
      },
      "execution_count": 48,
      "outputs": [
        {
          "output_type": "stream",
          "name": "stdout",
          "text": [
            "{'태양': 'sun', '수성': 'mercury', '금성': 'venus', '지구': 'earth', '화성': 'mars', '목성': 'jupiter', '토성': 'saturn', '천왕성': 'uranus', '해왕성': 'neptune'}\n",
            "{'수성': 'mercury', '금성': 'venus', '화성': 'mars', '목성': 'jupiter', '토성': 'saturn', '천왕성': 'uranus', '해왕성': 'neptune', '명왕성': 'pluto'}\n"
          ]
        }
      ]
    },
    {
      "cell_type": "code",
      "source": [
        "solar_kor = '태양 수성 금성 지구 화성 목성 토성 천왕성 해왕성'.split()\n",
        "solar_eng = 'sun mercury venus earth mars jupiter saturn uranus neptune'.split()\n",
        "\n",
        "solar_dict = {solar:solar_eng[solar_kor.index(solar)] for solar in solar_kor}\n",
        "\n",
        "solar_dict['명왕성'] = 'pluto'\n",
        "\n",
        "solar_keys = [solar for solar in solar_dict.keys()]\n",
        "\n",
        "print(solar_dict)\n",
        "'''\n",
        "solar_dict = {}\n",
        "for i in range(len(solar_kor)):\n",
        "  solar_dict[solar_kor[i]] = solar_eng[i]\n",
        "\n",
        "solar_dict['명왕성'] = 'pluto'\n",
        "\n",
        "print(solar_dict)\n",
        "\n",
        "for solar in solar_dict.keys():\n",
        "  if not solar.endswith('성'):\n",
        "    del solar_dict[solar]\n",
        "\n",
        "print(solar_dict)\n",
        "'''"
      ],
      "metadata": {
        "colab": {
          "base_uri": "https://localhost:8080/",
          "height": 72
        },
        "id": "ZpqrE0rkfq9x",
        "outputId": "5070bc77-034a-4f3d-819d-b6dfc88b8bf7"
      },
      "execution_count": 49,
      "outputs": [
        {
          "output_type": "stream",
          "name": "stdout",
          "text": [
            "{'태양': 'sun', '수성': 'mercury', '금성': 'venus', '지구': 'earth', '화성': 'mars', '목성': 'jupiter', '토성': 'saturn', '천왕성': 'uranus', '해왕성': 'neptune', '명왕성': 'pluto'}\n"
          ]
        },
        {
          "output_type": "execute_result",
          "data": {
            "text/plain": [
              "\"\\nsolar_dict = {}\\nfor i in range(len(solar_kor)):\\n  solar_dict[solar_kor[i]] = solar_eng[i]\\n\\nsolar_dict['명왕성'] = 'pluto'\\n\\nprint(solar_dict)\\n\\nfor solar in solar_dict.keys():\\n  if not solar.endswith('성'):\\n    del solar_dict[solar]\\n\\nprint(solar_dict)\\n\""
            ],
            "application/vnd.google.colaboratory.intrinsic+json": {
              "type": "string"
            }
          },
          "metadata": {},
          "execution_count": 49
        }
      ]
    },
    {
      "cell_type": "markdown",
      "source": [
        "### 딕셔너리 컴프리핸션"
      ],
      "metadata": {
        "id": "r4miBZuXotfA"
      }
    },
    {
      "cell_type": "code",
      "source": [
        "letter = 'apple'\n",
        "# a: 1, p: 2, ...\n",
        "{ch: letter.count(ch) for ch in letter}"
      ],
      "metadata": {
        "colab": {
          "base_uri": "https://localhost:8080/"
        },
        "id": "sbiX8K5KhPA7",
        "outputId": "1e2d5c22-0b84-470a-9af4-e6b48651387b"
      },
      "execution_count": 50,
      "outputs": [
        {
          "output_type": "execute_result",
          "data": {
            "text/plain": [
              "{'a': 1, 'e': 1, 'l': 1, 'p': 2}"
            ]
          },
          "metadata": {},
          "execution_count": 50
        }
      ]
    },
    {
      "cell_type": "code",
      "source": [
        "#단어의 모음세기\n",
        "vowels = 'aeiou'\n",
        "word = 'onomatopoeia'\n",
        "\n",
        "vowel_dict = {vowel: word.count(vowel) for vowel in vowels}\n",
        "print(vowel_dict)\n",
        "\n",
        "#word 순회\n",
        "#vowels 순회"
      ],
      "metadata": {
        "colab": {
          "base_uri": "https://localhost:8080/"
        },
        "id": "V-dz5KY8o_Gw",
        "outputId": "2fa476d4-2e23-4b2d-b478-3dd2f113bc76"
      },
      "execution_count": 51,
      "outputs": [
        {
          "output_type": "stream",
          "name": "stdout",
          "text": [
            "{'a': 2, 'e': 1, 'i': 1, 'o': 4, 'u': 0}\n"
          ]
        }
      ]
    },
    {
      "cell_type": "code",
      "source": [
        "{v: word.count(v) for v in vowels if v in word}"
      ],
      "metadata": {
        "id": "b6F40W7lpY8K",
        "colab": {
          "base_uri": "https://localhost:8080/"
        },
        "outputId": "4a67814d-8c57-4f7c-8463-72d5c06dcd46"
      },
      "execution_count": 58,
      "outputs": [
        {
          "output_type": "execute_result",
          "data": {
            "text/plain": [
              "{'a': 2, 'e': 1, 'i': 1, 'o': 4}"
            ]
          },
          "metadata": {},
          "execution_count": 58
        }
      ]
    },
    {
      "cell_type": "code",
      "source": [
        "{w: word.count(w) for w in word if w in vowels}"
      ],
      "metadata": {
        "colab": {
          "base_uri": "https://localhost:8080/"
        },
        "id": "4FGAN5Y0F2s4",
        "outputId": "af258b5d-2c67-4aac-ce43-ed0b25a89d5c"
      },
      "execution_count": 61,
      "outputs": [
        {
          "output_type": "execute_result",
          "data": {
            "text/plain": [
              "{'a': 2, 'e': 1, 'i': 1, 'o': 4}"
            ]
          },
          "metadata": {},
          "execution_count": 61
        }
      ]
    },
    {
      "cell_type": "markdown",
      "source": [
        "### sorting"
      ],
      "metadata": {
        "id": "qT2HrwivqVL1"
      }
    },
    {
      "cell_type": "code",
      "source": [
        "def fx(x):\n",
        "  return x[1]"
      ],
      "metadata": {
        "id": "K-U2ZF-CqZzm"
      },
      "execution_count": 62,
      "outputs": []
    },
    {
      "cell_type": "code",
      "source": [
        "sorted(system.items(), key=fx) #"
      ],
      "metadata": {
        "colab": {
          "base_uri": "https://localhost:8080/"
        },
        "id": "7XatWEjzqW83",
        "outputId": "9efbf1d9-c8ac-4665-b15f-f8463965bcea"
      },
      "execution_count": 63,
      "outputs": [
        {
          "output_type": "execute_result",
          "data": {
            "text/plain": [
              "[('지구', 'earth'),\n",
              " ('목성', 'jupiter'),\n",
              " ('화성', 'mars'),\n",
              " ('수성', 'mercury'),\n",
              " ('해왕성', 'neptune'),\n",
              " ('명왕성', 'pluto'),\n",
              " ('토성', 'saturn'),\n",
              " ('태양', 'sun'),\n",
              " ('천왕성', 'uranus'),\n",
              " ('금성', 'venus')]"
            ]
          },
          "metadata": {},
          "execution_count": 63
        }
      ]
    },
    {
      "cell_type": "code",
      "source": [
        "sorted(system.items(), key=lambda x: x[1])"
      ],
      "metadata": {
        "colab": {
          "base_uri": "https://localhost:8080/"
        },
        "id": "0MWIvmEGqynX",
        "outputId": "23f4221f-3dd4-4370-f7ef-2fc1478ce87f"
      },
      "execution_count": 64,
      "outputs": [
        {
          "output_type": "execute_result",
          "data": {
            "text/plain": [
              "[('지구', 'earth'),\n",
              " ('목성', 'jupiter'),\n",
              " ('화성', 'mars'),\n",
              " ('수성', 'mercury'),\n",
              " ('해왕성', 'neptune'),\n",
              " ('명왕성', 'pluto'),\n",
              " ('토성', 'saturn'),\n",
              " ('태양', 'sun'),\n",
              " ('천왕성', 'uranus'),\n",
              " ('금성', 'venus')]"
            ]
          },
          "metadata": {},
          "execution_count": 64
        }
      ]
    },
    {
      "cell_type": "markdown",
      "source": [
        "### Set\n",
        "- \"중복이 없다\"\n",
        "- 집합 => 교집합, 합집합, 차집합, ...\n",
        "- bag, 인덱싱도 없다."
      ],
      "metadata": {
        "id": "nlwCLb_CrBh6"
      }
    },
    {
      "cell_type": "code",
      "source": [
        "empty = set()\n",
        "empty"
      ],
      "metadata": {
        "colab": {
          "base_uri": "https://localhost:8080/"
        },
        "id": "4z1WJVStq9eV",
        "outputId": "2a79a5f1-9cc5-411d-9673-d16b5775469e"
      },
      "execution_count": 65,
      "outputs": [
        {
          "output_type": "execute_result",
          "data": {
            "text/plain": [
              "set()"
            ]
          },
          "metadata": {},
          "execution_count": 65
        }
      ]
    },
    {
      "cell_type": "code",
      "source": [
        "a = {1, 2, 3}\n",
        "a"
      ],
      "metadata": {
        "colab": {
          "base_uri": "https://localhost:8080/"
        },
        "id": "o3to_DQZra90",
        "outputId": "77d44001-d9c6-41c1-df76-f73b276cf3f5"
      },
      "execution_count": 66,
      "outputs": [
        {
          "output_type": "execute_result",
          "data": {
            "text/plain": [
              "{1, 2, 3}"
            ]
          },
          "metadata": {},
          "execution_count": 66
        }
      ]
    },
    {
      "cell_type": "code",
      "source": [
        "a = set([1, 2, 3])   #선언, 형 변환\n",
        "a"
      ],
      "metadata": {
        "colab": {
          "base_uri": "https://localhost:8080/"
        },
        "id": "JgTmwDVorf24",
        "outputId": "9fcebede-5d5f-49b6-e6e6-59c9d54a4130"
      },
      "execution_count": 67,
      "outputs": [
        {
          "output_type": "execute_result",
          "data": {
            "text/plain": [
              "{1, 2, 3}"
            ]
          },
          "metadata": {},
          "execution_count": 67
        }
      ]
    },
    {
      "cell_type": "code",
      "source": [
        "# 추가\n",
        "a.add(4)\n",
        "a"
      ],
      "metadata": {
        "colab": {
          "base_uri": "https://localhost:8080/"
        },
        "id": "pjuENzNGrkVo",
        "outputId": "f3c5f02e-ca59-4d8d-9880-f20c62e06045"
      },
      "execution_count": 68,
      "outputs": [
        {
          "output_type": "execute_result",
          "data": {
            "text/plain": [
              "{1, 2, 3, 4}"
            ]
          },
          "metadata": {},
          "execution_count": 68
        }
      ]
    },
    {
      "cell_type": "code",
      "source": [
        "# 삭제\n",
        "a.remove(4)\n",
        "a"
      ],
      "metadata": {
        "colab": {
          "base_uri": "https://localhost:8080/"
        },
        "id": "JCP7TN7WrrFc",
        "outputId": "0e1e3f1c-c1e1-4398-8264-972a408c07b3"
      },
      "execution_count": 69,
      "outputs": [
        {
          "output_type": "execute_result",
          "data": {
            "text/plain": [
              "{1, 2, 3}"
            ]
          },
          "metadata": {},
          "execution_count": 69
        }
      ]
    },
    {
      "cell_type": "code",
      "source": [
        "drinks = {\n",
        "    'martini': {'vodka', 'vermouth'},\n",
        "    'black russian': {'vodka', 'kahlua'},\n",
        "    'white russian': {'cream', 'kahlua', 'vodka'},\n",
        "    'manhattan': {'rye', 'vermouth', 'bitters'},\n",
        "    'screwdriver': {'orange juice', 'vodka'}\n",
        "}\n",
        "\n",
        "# vodka가 포함된 술 출력하기\n",
        "# vodka는 있지만 cream, vermouth 없는 술 출력하기\n",
        "\n",
        "drink_vodka = [drink for drink in drinks if 'vodka' in drinks[drink]]\n",
        "drink_vodka2 = [drink for drink in drinks if 'vodka' in drinks[drink] and 'cream' not in drinks[drink] and 'vermouth' not in drinks[drink]]\n",
        "print(drink_vodka)\n",
        "print(drink_vodka2)"
      ],
      "metadata": {
        "colab": {
          "base_uri": "https://localhost:8080/"
        },
        "id": "4nY3IAYnrvnL",
        "outputId": "b2f8a018-46dd-459b-894b-dcd9bc9f8f81"
      },
      "execution_count": 70,
      "outputs": [
        {
          "output_type": "stream",
          "name": "stdout",
          "text": [
            "['martini', 'black russian', 'white russian', 'screwdriver']\n",
            "['black russian', 'screwdriver']\n"
          ]
        }
      ]
    },
    {
      "cell_type": "markdown",
      "source": [
        "### 교집합(intersection), 합집합(union), 차집합(difference)"
      ],
      "metadata": {
        "id": "5TbRIy1Lx7S8"
      }
    },
    {
      "cell_type": "code",
      "source": [
        "a = {1, 2, 3}\n",
        "b = {2, 3, 4}\n",
        "#교집합\n",
        "a.intersection(b)\n",
        "a & b\n",
        "#합집합\n",
        "a.union(b)\n",
        "a | b\n",
        "#차집합\n",
        "a.difference(b)\n",
        "a - b, b - a"
      ],
      "metadata": {
        "colab": {
          "base_uri": "https://localhost:8080/"
        },
        "id": "_hXuk5xrs9JR",
        "outputId": "a71fc9c9-91dd-40ab-ca35-2f0f6dde0a5b"
      },
      "execution_count": 71,
      "outputs": [
        {
          "output_type": "execute_result",
          "data": {
            "text/plain": [
              "({1}, {4})"
            ]
          },
          "metadata": {},
          "execution_count": 71
        }
      ]
    },
    {
      "cell_type": "code",
      "source": [
        "for k, v in drinks.items():\n",
        "  if 'vodka' in v and not('cream' in v or 'vermouth' in v):\n",
        "    print(k)"
      ],
      "metadata": {
        "colab": {
          "base_uri": "https://localhost:8080/"
        },
        "id": "k7vHMSEWwfe2",
        "outputId": "aec15482-9417-4ba2-be70-f90130c7c923"
      },
      "execution_count": 72,
      "outputs": [
        {
          "output_type": "stream",
          "name": "stdout",
          "text": [
            "black russian\n",
            "screwdriver\n"
          ]
        }
      ]
    },
    {
      "cell_type": "code",
      "source": [
        "set1 = ('cream', 'vermouth')\n",
        "for k, v in drinks.items():\n",
        "  if 'vodka' in v and not(v.intersection(set1)):\n",
        "    print(k)"
      ],
      "metadata": {
        "colab": {
          "base_uri": "https://localhost:8080/"
        },
        "id": "87RieZ7KwwD5",
        "outputId": "91cc0e80-e89d-4801-8a42-ed7412fa69fa"
      },
      "execution_count": 73,
      "outputs": [
        {
          "output_type": "stream",
          "name": "stdout",
          "text": [
            "black russian\n",
            "screwdriver\n"
          ]
        }
      ]
    },
    {
      "cell_type": "code",
      "source": [
        "for k, v in drinks.items():\n",
        "  if v & {'vodka'} and not v & {'cream', 'vermouth'}:\n",
        "    print(k)"
      ],
      "metadata": {
        "colab": {
          "base_uri": "https://localhost:8080/"
        },
        "id": "alxBLs_mxTBZ",
        "outputId": "a09aecf2-87a1-4733-b5ae-9b96981e2b68"
      },
      "execution_count": 74,
      "outputs": [
        {
          "output_type": "stream",
          "name": "stdout",
          "text": [
            "black russian\n",
            "screwdriver\n"
          ]
        }
      ]
    },
    {
      "cell_type": "code",
      "source": [
        "{s for s in range(5)}  #set comprehension"
      ],
      "metadata": {
        "colab": {
          "base_uri": "https://localhost:8080/"
        },
        "id": "XGJ6ZHFQyc1X",
        "outputId": "5a190834-4bbd-44d1-8fd4-8acd7c3419a2"
      },
      "execution_count": 75,
      "outputs": [
        {
          "output_type": "execute_result",
          "data": {
            "text/plain": [
              "{0, 1, 2, 3, 4}"
            ]
          },
          "metadata": {},
          "execution_count": 75
        }
      ]
    },
    {
      "cell_type": "code",
      "source": [
        "#frozenset\n",
        "set([1, 2])\n",
        "frozenset([1, 2])"
      ],
      "metadata": {
        "colab": {
          "base_uri": "https://localhost:8080/"
        },
        "id": "_AU0b4-0yjf_",
        "outputId": "19d83e1e-1179-41f5-c8ac-fdbbf8305a23"
      },
      "execution_count": 76,
      "outputs": [
        {
          "output_type": "execute_result",
          "data": {
            "text/plain": [
              "frozenset({1, 2})"
            ]
          },
          "metadata": {},
          "execution_count": 76
        }
      ]
    },
    {
      "cell_type": "markdown",
      "source": [
        "### Project\n",
        "- 테스크 해결\n",
        "- 수업 30분 랜덤 코드 설명 => \n",
        "- 제출: 수요일 자정"
      ],
      "metadata": {
        "id": "R-IDSOk0y04a"
      }
    },
    {
      "cell_type": "code",
      "source": [
        "!pip install pylint\n",
        "!pylint example.py\n",
        "\n",
        "!pip install pydocstyle\n",
        "!pydocstyle example.py"
      ],
      "metadata": {
        "colab": {
          "base_uri": "https://localhost:8080/"
        },
        "id": "MI0Bf3NrytM6",
        "outputId": "a4474d25-2a7b-414f-ee6f-2041efa9fdc1"
      },
      "execution_count": 77,
      "outputs": [
        {
          "output_type": "stream",
          "name": "stdout",
          "text": [
            "Collecting pylint\n",
            "  Downloading pylint-2.13.8-py3-none-any.whl (438 kB)\n",
            "\u001b[?25l\r\u001b[K     |▊                               | 10 kB 22.2 MB/s eta 0:00:01\r\u001b[K     |█▌                              | 20 kB 11.8 MB/s eta 0:00:01\r\u001b[K     |██▎                             | 30 kB 9.4 MB/s eta 0:00:01\r\u001b[K     |███                             | 40 kB 8.5 MB/s eta 0:00:01\r\u001b[K     |███▊                            | 51 kB 4.3 MB/s eta 0:00:01\r\u001b[K     |████▌                           | 61 kB 5.1 MB/s eta 0:00:01\r\u001b[K     |█████▎                          | 71 kB 5.5 MB/s eta 0:00:01\r\u001b[K     |██████                          | 81 kB 5.7 MB/s eta 0:00:01\r\u001b[K     |██████▊                         | 92 kB 6.1 MB/s eta 0:00:01\r\u001b[K     |███████▌                        | 102 kB 5.0 MB/s eta 0:00:01\r\u001b[K     |████████▎                       | 112 kB 5.0 MB/s eta 0:00:01\r\u001b[K     |█████████                       | 122 kB 5.0 MB/s eta 0:00:01\r\u001b[K     |█████████▊                      | 133 kB 5.0 MB/s eta 0:00:01\r\u001b[K     |██████████▌                     | 143 kB 5.0 MB/s eta 0:00:01\r\u001b[K     |███████████▏                    | 153 kB 5.0 MB/s eta 0:00:01\r\u001b[K     |████████████                    | 163 kB 5.0 MB/s eta 0:00:01\r\u001b[K     |████████████▊                   | 174 kB 5.0 MB/s eta 0:00:01\r\u001b[K     |█████████████▌                  | 184 kB 5.0 MB/s eta 0:00:01\r\u001b[K     |██████████████▏                 | 194 kB 5.0 MB/s eta 0:00:01\r\u001b[K     |███████████████                 | 204 kB 5.0 MB/s eta 0:00:01\r\u001b[K     |███████████████▊                | 215 kB 5.0 MB/s eta 0:00:01\r\u001b[K     |████████████████▌               | 225 kB 5.0 MB/s eta 0:00:01\r\u001b[K     |█████████████████▏              | 235 kB 5.0 MB/s eta 0:00:01\r\u001b[K     |██████████████████              | 245 kB 5.0 MB/s eta 0:00:01\r\u001b[K     |██████████████████▊             | 256 kB 5.0 MB/s eta 0:00:01\r\u001b[K     |███████████████████▍            | 266 kB 5.0 MB/s eta 0:00:01\r\u001b[K     |████████████████████▏           | 276 kB 5.0 MB/s eta 0:00:01\r\u001b[K     |█████████████████████           | 286 kB 5.0 MB/s eta 0:00:01\r\u001b[K     |█████████████████████▊          | 296 kB 5.0 MB/s eta 0:00:01\r\u001b[K     |██████████████████████▍         | 307 kB 5.0 MB/s eta 0:00:01\r\u001b[K     |███████████████████████▏        | 317 kB 5.0 MB/s eta 0:00:01\r\u001b[K     |████████████████████████        | 327 kB 5.0 MB/s eta 0:00:01\r\u001b[K     |████████████████████████▊       | 337 kB 5.0 MB/s eta 0:00:01\r\u001b[K     |█████████████████████████▍      | 348 kB 5.0 MB/s eta 0:00:01\r\u001b[K     |██████████████████████████▏     | 358 kB 5.0 MB/s eta 0:00:01\r\u001b[K     |███████████████████████████     | 368 kB 5.0 MB/s eta 0:00:01\r\u001b[K     |███████████████████████████▋    | 378 kB 5.0 MB/s eta 0:00:01\r\u001b[K     |████████████████████████████▍   | 389 kB 5.0 MB/s eta 0:00:01\r\u001b[K     |█████████████████████████████▏  | 399 kB 5.0 MB/s eta 0:00:01\r\u001b[K     |██████████████████████████████  | 409 kB 5.0 MB/s eta 0:00:01\r\u001b[K     |██████████████████████████████▋ | 419 kB 5.0 MB/s eta 0:00:01\r\u001b[K     |███████████████████████████████▍| 430 kB 5.0 MB/s eta 0:00:01\r\u001b[K     |████████████████████████████████| 438 kB 5.0 MB/s \n",
            "\u001b[?25hRequirement already satisfied: dill>=0.2 in /usr/local/lib/python3.7/dist-packages (from pylint) (0.3.4)\n",
            "Collecting platformdirs>=2.2.0\n",
            "  Downloading platformdirs-2.5.2-py3-none-any.whl (14 kB)\n",
            "Collecting mccabe<0.8,>=0.6\n",
            "  Downloading mccabe-0.7.0-py2.py3-none-any.whl (7.3 kB)\n",
            "Requirement already satisfied: typing-extensions>=3.10.0 in /usr/local/lib/python3.7/dist-packages (from pylint) (4.2.0)\n",
            "Requirement already satisfied: tomli>=1.1.0 in /usr/local/lib/python3.7/dist-packages (from pylint) (2.0.1)\n",
            "Collecting isort<6,>=4.2.5\n",
            "  Downloading isort-5.10.1-py3-none-any.whl (103 kB)\n",
            "\u001b[K     |████████████████████████████████| 103 kB 55.3 MB/s \n",
            "\u001b[?25hCollecting astroid<=2.12.0-dev0,>=2.11.3\n",
            "  Downloading astroid-2.11.4-py3-none-any.whl (250 kB)\n",
            "\u001b[K     |████████████████████████████████| 250 kB 53.7 MB/s \n",
            "\u001b[?25hRequirement already satisfied: setuptools>=20.0 in /usr/local/lib/python3.7/dist-packages (from astroid<=2.12.0-dev0,>=2.11.3->pylint) (57.4.0)\n",
            "Collecting typed-ast<2.0,>=1.4.0\n",
            "  Downloading typed_ast-1.5.3-cp37-cp37m-manylinux_2_5_x86_64.manylinux1_x86_64.manylinux_2_12_x86_64.manylinux2010_x86_64.whl (843 kB)\n",
            "\u001b[K     |████████████████████████████████| 843 kB 49.2 MB/s \n",
            "\u001b[?25hCollecting lazy-object-proxy>=1.4.0\n",
            "  Downloading lazy_object_proxy-1.7.1-cp37-cp37m-manylinux_2_5_x86_64.manylinux1_x86_64.manylinux_2_17_x86_64.manylinux2014_x86_64.whl (57 kB)\n",
            "\u001b[K     |████████████████████████████████| 57 kB 5.9 MB/s \n",
            "\u001b[?25hRequirement already satisfied: wrapt<2,>=1.11 in /usr/local/lib/python3.7/dist-packages (from astroid<=2.12.0-dev0,>=2.11.3->pylint) (1.14.0)\n",
            "Installing collected packages: typed-ast, lazy-object-proxy, platformdirs, mccabe, isort, astroid, pylint\n",
            "Successfully installed astroid-2.11.4 isort-5.10.1 lazy-object-proxy-1.7.1 mccabe-0.7.0 platformdirs-2.5.2 pylint-2.13.8 typed-ast-1.5.3\n",
            "************* Module example.py\n",
            "example.py:1:0: F0001: No module named example.py (fatal)\n",
            "Collecting pydocstyle\n",
            "  Downloading pydocstyle-6.1.1-py3-none-any.whl (37 kB)\n",
            "Requirement already satisfied: snowballstemmer in /usr/local/lib/python3.7/dist-packages (from pydocstyle) (2.2.0)\n",
            "Installing collected packages: pydocstyle\n",
            "Successfully installed pydocstyle-6.1.1\n",
            "WARNING: Error in file example.py: [Errno 2] No such file or directory: 'example.py'\n"
          ]
        }
      ]
    }
  ]
}