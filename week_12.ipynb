{
  "nbformat": 4,
  "nbformat_minor": 0,
  "metadata": {
    "colab": {
      "name": "week_12.ipynb",
      "provenance": [],
      "collapsed_sections": [],
      "authorship_tag": "ABX9TyPEuyYgTJdtT85Z6dD71IXA",
      "include_colab_link": true
    },
    "kernelspec": {
      "name": "python3",
      "display_name": "Python 3"
    },
    "language_info": {
      "name": "python"
    }
  },
  "cells": [
    {
      "cell_type": "markdown",
      "metadata": {
        "id": "view-in-github",
        "colab_type": "text"
      },
      "source": [
        "<a href=\"https://colab.research.google.com/github/HUFS-Programming-2022/Junsu_202102707/blob/main/week_12.ipynb\" target=\"_parent\"><img src=\"https://colab.research.google.com/assets/colab-badge.svg\" alt=\"Open In Colab\"/></a>"
      ]
    },
    {
      "cell_type": "markdown",
      "source": [
        "Store, Item, Customer\n",
        "- 서로 상호작용을 하지만, 상속할 것은 아님\n",
        "-1. AbCustomer -> Customer(상속)\n",
        "-2. Person <- Customer(Person)\n"
      ],
      "metadata": {
        "id": "QQzDgaqY5aoi"
      }
    },
    {
      "cell_type": "code",
      "execution_count": null,
      "metadata": {
        "colab": {
          "base_uri": "https://localhost:8080/",
          "height": 136
        },
        "id": "OKzwc_ANruPd",
        "outputId": "5db6eba6-b866-4349-85f9-afae879842dd"
      },
      "outputs": [
        {
          "output_type": "error",
          "ename": "SyntaxError",
          "evalue": "ignored",
          "traceback": [
            "\u001b[0;36m  File \u001b[0;32m\"<ipython-input-1-b64125343e7d>\"\u001b[0;36m, line \u001b[0;32m16\u001b[0m\n\u001b[0;31m    class Seller:\u001b[0m\n\u001b[0m                 ^\u001b[0m\n\u001b[0;31mSyntaxError\u001b[0m\u001b[0;31m:\u001b[0m unexpected EOF while parsing\n"
          ]
        }
      ],
      "source": [
        "class Customer(Person): #is-a\n",
        "  pass\n",
        "\n",
        "class Store:\n",
        "  def __init__(customer):\n",
        "    self.customer = customer #Customer타입  #has-a\n",
        "    self.item = item #\n",
        "    self.item_list = self.item.name, self.item.price\n",
        "  \n",
        "class Item:\n",
        "  name\n",
        "  cnt\n",
        "  price\n",
        "\n",
        "  pass\n",
        "  class Seller: #임직원 할인..."
      ]
    },
    {
      "cell_type": "markdown",
      "source": [
        "### 매직메소드\n",
        "- special method\n",
        "- __<name>__\n",
        "- str, repr"
      ],
      "metadata": {
        "id": "71_Mu10L6T20"
      }
    },
    {
      "cell_type": "code",
      "source": [
        "class Customer:\n",
        "  def __init__(self, name):\n",
        "    self.name = name\n",
        "\n",
        "c = Customer('kim')"
      ],
      "metadata": {
        "id": "thwCm6Bd6SPi"
      },
      "execution_count": null,
      "outputs": []
    },
    {
      "cell_type": "code",
      "source": [
        "c"
      ],
      "metadata": {
        "colab": {
          "base_uri": "https://localhost:8080/"
        },
        "id": "GLQgnLN66mo1",
        "outputId": "c41727be-9f73-4b32-8834-3fc5df18826c"
      },
      "execution_count": null,
      "outputs": [
        {
          "output_type": "execute_result",
          "data": {
            "text/plain": [
              "<__main__.Customer at 0x7f0eb5801fd0>"
            ]
          },
          "metadata": {},
          "execution_count": 3
        }
      ]
    },
    {
      "cell_type": "code",
      "source": [
        "print(c)"
      ],
      "metadata": {
        "colab": {
          "base_uri": "https://localhost:8080/"
        },
        "id": "iPtvWHYy6nUh",
        "outputId": "c206d1e0-d842-4323-b86e-14ea91b29f75"
      },
      "execution_count": null,
      "outputs": [
        {
          "output_type": "stream",
          "name": "stdout",
          "text": [
            "<__main__.Customer object at 0x7f0eb5801fd0>\n"
          ]
        }
      ]
    },
    {
      "cell_type": "code",
      "source": [
        "class Customer(object):\n",
        "  def __init__(self, name):\n",
        "    self.name = name\n",
        "\n",
        "  def __str__(self):\n",
        "    #print() 함수로 나온 출력값을 변경하는 것\n",
        "    return self.name\n",
        "\n",
        "  def __repr__(self):\n",
        "    #설정 안 하면 __str__과 동일함\n",
        "    #인스턴스를 출력하는 방식 => 사용자가 이해하는 객체의 모습을 표현\n",
        "    return f'Customer({self.name})'\n",
        "\n",
        "c = Customer('kim')"
      ],
      "metadata": {
        "id": "j39lgoAV6ofQ"
      },
      "execution_count": null,
      "outputs": []
    },
    {
      "cell_type": "code",
      "source": [
        "c"
      ],
      "metadata": {
        "colab": {
          "base_uri": "https://localhost:8080/"
        },
        "id": "5kY3mKOj7MMR",
        "outputId": "99422235-74ae-46a4-b6f8-3143ad5e725b"
      },
      "execution_count": null,
      "outputs": [
        {
          "output_type": "execute_result",
          "data": {
            "text/plain": [
              "Customer(kim)"
            ]
          },
          "metadata": {},
          "execution_count": 21
        }
      ]
    },
    {
      "cell_type": "code",
      "source": [
        "print(c)"
      ],
      "metadata": {
        "colab": {
          "base_uri": "https://localhost:8080/"
        },
        "id": "-BD_Q5Pf7Pun",
        "outputId": "f452dee4-4dff-4d48-89ed-c19dcafabbea"
      },
      "execution_count": null,
      "outputs": [
        {
          "output_type": "stream",
          "name": "stdout",
          "text": [
            "kim\n"
          ]
        }
      ]
    },
    {
      "cell_type": "code",
      "source": [
        "str(c)"
      ],
      "metadata": {
        "colab": {
          "base_uri": "https://localhost:8080/",
          "height": 35
        },
        "id": "Ptakbi9E7WFB",
        "outputId": "eff0c411-de11-4540-9242-933877964145"
      },
      "execution_count": null,
      "outputs": [
        {
          "output_type": "execute_result",
          "data": {
            "text/plain": [
              "'kim'"
            ],
            "application/vnd.google.colaboratory.intrinsic+json": {
              "type": "string"
            }
          },
          "metadata": {},
          "execution_count": 23
        }
      ]
    },
    {
      "cell_type": "markdown",
      "source": [
        "### NamedTuple, DataClass\n",
        "- 객체보다 효율적임 (간단한 속성만 가진 클래스일 경우 활용)\n",
        "- 딕셔너리의 키처럼 사용 가능하다\n",
        "- 불변객체"
      ],
      "metadata": {
        "id": "rqy3FbAT72cS"
      }
    },
    {
      "cell_type": "code",
      "source": [
        "from collections import namedtuple\n",
        "\n",
        "Customer = namedtuple('Customer', 'name age')\n",
        "a = Customer('lee', 44)\n",
        "a.name, a.age"
      ],
      "metadata": {
        "colab": {
          "base_uri": "https://localhost:8080/"
        },
        "id": "VjPkezxh71BJ",
        "outputId": "205eb68f-aa90-4108-c7f3-a23862368aec"
      },
      "execution_count": null,
      "outputs": [
        {
          "output_type": "execute_result",
          "data": {
            "text/plain": [
              "('lee', 44)"
            ]
          },
          "metadata": {},
          "execution_count": 26
        }
      ]
    },
    {
      "cell_type": "code",
      "source": [
        "from dataclasses import dataclass\n",
        "from dataclasses import dataclass\n",
        "# 파이썬 3.7 이상에서만\n",
        "\n",
        "@dataclass\n",
        "class Customer2:\n",
        "  name: str\n",
        "  age: int\n",
        "\n",
        "b = Customer2('hong', 88)\n",
        "b.name, b.age"
      ],
      "metadata": {
        "colab": {
          "base_uri": "https://localhost:8080/"
        },
        "id": "htBbyqcA8ELn",
        "outputId": "67f38feb-97b8-4b7e-b903-04835e069848"
      },
      "execution_count": null,
      "outputs": [
        {
          "output_type": "execute_result",
          "data": {
            "text/plain": [
              "('hong', 88)"
            ]
          },
          "metadata": {},
          "execution_count": 27
        }
      ]
    },
    {
      "cell_type": "markdown",
      "source": [
        "### 함수ii\n",
        "- *, **\n",
        "-  일급객체\n",
        "- 내부함수, 클로저\n",
        "- 익명함수\n",
        "- 제너레이터\n",
        "- 재귀함수\n",
        "\n",
        "asterisk: *"
      ],
      "metadata": {
        "id": "iPu-zApu8y8N"
      }
    },
    {
      "cell_type": "code",
      "source": [
        "def print_arg(*args): #여러개의 인자 => 패킹\n",
        "  print(*args)\n",
        "  print(args)\n",
        "\n",
        "print_arg(1, 2, 3, 4, 5)"
      ],
      "metadata": {
        "colab": {
          "base_uri": "https://localhost:8080/"
        },
        "id": "PvlAKNQn8xWh",
        "outputId": "8ad06067-fe89-4b9d-a249-e4fef90eda84"
      },
      "execution_count": null,
      "outputs": [
        {
          "output_type": "stream",
          "name": "stdout",
          "text": [
            "1 2 3 4 5\n",
            "(1, 2, 3, 4, 5)\n"
          ]
        }
      ]
    },
    {
      "cell_type": "code",
      "source": [
        "def print_more(num1, num2, *args):\n",
        "  print(num1, num2)\n",
        "  print(*args, 'optional')\n",
        "\n",
        "print_more(1, 2)"
      ],
      "metadata": {
        "colab": {
          "base_uri": "https://localhost:8080/"
        },
        "id": "IyYYl_iG9DJd",
        "outputId": "012afaf7-679f-44c4-c91c-604cb40cd558"
      },
      "execution_count": null,
      "outputs": [
        {
          "output_type": "stream",
          "name": "stdout",
          "text": [
            "1 2\n",
            "optional\n"
          ]
        }
      ]
    },
    {
      "cell_type": "code",
      "source": [
        "empty = list(range(10))\n",
        "print(*empty)"
      ],
      "metadata": {
        "colab": {
          "base_uri": "https://localhost:8080/"
        },
        "id": "xP55ZNAl9qzI",
        "outputId": "23ceca5a-bd51-40e3-aeb2-1f9340e6bc50"
      },
      "execution_count": null,
      "outputs": [
        {
          "output_type": "stream",
          "name": "stdout",
          "text": [
            "0 1 2 3 4 5 6 7 8 9\n"
          ]
        }
      ]
    },
    {
      "cell_type": "code",
      "source": [
        "# 행렬, 테이블 데이터\n",
        "matrix = [\n",
        "          [1, 2],\n",
        "          [3, 4],\n",
        "          [5, 6]          \n",
        "]\n",
        "\n",
        "# 1, 3, 5, 2, 4, 6 (열만 타고 싶다)\n",
        "for item in zip(*matrix):\n",
        "  print(item)"
      ],
      "metadata": {
        "colab": {
          "base_uri": "https://localhost:8080/"
        },
        "id": "JvwJwLsk91aH",
        "outputId": "ca451043-61ea-48ee-b91b-508cc9f0a9e0"
      },
      "execution_count": null,
      "outputs": [
        {
          "output_type": "stream",
          "name": "stdout",
          "text": [
            "(1, 3, 5)\n",
            "(2, 4, 6)\n"
          ]
        }
      ]
    },
    {
      "cell_type": "code",
      "source": [
        "for item in zip([1, 2], [3, 4], [5, 6]):\n",
        "  print(item)"
      ],
      "metadata": {
        "colab": {
          "base_uri": "https://localhost:8080/"
        },
        "id": "gRllYo2A-MfM",
        "outputId": "2c960c28-247b-4fba-e334-f07a16cb817d"
      },
      "execution_count": null,
      "outputs": [
        {
          "output_type": "stream",
          "name": "stdout",
          "text": [
            "(1, 3, 5)\n",
            "(2, 4, 6)\n"
          ]
        }
      ]
    },
    {
      "cell_type": "code",
      "source": [
        "# 키워드 전용 인수 선언 시 사용\n",
        "def print_data(data, start, end):\n",
        "  for item in data[start:end]:\n",
        "    print(item)\n",
        "\n",
        "print_data(empty, start=0, end=4)\n",
        "#print_data(empty, 0, 1)"
      ],
      "metadata": {
        "colab": {
          "base_uri": "https://localhost:8080/"
        },
        "id": "mT9fulrX-X-H",
        "outputId": "2605021a-3001-4885-e185-dbb12e662972"
      },
      "execution_count": null,
      "outputs": [
        {
          "output_type": "stream",
          "name": "stdout",
          "text": [
            "0\n",
            "1\n",
            "2\n",
            "3\n"
          ]
        }
      ]
    },
    {
      "cell_type": "code",
      "source": [
        "# 키워드 전용 인수 선언 시 사용\n",
        "def print_data(data, start, end):\n",
        "  for item in data[start:end]:\n",
        "    print(item)\n",
        "\n",
        "#print_data(empty, start=0, end=4)\n",
        "print_data(empty, 0, 1)"
      ],
      "metadata": {
        "colab": {
          "base_uri": "https://localhost:8080/"
        },
        "id": "QBvCgTON-feV",
        "outputId": "9eb9675f-62fd-43a6-e24d-31f0c44a7dab"
      },
      "execution_count": null,
      "outputs": [
        {
          "output_type": "stream",
          "name": "stdout",
          "text": [
            "0\n"
          ]
        }
      ]
    },
    {
      "cell_type": "markdown",
      "source": [
        "###kargs: **"
      ],
      "metadata": {
        "id": "1jcNxMAQ-3fu"
      }
    },
    {
      "cell_type": "code",
      "source": [
        "def print_kargs(**kargs): #키: 값 => 딕셔너리로 반환\n",
        "  kargs['wine'] = 'crianza' #get()\n",
        "  print(kargs)\n",
        "  #print(**kargs)는 안됨\n",
        "print_kargs(wine='crianza', drink='water')"
      ],
      "metadata": {
        "colab": {
          "base_uri": "https://localhost:8080/"
        },
        "id": "ruylNXnB-1Rv",
        "outputId": "90904f07-1b62-41f9-d24e-63805ce2ccdd"
      },
      "execution_count": null,
      "outputs": [
        {
          "output_type": "stream",
          "name": "stdout",
          "text": [
            "{'wine': 'crianza', 'drink': 'water'}\n"
          ]
        }
      ]
    },
    {
      "cell_type": "code",
      "source": [
        "for wine in ['cavernet', 'crianza', 'shiraz']:\n",
        "  print_kargs(wine=wine, drink='water')"
      ],
      "metadata": {
        "colab": {
          "base_uri": "https://localhost:8080/"
        },
        "id": "2LpK4yQL_Pez",
        "outputId": "03e8be10-db75-4c0e-e07f-9ae830453550"
      },
      "execution_count": null,
      "outputs": [
        {
          "output_type": "stream",
          "name": "stdout",
          "text": [
            "{'wine': 'crianza', 'drink': 'water'}\n",
            "{'wine': 'crianza', 'drink': 'water'}\n",
            "{'wine': 'crianza', 'drink': 'water'}\n"
          ]
        }
      ]
    },
    {
      "cell_type": "code",
      "source": [
        "def print_all(num1, num2, *args, **kargs):\n",
        "  print(num1, num2)\n",
        "  print(sum(args))\n",
        "  print(kargs)\n",
        "\n",
        "print_all(1, 2, 3, 4, 5, 6, num=4)"
      ],
      "metadata": {
        "colab": {
          "base_uri": "https://localhost:8080/"
        },
        "id": "4L8Jv5aD_jZ6",
        "outputId": "f46e9fb3-1a23-4295-f4cd-67022ab1c2ac"
      },
      "execution_count": null,
      "outputs": [
        {
          "output_type": "stream",
          "name": "stdout",
          "text": [
            "1 2\n",
            "18\n",
            "{'num': 4}\n"
          ]
        }
      ]
    },
    {
      "cell_type": "code",
      "source": [
        "#딕셔너리 조인\n",
        "a = {1:'a', 2: 'b'}\n",
        "b = {2:'c', 3: 'd'}\n",
        "c = {**a, **b}"
      ],
      "metadata": {
        "id": "gwOOEKJdAI2h"
      },
      "execution_count": null,
      "outputs": []
    },
    {
      "cell_type": "code",
      "source": [
        ""
      ],
      "metadata": {
        "id": "_SzYMYhZA8oV"
      },
      "execution_count": null,
      "outputs": []
    }
  ]
}