{
 "cells": [
  {
   "cell_type": "markdown",
   "id": "9c5fc22e-09e5-45b6-b6af-9601d6287970",
   "metadata": {
    "tags": []
   },
   "source": [
    "## 프로그래밍\n",
    "- 프로그래밍 언어를 사용하여 프로그램을 개발하는 것\n",
    "- 논리적인 사고를 배울 수 있다\n",
    "    \n",
    "## Programming Language?\n",
    "- 프로그램을 개발할 때 사용하는 도구\n",
    "- 인간이 원하는 것을 컴퓨터에게 명령할 때, 컴퓨터가 이해할 수 있는 언어\n",
    "\n",
    "## 파이썬?\n",
    "- 쉽다. 간결하다.\n",
    "- 라이브러리가 많다."
   ]
  },
  {
   "cell_type": "markdown",
   "id": "40a21f58-8689-4368-ae64-5ca1e2e1ccaa",
   "metadata": {},
   "source": [
    "## Chapter 2. Data: Types, Values, Variables, and Names"
   ]
  },
  {
   "cell_type": "code",
   "execution_count": 7,
   "id": "881b577e-51db-4f2e-8c89-8452c4cbe669",
   "metadata": {},
   "outputs": [
    {
     "data": {
      "text/plain": [
       "2"
      ]
     },
     "execution_count": 7,
     "metadata": {},
     "output_type": "execute_result"
    }
   ],
   "source": [
    "a = 2\n",
    "a"
   ]
  },
  {
   "cell_type": "code",
   "execution_count": 8,
   "id": "e0481541-c6eb-44b2-9266-4531109463c9",
   "metadata": {},
   "outputs": [
    {
     "data": {
      "text/plain": [
       "True"
      ]
     },
     "execution_count": 8,
     "metadata": {},
     "output_type": "execute_result"
    }
   ],
   "source": [
    "a == 2"
   ]
  },
  {
   "cell_type": "markdown",
   "id": "5503d09f-8f81-41f7-887d-8fb5b46fe7c4",
   "metadata": {},
   "source": [
    "- 변수|variable: 특정 값을 저장하는 공간\n",
    "    a\n",
    "- 값|value: \n",
    "    2\n",
    "- 할당하다|assign: 변수에 값을 넣는 과정\n",
    "    \"2를 a에 넣었다\"    \n",
    "            ### a는 2다. a == 2\n",
    "\n",
    "- 자료형|type: 데이터의 형태"
   ]
  },
  {
   "cell_type": "code",
   "execution_count": 9,
   "id": "f7f9345f-78c5-46af-9abb-8b3fdcbb964e",
   "metadata": {},
   "outputs": [
    {
     "name": "stdout",
     "output_type": "stream",
     "text": [
      "2\n"
     ]
    }
   ],
   "source": [
    "print(a)"
   ]
  },
  {
   "cell_type": "code",
   "execution_count": 10,
   "id": "5d75e1b9-7334-4c95-be7d-a78f3d81ade0",
   "metadata": {},
   "outputs": [
    {
     "data": {
      "text/plain": [
       "2"
      ]
     },
     "execution_count": 10,
     "metadata": {},
     "output_type": "execute_result"
    }
   ],
   "source": [
    "a"
   ]
  },
  {
   "cell_type": "code",
   "execution_count": 11,
   "id": "d1da3e77-7a55-4a57-bc13-9d641b5ff8fd",
   "metadata": {},
   "outputs": [
    {
     "data": {
      "text/plain": [
       "int"
      ]
     },
     "execution_count": 11,
     "metadata": {},
     "output_type": "execute_result"
    }
   ],
   "source": [
    "#type\n",
    "type(a)"
   ]
  },
  {
   "cell_type": "code",
   "execution_count": 16,
   "id": "59216537-fcd7-4db0-9d48-ddfd7cd49cdb",
   "metadata": {},
   "outputs": [
    {
     "data": {
      "text/plain": [
       "bool"
      ]
     },
     "execution_count": 16,
     "metadata": {},
     "output_type": "execute_result"
    }
   ],
   "source": [
    "type(2)"
   ]
  },
  {
   "cell_type": "code",
   "execution_count": 14,
   "id": "4b18906d-905f-441b-b313-cc13f81083d0",
   "metadata": {},
   "outputs": [
    {
     "data": {
      "text/plain": [
       "bool"
      ]
     },
     "execution_count": 14,
     "metadata": {},
     "output_type": "execute_result"
    }
   ],
   "source": [
    "type(a==2) #bool, boolean T/F"
   ]
  },
  {
   "cell_type": "markdown",
   "id": "5b7d63fe-6c6e-456e-ab84-9d7a933e9e6b",
   "metadata": {},
   "source": [
    "### Type\n",
    "- integer|정수\n",
    "- floating point number|부동소수점: 1.0, 2.0, 0.4\n",
    "- string|문자열: \"1\", ''\n",
    "- bool|불리언: T/F"
   ]
  },
  {
   "cell_type": "code",
   "execution_count": 15,
   "id": "dab3e82d-5820-4894-9071-8ac6da25ec00",
   "metadata": {},
   "outputs": [
    {
     "data": {
      "text/plain": [
       "str"
      ]
     },
     "execution_count": 15,
     "metadata": {},
     "output_type": "execute_result"
    }
   ],
   "source": [
    "type('1')"
   ]
  },
  {
   "cell_type": "code",
   "execution_count": 17,
   "id": "41de8343-0365-4c31-bfd5-3e44c9820886",
   "metadata": {},
   "outputs": [
    {
     "ename": "NameError",
     "evalue": "name 'apple' is not defined",
     "output_type": "error",
     "traceback": [
      "\u001b[1;31m---------------------------------------------------------------------------\u001b[0m",
      "\u001b[1;31mNameError\u001b[0m                                 Traceback (most recent call last)",
      "\u001b[1;32m~\\AppData\\Local\\Temp/ipykernel_7444/2423857472.py\u001b[0m in \u001b[0;36m<module>\u001b[1;34m\u001b[0m\n\u001b[1;32m----> 1\u001b[1;33m \u001b[0mtype\u001b[0m\u001b[1;33m(\u001b[0m\u001b[0mapple\u001b[0m\u001b[1;33m)\u001b[0m \u001b[1;31m#변수명\u001b[0m\u001b[1;33m\u001b[0m\u001b[1;33m\u001b[0m\u001b[0m\n\u001b[0m",
      "\u001b[1;31mNameError\u001b[0m: name 'apple' is not defined"
     ]
    }
   ],
   "source": [
    "type(apple) #변수명"
   ]
  },
  {
   "cell_type": "markdown",
   "id": "227fcd25-c858-4807-a10c-cc709ed550d1",
   "metadata": {},
   "source": [
    "### 할당\n",
    "- = 기호를 사용한다\n",
    "- 수학에서 \"양변이 같다\"라는 의미로 사용되지만, 프로그래밍에서는 \"할당하다\"라는 의미로 사용된다.\n",
    "- \"오른쪽의 값을 왼쪽에 할당한다.\"\n",
    "- 1. 오른쪽에 있는 모든 것은 값을 가져야 한다. (초기화를 해야 한다)\n",
    "- 2. 같은 변수에 다른 값을 넣을 수 있다."
   ]
  },
  {
   "cell_type": "code",
   "execution_count": 18,
   "id": "3d452512-c96e-445c-a3e8-6c99748fd84c",
   "metadata": {},
   "outputs": [
    {
     "data": {
      "text/plain": [
       "(4, 8)"
      ]
     },
     "execution_count": 18,
     "metadata": {},
     "output_type": "execute_result"
    }
   ],
   "source": [
    "x = 4\n",
    "y = x + 4\n",
    "x, y"
   ]
  },
  {
   "cell_type": "code",
   "execution_count": 20,
   "id": "e2c2d508-f52c-4104-979b-82ecf3457acc",
   "metadata": {},
   "outputs": [
    {
     "name": "stdout",
     "output_type": "stream",
     "text": [
      "park\n"
     ]
    }
   ],
   "source": [
    "name = 'kim'\n",
    "name = 'lee'\n",
    "name = 'park'\n",
    "print(name) #변수명 동일하게 사용하지 말라"
   ]
  },
  {
   "cell_type": "markdown",
   "id": "6547d99e-5f70-4364-b991-c8744bfcf51b",
   "metadata": {},
   "source": [
    "### 변수명 정하기\n",
    "- 나쁜 변수명: a, b, c, a1, b1 ...\n",
    "- 의미있는 이름으로 선언해야 한다.\n",
    "- 소문자, 대문자, 숫자, 언더바를 사용한다.\n",
    "        예: name, name1, my_name, Name, NAME"
   ]
  },
  {
   "cell_type": "code",
   "execution_count": 21,
   "id": "dd4eb05e-096e-4893-a035-c00330c87bb8",
   "metadata": {},
   "outputs": [
    {
     "name": "stdout",
     "output_type": "stream",
     "text": [
      "lee,kim,park\n"
     ]
    }
   ],
   "source": [
    "name = 'lee'\n",
    "name1 = 'kim'\n",
    "my_name = 'park'\n",
    "\n",
    "print(name, name1, my_name, sep=',')"
   ]
  },
  {
   "cell_type": "markdown",
   "id": "8b1308b2-823e-4bd9-af4d-429c3c50522c",
   "metadata": {},
   "source": [
    "- 안 되는 것\n",
    "    - 숫자로 시작할 수 없다\n",
    "        ex) 22name, 22_name\n",
    "    - 예약어로 선언할 수 없다.\n",
    "        ex) def, False,..."
   ]
  },
  {
   "cell_type": "code",
   "execution_count": 22,
   "id": "1b866f0c-c957-4229-867d-f8b15f7c0438",
   "metadata": {},
   "outputs": [
    {
     "name": "stdout",
     "output_type": "stream",
     "text": [
      "\n",
      "Here is a list of the Python keywords.  Enter any keyword to get more help.\n",
      "\n",
      "False               break               for                 not\n",
      "None                class               from                or\n",
      "True                continue            global              pass\n",
      "__peg_parser__      def                 if                  raise\n",
      "and                 del                 import              return\n",
      "as                  elif                in                  try\n",
      "assert              else                is                  while\n",
      "async               except              lambda              with\n",
      "await               finally             nonlocal            yield\n",
      "\n"
     ]
    }
   ],
   "source": [
    "# if = 'kim'\n",
    "help(\"keywords\")"
   ]
  },
  {
   "cell_type": "markdown",
   "id": "8d2596cb-9711-45f0-9c8b-fe5ddd219bd2",
   "metadata": {
    "tags": []
   },
   "source": [
    "- 조심할 것: 특별한 용도가 있음\n",
    "    - 언더바로 시작하는 변수명: _name\n",
    "    - 더블 언더바로 시작하는 변수명: __name__\n",
    "    - 대문자로 시작하는 변수명: Name\n",
    "    - 전체 대문자: NAME"
   ]
  },
  {
   "cell_type": "code",
   "execution_count": 1,
   "id": "3da4dfe1-2830-4b81-93f3-5e7554f6444b",
   "metadata": {},
   "outputs": [
    {
     "data": {
      "text/plain": [
       "False"
      ]
     },
     "execution_count": 1,
     "metadata": {},
     "output_type": "execute_result"
    }
   ],
   "source": [
    "#변수명은 대소문자 구분함\n",
    "num = 43\n",
    "Num = 44\n",
    "num == Num"
   ]
  },
  {
   "cell_type": "code",
   "execution_count": null,
   "id": "96857369-1649-4e1b-991c-bda415194e84",
   "metadata": {},
   "outputs": [],
   "source": []
  }
 ],
 "metadata": {
  "kernelspec": {
   "display_name": "Python 3 (ipykernel)",
   "language": "python",
   "name": "python3"
  },
  "language_info": {
   "codemirror_mode": {
    "name": "ipython",
    "version": 3
   },
   "file_extension": ".py",
   "mimetype": "text/x-python",
   "name": "python",
   "nbconvert_exporter": "python",
   "pygments_lexer": "ipython3",
   "version": "3.9.7"
  }
 },
 "nbformat": 4,
 "nbformat_minor": 5
}
