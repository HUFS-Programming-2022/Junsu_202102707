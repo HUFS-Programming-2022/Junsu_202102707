{
  "nbformat": 4,
  "nbformat_minor": 0,
  "metadata": {
    "colab": {
      "name": "week_03.ipynb",
      "provenance": [],
      "collapsed_sections": [],
      "authorship_tag": "ABX9TyOaPTjzU9jLjoaaiJu+Zv7D",
      "include_colab_link": true
    },
    "kernelspec": {
      "name": "python3",
      "display_name": "Python 3"
    },
    "language_info": {
      "name": "python"
    }
  },
  "cells": [
    {
      "cell_type": "markdown",
      "metadata": {
        "id": "view-in-github",
        "colab_type": "text"
      },
      "source": [
        "<a href=\"https://colab.research.google.com/github/HUFS-Programming-2022/Junsu_202102707/blob/main/week_03.ipynb\" target=\"_parent\"><img src=\"https://colab.research.google.com/assets/colab-badge.svg\" alt=\"Open In Colab\"/></a>"
      ]
    },
    {
      "cell_type": "markdown",
      "source": [
        "##중첩조건문\n",
        "- if 블록 안에 또 if 블록이 만들어지는 경우\n",
        "  - 구분은 들여쓰기로 함\n",
        "  - 조건이 여러 개일 경우 사용한다\n",
        "  - 지양, 더 예쁜 방법을 찾아본다"
      ],
      "metadata": {
        "id": "3f0j4AqyvSWL"
      }
    },
    {
      "cell_type": "code",
      "source": [
        "x = 0\n",
        "y = 4\n",
        "'''\n",
        "if x == y:\n",
        "  print('block A')\n",
        "else:\n",
        "  if x < y:\n",
        "    print('block B')\n",
        "  else:\n",
        "    print('block C')\n",
        "\n",
        "\n",
        "대신에 아래 코드로 작성!\n",
        "'''\n",
        "\n",
        "if x == y:\n",
        "  print('block A')\n",
        "elif x < y:\n",
        "  print('block B')\n",
        "else:\n",
        "  print('block C')"
      ],
      "metadata": {
        "colab": {
          "base_uri": "https://localhost:8080/"
        },
        "id": "k10Z5XhwwEMQ",
        "outputId": "5551ac21-bfed-4417-ac12-4f951b53ecb1"
      },
      "execution_count": null,
      "outputs": [
        {
          "output_type": "stream",
          "name": "stdout",
          "text": [
            "block B\n"
          ]
        }
      ]
    },
    {
      "cell_type": "code",
      "source": [
        "# 0 < x < 10\n",
        "'''\n",
        "if x > 0:\n",
        "  print('A')\n",
        "  if x < 10:\n",
        "    print('B')\n",
        "  else: print('C')\n",
        "else: print('D')\n",
        "\n",
        "-> 지양!\n",
        "'''\n",
        "\n",
        "#방법1: 논리연산자 사용\n",
        "if (x > 0) and (x < 10):\n",
        "  print('A')\n",
        "else:\n",
        "  print('B')\n",
        "\n",
        "#방법2: 파이썬에서만 가능\n",
        "if 0 < x < 10:\n",
        "  print('A')\n",
        "else:\n",
        "  print('B')"
      ],
      "metadata": {
        "colab": {
          "base_uri": "https://localhost:8080/"
        },
        "id": "SbxFGFuPwzwe",
        "outputId": "0930818a-9ef2-490b-acd8-2390e04b5bc0"
      },
      "execution_count": null,
      "outputs": [
        {
          "output_type": "stream",
          "name": "stdout",
          "text": [
            "B\n",
            "B\n"
          ]
        }
      ]
    },
    {
      "cell_type": "markdown",
      "source": [
        "### 논리연산자\n",
        "- 비교연산 조건을 여러 번 사용하는 경우\n",
        "- and, or, not\n",
        "  - A and B: A, B 둘 다 True일 때 True (&)\n",
        "  - A or B: A, B 둘 중 하나만 True면 True (|)\n",
        "  - not A: A가 True면 False, False면 True (~)"
      ],
      "metadata": {
        "id": "NLLcRngh0E58"
      }
    },
    {
      "cell_type": "markdown",
      "source": [
        "###False/True\n",
        "- A = True\n",
        "- \"만약 A 가 참이면...\""
      ],
      "metadata": {
        "id": "bWIKiHAr4Fdx"
      }
    },
    {
      "cell_type": "code",
      "source": [
        "A = 1\n",
        "\n",
        "if A == True:\n",
        "  print('A')\n",
        "\n",
        "if A:   #이걸 더 많이 씀\n",
        "  print('A')"
      ],
      "metadata": {
        "colab": {
          "base_uri": "https://localhost:8080/"
        },
        "id": "yXdlrdbD4cWg",
        "outputId": "a63cb7b8-af1b-461a-cb23-17ea3d2bec82"
      },
      "execution_count": null,
      "outputs": [
        {
          "output_type": "stream",
          "name": "stdout",
          "text": [
            "A\n",
            "A\n"
          ]
        }
      ]
    },
    {
      "cell_type": "markdown",
      "source": [
        "### In\n",
        "- membership operator\n",
        "- 요소가 안에 포함되어 있는가 or 비슷한 조건문이 여럿일 때\n",
        "- A in B: A가 B에 포함되어 있나"
      ],
      "metadata": {
        "id": "eZI6Mn9442Dg"
      }
    },
    {
      "cell_type": "code",
      "source": [
        "letter = 'k'\n",
        "\n",
        "# if letter == 'a' or letter == 'e'....\n",
        "if letter in ['a', 'e', 'i', 'o', 'u']:\n",
        "  print('모음')\n",
        "else:\n",
        "  print('자음')"
      ],
      "metadata": {
        "colab": {
          "base_uri": "https://localhost:8080/"
        },
        "id": "gRZV90dM5hk-",
        "outputId": "f35b29b4-a4f9-465d-af0d-5a8c3c16b6c3"
      },
      "execution_count": null,
      "outputs": [
        {
          "output_type": "stream",
          "name": "stdout",
          "text": [
            "자음\n"
          ]
        }
      ]
    },
    {
      "cell_type": "code",
      "source": [
        "#단어에 모음이 있는지 확인\n",
        "word = 'apple'\n",
        "\n",
        "#if word in ['a', 'e', 'i', 'o', 'u']:  반대로\n",
        "#if ['a', 'e', 'i', 'o', 'u'] in word:  type error('a', 'e' 각각이 아니라 리스트 전체로 인식함)\n",
        "if 'a' or 'e' or 'i' or 'o' or 'u' in word:\n",
        "  print('yes')"
      ],
      "metadata": {
        "id": "TZJGJNDQ61Nu",
        "colab": {
          "base_uri": "https://localhost:8080/"
        },
        "outputId": "b653995a-7e5e-41f2-d9cd-07abdd320e77"
      },
      "execution_count": null,
      "outputs": [
        {
          "output_type": "stream",
          "name": "stdout",
          "text": [
            "yes\n"
          ]
        }
      ]
    },
    {
      "cell_type": "markdown",
      "source": [
        "##코끼리연산자\n",
        "-  warlus operator\n",
        "- :=\n",
        "- 할당과 테스트를 동시에 하는 기능"
      ],
      "metadata": {
        "id": "2OU-3kQkFq9j"
      }
    },
    {
      "cell_type": "code",
      "source": [
        "tweet_limit = 200\n",
        "tweet_sting = 'blah' * 50  # 4 * 50 = 200\n",
        "len(tweet_sting)"
      ],
      "metadata": {
        "id": "zMSo1qgP7GgL",
        "colab": {
          "base_uri": "https://localhost:8080/"
        },
        "outputId": "77f53aa8-f73d-4b19-9a93-e9c57662bf54"
      },
      "execution_count": null,
      "outputs": [
        {
          "output_type": "execute_result",
          "data": {
            "text/plain": [
              "200"
            ]
          },
          "metadata": {},
          "execution_count": 9
        }
      ]
    },
    {
      "cell_type": "code",
      "source": [
        "diff = tweet_limit - len(tweet_sting)\n",
        "if diff > 0:\n",
        "  print('가능')\n",
        "else:\n",
        "  print('불가능')"
      ],
      "metadata": {
        "colab": {
          "base_uri": "https://localhost:8080/"
        },
        "id": "92g3duABIn0E",
        "outputId": "97f6271d-6afd-48f1-ad25-cf4f1f4a0103"
      },
      "execution_count": null,
      "outputs": [
        {
          "output_type": "stream",
          "name": "stdout",
          "text": [
            "불가능\n"
          ]
        }
      ]
    },
    {
      "cell_type": "code",
      "source": [
        "if diff := tweet_limit - len(tweet_sting) > 0:\n",
        "  print('가능')\n",
        "else: print('불가능')"
      ],
      "metadata": {
        "colab": {
          "base_uri": "https://localhost:8080/",
          "height": 136
        },
        "id": "mdo9si01I9m7",
        "outputId": "7270e662-b35a-436e-ff98-3d49ba938be4"
      },
      "execution_count": null,
      "outputs": [
        {
          "output_type": "error",
          "ename": "SyntaxError",
          "evalue": "ignored",
          "traceback": [
            "\u001b[0;36m  File \u001b[0;32m\"<ipython-input-25-9d3247fa0be4>\"\u001b[0;36m, line \u001b[0;32m1\u001b[0m\n\u001b[0;31m    if diff := tweet_limit - len(tweet_sting) > 0:\u001b[0m\n\u001b[0m             ^\u001b[0m\n\u001b[0;31mSyntaxError\u001b[0m\u001b[0;31m:\u001b[0m invalid syntax\n"
          ]
        }
      ]
    },
    {
      "cell_type": "code",
      "execution_count": null,
      "metadata": {
        "id": "pUSNPxd8Ec7x",
        "colab": {
          "base_uri": "https://localhost:8080/"
        },
        "outputId": "38fde6b7-070e-4982-f22e-f1cfe2fe63e3"
      },
      "outputs": [
        {
          "output_type": "stream",
          "name": "stdout",
          "text": [
            "년도를 입력하세요2022\n",
            "2022년은 윤년이 아닙니다\n"
          ]
        }
      ],
      "source": [
        "#Quiz\n",
        "\n",
        "year = int(input('년도를 입력하세요'))\n",
        "\n",
        "if year % 100 != 0 and year % 4 == 0 or year % 400 == 0:\n",
        "  print(f'{year}년은 윤년입니다')\n",
        "else:\n",
        "  print(f'{year}년은 윤년이 아닙니다')"
      ]
    },
    {
      "cell_type": "markdown",
      "source": [
        "## String | 문자열\n",
        "- 시스템에서 가장 작은 단위\n",
        "- 불변적인 성격을 가진다. immutable\n",
        "- ',\"로 선언한다\n",
        "  - ''',\"\"\"는 주석\n",
        "-형변환은 string()\n",
        "\n",
        "\n",
        "### escape character | 이스케이프문자\n",
        "- 특수한 형태의 문자열. 눈에 보이는 대로 인식되지 않는 문자\n",
        "- \\n, \\t, \\b, \\', \\\"...\n",
        "- \\n을 출력하고 싶다? -> r' '\n",
        "- 다른 스트링을 만드는 것이 아님"
      ],
      "metadata": {
        "id": "e6QQC1cbJ0oV"
      }
    },
    {
      "cell_type": "code",
      "source": [
        "a = 'hello\\\\nworld'\n",
        "print(a)\n",
        "\n",
        "b = r'hello\\nworld'\n",
        "print(b)\n",
        "\n",
        "c = 'hello\\nworld'\n",
        "print(c)"
      ],
      "metadata": {
        "colab": {
          "base_uri": "https://localhost:8080/"
        },
        "id": "795HzykiK91I",
        "outputId": "37d9622c-8bc9-4097-bc46-a21dc2c3df9e"
      },
      "execution_count": null,
      "outputs": [
        {
          "output_type": "stream",
          "name": "stdout",
          "text": [
            "hello\\nworld\n",
            "hello\\nworld\n",
            "hello\n",
            "world\n"
          ]
        }
      ]
    },
    {
      "cell_type": "code",
      "source": [
        "sent = 'hello\\nworld'\n",
        "sent          #\\n이 그대로 나옴"
      ],
      "metadata": {
        "colab": {
          "base_uri": "https://localhost:8080/",
          "height": 35
        },
        "id": "LMESv3X0gApr",
        "outputId": "8cb575f5-4a7c-4b37-d5dc-9455223b1985"
      },
      "execution_count": null,
      "outputs": [
        {
          "output_type": "execute_result",
          "data": {
            "text/plain": [
              "'hello\\nworld'"
            ],
            "application/vnd.google.colaboratory.intrinsic+json": {
              "type": "string"
            }
          },
          "metadata": {},
          "execution_count": 2
        }
      ]
    },
    {
      "cell_type": "code",
      "source": [
        "print(sent)     #\\n이 안보임"
      ],
      "metadata": {
        "colab": {
          "base_uri": "https://localhost:8080/"
        },
        "id": "4iFt8pvugP17",
        "outputId": "3ebd5e8e-64ef-48ea-ee9a-9bc62b798f49"
      },
      "execution_count": null,
      "outputs": [
        {
          "output_type": "stream",
          "name": "stdout",
          "text": [
            "hello\n",
            "world\n"
          ]
        }
      ]
    },
    {
      "cell_type": "markdown",
      "source": [
        "###연산\n",
        "- concatenation\n",
        "  - '+' -> 공백없이 결합하는 방법\n",
        "- 곱하기 -> 복제"
      ],
      "metadata": {
        "id": "cVOTDTsMLrWf"
      }
    },
    {
      "cell_type": "code",
      "source": [
        "#immutable\n",
        "name[1] = 'e'"
      ],
      "metadata": {
        "colab": {
          "base_uri": "https://localhost:8080/",
          "height": 190
        },
        "id": "-VL7M71phVx5",
        "outputId": "24fb53e3-75f5-41bf-b459-6ab1d42c5668"
      },
      "execution_count": null,
      "outputs": [
        {
          "output_type": "error",
          "ename": "NameError",
          "evalue": "ignored",
          "traceback": [
            "\u001b[0;31m---------------------------------------------------------------------------\u001b[0m",
            "\u001b[0;31mNameError\u001b[0m                                 Traceback (most recent call last)",
            "\u001b[0;32m<ipython-input-4-ad44501c96eb>\u001b[0m in \u001b[0;36m<module>\u001b[0;34m()\u001b[0m\n\u001b[1;32m      1\u001b[0m \u001b[0;31m#immutable\u001b[0m\u001b[0;34m\u001b[0m\u001b[0;34m\u001b[0m\u001b[0;34m\u001b[0m\u001b[0m\n\u001b[0;32m----> 2\u001b[0;31m \u001b[0mname\u001b[0m\u001b[0;34m[\u001b[0m\u001b[0;36m1\u001b[0m\u001b[0;34m]\u001b[0m \u001b[0;34m=\u001b[0m \u001b[0;34m'e'\u001b[0m\u001b[0;34m\u001b[0m\u001b[0;34m\u001b[0m\u001b[0m\n\u001b[0m",
            "\u001b[0;31mNameError\u001b[0m: name 'name' is not defined"
          ]
        }
      ]
    },
    {
      "cell_type": "markdown",
      "source": [
        "### 슬라이싱, 추출\n",
        "- 문자열의 일부를 떼어내는 작업\n",
        "- 대괄호 사용, 그 안에 오프셋을 지정\n",
        "- 오프셋은 0부터 시작함\n",
        "- 음수도 가능, -1부터 시작\n",
        "- 오프셋은 [시작:끝:스텝]\n",
        "- 시작은 포함, 끝은 포함하지 않음 (이상-미만)"
      ],
      "metadata": {
        "id": "iYFgvMiCN08Q"
      }
    },
    {
      "cell_type": "code",
      "source": [
        "#처음부터 5까지 출력\n",
        "sent[:6]"
      ],
      "metadata": {
        "colab": {
          "base_uri": "https://localhost:8080/",
          "height": 35
        },
        "id": "KL2q_iHFjVWs",
        "outputId": "12b59c3d-c7bf-434c-b64e-7984376cdb9e"
      },
      "execution_count": null,
      "outputs": [
        {
          "output_type": "execute_result",
          "data": {
            "text/plain": [
              "'hello\\n'"
            ],
            "application/vnd.google.colaboratory.intrinsic+json": {
              "type": "string"
            }
          },
          "metadata": {},
          "execution_count": 5
        }
      ]
    },
    {
      "cell_type": "code",
      "source": [
        "#처음부터 끝까지 2스텝씩 출력\n",
        "sent[::2]"
      ],
      "metadata": {
        "colab": {
          "base_uri": "https://localhost:8080/",
          "height": 35
        },
        "id": "JaoLky9cji2X",
        "outputId": "27f9c070-7e0c-4451-d98a-f5bf4ef5dc52"
      },
      "execution_count": null,
      "outputs": [
        {
          "output_type": "execute_result",
          "data": {
            "text/plain": [
              "'hlowrd'"
            ],
            "application/vnd.google.colaboratory.intrinsic+json": {
              "type": "string"
            }
          },
          "metadata": {},
          "execution_count": 6
        }
      ]
    },
    {
      "cell_type": "code",
      "source": [
        "#Quiz\n",
        "\n",
        "sent = 'hello\\nworld'\n",
        "print(sent[::-1])"
      ],
      "metadata": {
        "colab": {
          "base_uri": "https://localhost:8080/"
        },
        "id": "vlnh0A3GPDW3",
        "outputId": "0dbfcb3a-2127-4e3c-df97-7917d418c6a7"
      },
      "execution_count": null,
      "outputs": [
        {
          "output_type": "stream",
          "name": "stdout",
          "text": [
            "dlrow\n",
            "olleh\n"
          ]
        }
      ]
    },
    {
      "cell_type": "code",
      "source": [
        "#모든 글자를 거꾸로 출력\n",
        "sent[::-1]"
      ],
      "metadata": {
        "colab": {
          "base_uri": "https://localhost:8080/",
          "height": 35
        },
        "id": "mthyEOBDji47",
        "outputId": "3320e7db-8b1a-4c87-ae1b-aff72573d7e4"
      },
      "execution_count": null,
      "outputs": [
        {
          "output_type": "execute_result",
          "data": {
            "text/plain": [
              "'dlrow\\nolleh'"
            ],
            "application/vnd.google.colaboratory.intrinsic+json": {
              "type": "string"
            }
          },
          "metadata": {},
          "execution_count": 7
        }
      ]
    },
    {
      "cell_type": "markdown",
      "source": [
        "### NLTK\n",
        "- natural language toolkit\n",
        "- 자연어 분석을 위해 교육용으로 배포된 패키지\n",
        "- 내장함수, 기능들이 추가됨\n",
        "  - 토크나이즈, 파싱, 태깅..."
      ],
      "metadata": {
        "id": "tpLPm1M1l85e"
      }
    },
    {
      "cell_type": "code",
      "source": [
        "#!pip install nltk  #설치"
      ],
      "metadata": {
        "id": "JgepYeZ9oBYa"
      },
      "execution_count": null,
      "outputs": []
    },
    {
      "cell_type": "code",
      "source": [
        "import nltk #가져오기\n",
        "nltk.download('book', quiet=True) #부분적으로 다운받기"
      ],
      "metadata": {
        "colab": {
          "base_uri": "https://localhost:8080/"
        },
        "id": "8Uo2-Mm1bJN_",
        "outputId": "38905afe-f764-47e8-a40b-8913a9fc06dc"
      },
      "execution_count": 3,
      "outputs": [
        {
          "output_type": "execute_result",
          "data": {
            "text/plain": [
              "True"
            ]
          },
          "metadata": {},
          "execution_count": 3
        }
      ]
    },
    {
      "cell_type": "code",
      "source": [
        "from nltk import book"
      ],
      "metadata": {
        "colab": {
          "base_uri": "https://localhost:8080/"
        },
        "id": "Fa--yGzVXN1V",
        "outputId": "9bc83d3c-8375-4102-e00c-b0faeaff8f5d"
      },
      "execution_count": 4,
      "outputs": [
        {
          "output_type": "stream",
          "name": "stdout",
          "text": [
            "*** Introductory Examples for the NLTK Book ***\n",
            "Loading text1, ..., text9 and sent1, ..., sent9\n",
            "Type the name of the text or sentence to view it.\n",
            "Type: 'texts()' or 'sents()' to list the materials.\n",
            "text1: Moby Dick by Herman Melville 1851\n",
            "text2: Sense and Sensibility by Jane Austen 1811\n",
            "text3: The Book of Genesis\n",
            "text4: Inaugural Address Corpus\n",
            "text5: Chat Corpus\n",
            "text6: Monty Python and the Holy Grail\n",
            "text7: Wall Street Journal\n",
            "text8: Personals Corpus\n",
            "text9: The Man Who Was Thursday by G . K . Chesterton 1908\n"
          ]
        }
      ]
    },
    {
      "cell_type": "code",
      "source": [
        "moby = book.text1\n",
        "moby.tokens[:10]  #토큰에 접근하는 방법\n",
        "#토큰: 프로그래밍의 단어 단위\n",
        "  #I'm / I, 'm / I, am "
      ],
      "metadata": {
        "colab": {
          "base_uri": "https://localhost:8080/"
        },
        "id": "DpGiWk_HsXEy",
        "outputId": "0cd5f1bb-d6fa-43f8-b279-abfcfb2999e1"
      },
      "execution_count": 5,
      "outputs": [
        {
          "output_type": "execute_result",
          "data": {
            "text/plain": [
              "['[',\n",
              " 'Moby',\n",
              " 'Dick',\n",
              " 'by',\n",
              " 'Herman',\n",
              " 'Melville',\n",
              " '1851',\n",
              " ']',\n",
              " 'ETYMOLOGY',\n",
              " '.']"
            ]
          },
          "metadata": {},
          "execution_count": 5
        }
      ]
    },
    {
      "cell_type": "code",
      "source": [
        "#1. 길이 세기\n",
        "len(moby) #26만자"
      ],
      "metadata": {
        "colab": {
          "base_uri": "https://localhost:8080/"
        },
        "id": "PQzbmJK4tJGm",
        "outputId": "16b98820-ac60-4ce4-84d6-9b70fce9cb0d"
      },
      "execution_count": 6,
      "outputs": [
        {
          "output_type": "execute_result",
          "data": {
            "text/plain": [
              "260819"
            ]
          },
          "metadata": {},
          "execution_count": 6
        }
      ]
    },
    {
      "cell_type": "code",
      "source": [
        "#2. 중복 없이 단어 세기\n",
        "len(set(moby))  #1.9만자"
      ],
      "metadata": {
        "colab": {
          "base_uri": "https://localhost:8080/"
        },
        "id": "6ccO3I5ktY9c",
        "outputId": "785f7009-eb54-478a-9e19-d7ba9b2ddceb"
      },
      "execution_count": null,
      "outputs": [
        {
          "output_type": "execute_result",
          "data": {
            "text/plain": [
              "19317"
            ]
          },
          "metadata": {},
          "execution_count": 13
        }
      ]
    },
    {
      "cell_type": "markdown",
      "source": [
        "- list\n",
        "  - ['a', 1, True]\n",
        "  - 순서가 있고\n",
        "  - 중복 허용\n",
        "  - list()\n",
        "- set\n",
        "  - {'a', 2, True}\n",
        "  - 순서 없고\n",
        "  - 중복 허용 안 됨\n",
        "  - set()\n",
        "  - 수학의 집합 개념"
      ],
      "metadata": {
        "id": "6XdzaefKt4Rw"
      }
    },
    {
      "cell_type": "code",
      "source": [
        "cars = ['kia', 'hyndai', 'renault', 'benz', 'kia', 'benz']\n",
        "cars"
      ],
      "metadata": {
        "colab": {
          "base_uri": "https://localhost:8080/"
        },
        "id": "pirOAdJDuh2f",
        "outputId": "949bf4cb-4441-4e09-b0a2-5ed2e6e14cb7"
      },
      "execution_count": null,
      "outputs": [
        {
          "output_type": "execute_result",
          "data": {
            "text/plain": [
              "['kia', 'hyndai', 'renault', 'benz', 'kia', 'benz']"
            ]
          },
          "metadata": {},
          "execution_count": 14
        }
      ]
    },
    {
      "cell_type": "code",
      "source": [
        "set(cars)"
      ],
      "metadata": {
        "colab": {
          "base_uri": "https://localhost:8080/"
        },
        "id": "RiqlbJwvuw8C",
        "outputId": "d1bc3c29-e2ac-46b1-b4cd-148d360273bc"
      },
      "execution_count": null,
      "outputs": [
        {
          "output_type": "execute_result",
          "data": {
            "text/plain": [
              "{'benz', 'hyndai', 'kia', 'renault'}"
            ]
          },
          "metadata": {},
          "execution_count": 15
        }
      ]
    },
    {
      "cell_type": "code",
      "source": [
        "#lexical diversity\n",
        "len(set(moby)) / len(moby)"
      ],
      "metadata": {
        "colab": {
          "base_uri": "https://localhost:8080/"
        },
        "id": "5p5kFct2u5np",
        "outputId": "a3883a01-d7ca-4f81-b83f-a7c07f40d2f9"
      },
      "execution_count": null,
      "outputs": [
        {
          "output_type": "execute_result",
          "data": {
            "text/plain": [
              "0.07406285585022564"
            ]
          },
          "metadata": {},
          "execution_count": 16
        }
      ]
    },
    {
      "cell_type": "code",
      "source": [
        "# 정렬\n",
        "sorted(cars, reverse=True)    #reverse=True: 반대 방향으로"
      ],
      "metadata": {
        "colab": {
          "base_uri": "https://localhost:8080/"
        },
        "id": "rinX7-Y7vE1F",
        "outputId": "8b112d89-b680-428a-92f1-c24667d4eeb9"
      },
      "execution_count": null,
      "outputs": [
        {
          "output_type": "execute_result",
          "data": {
            "text/plain": [
              "['renault', 'kia', 'kia', 'hyndai', 'benz', 'benz']"
            ]
          },
          "metadata": {},
          "execution_count": 17
        }
      ]
    },
    {
      "cell_type": "markdown",
      "source": [
        "- 순서: 문장부호 -> 숫자 -> 대문자 -> 소문자\n",
        "- sorted(moby[:10]) != sorted(moby)[:10]"
      ],
      "metadata": {
        "id": "hEi1oCBUc2m8"
      }
    },
    {
      "cell_type": "code",
      "source": [
        "#Quiz1\n",
        "monty = book.text6\n",
        "monty.tokens\n",
        "set_monty = set(monty)\n",
        "monty_down = sorted(set_monty, reverse=True)\n",
        "\n",
        "for i in range(10):\n",
        "  if 'z' in monty_down[i]:\n",
        "    monty_down[i] = monty_down[i].replace('z', 'Z')\n",
        "  elif len(monty_down[i]) >= 4:\n",
        "    monty_down[i] = monty_down[i].replace(monty_down[i][-1], monty_down[i][-1].upper())\n",
        "\n",
        "print(monty_down[:10])\n"
      ],
      "metadata": {
        "colab": {
          "base_uri": "https://localhost:8080/"
        },
        "id": "ROYxw5ecbkHx",
        "outputId": "7671e003-a6b3-4884-9244-c065c234370e"
      },
      "execution_count": 16,
      "outputs": [
        {
          "output_type": "stream",
          "name": "stdout",
          "text": [
            "['Zoosh', 'Zoop', 'Zoo', 'Zone', 'Zhiv', 'yourselF', 'yourS', 'youR', 'younG', 'you']\n"
          ]
        }
      ]
    },
    {
      "cell_type": "code",
      "source": [
        "#Quiz2\n",
        "resident = input('주민번호를 입력하세요')\n",
        "phone = input('전화번호를 -없이 입력하세요')\n",
        "email = input('이메일 주소를 입력하세요 (아이디만)')\n",
        "\n",
        "month = resident[2:4]\n",
        "day = resident[4:6]\n",
        "\n",
        "if resident[0] == '0' or '1' or '2':\n",
        "  year = '20' + resident[0:2]\n",
        "  if resident[6] == '3':\n",
        "    gender = '남성'\n",
        "  elif resident[6] == '4':\n",
        "    gender = '여성'\n",
        "  else:\n",
        "    print('주민번호가 잘못되었습니다.')\n",
        "else:\n",
        "  year = '19' + resident[0:2]\n",
        "  if resident[6] == '1':\n",
        "    gender = '남성'\n",
        "  elif resident[6] == '2':\n",
        "    gender = '여성'\n",
        "  else:\n",
        "    print('주민번호가 잘못되었습니다.')\n",
        "\n",
        "print(f'1. 당신은 {year}년 {month}월 {day}일 출생의 {gender}입니다.')\n",
        "\n",
        "print(f'2. 휴대폰 번호: {phone[0:3]}-{phone[3:7]}-{phone[7:11]}')\n",
        "\n",
        "full_email = email + '@gmail.com'\n",
        "print(f'3. 이메일주소: {full_email}')"
      ],
      "metadata": {
        "id": "MSRusibv79s5",
        "colab": {
          "base_uri": "https://localhost:8080/"
        },
        "outputId": "e12256f7-e3ee-4044-d559-9ceae312ac4a"
      },
      "execution_count": 18,
      "outputs": [
        {
          "output_type": "stream",
          "name": "stdout",
          "text": [
            "주민번호를 입력하세요0203143035668\n",
            "전화번호를 -없이 입력하세요01096658874\n",
            "이메일 주소를 입력하세요 (아이디만)babo\n",
            "1. 당신은 2002년 03월 14일 출생의 남성입니다.\n",
            "2. 휴대폰 번호: 010-9665-8874\n",
            "3. 이메일주소: babo@gmail.com\n"
          ]
        }
      ]
    },
    {
      "cell_type": "code",
      "source": [
        ""
      ],
      "metadata": {
        "id": "Re63D1aTGNrk"
      },
      "execution_count": 18,
      "outputs": []
    }
  ]
}