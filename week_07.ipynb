{
  "nbformat": 4,
  "nbformat_minor": 0,
  "metadata": {
    "colab": {
      "name": "week_07.ipynb",
      "provenance": [],
      "collapsed_sections": [],
      "authorship_tag": "ABX9TyPv72vxGqbJEpi5A2tX9295",
      "include_colab_link": true
    },
    "kernelspec": {
      "name": "python3",
      "display_name": "Python 3"
    },
    "language_info": {
      "name": "python"
    }
  },
  "cells": [
    {
      "cell_type": "markdown",
      "metadata": {
        "id": "view-in-github",
        "colab_type": "text"
      },
      "source": [
        "<a href=\"https://colab.research.google.com/github/HUFS-Programming-2022/Junsu_202102707/blob/main/week_07.ipynb\" target=\"_parent\"><img src=\"https://colab.research.google.com/assets/colab-badge.svg\" alt=\"Open In Colab\"/></a>"
      ]
    },
    {
      "cell_type": "markdown",
      "source": [
        "### 함수\n",
        "1. 정의\n",
        "2. 인수\n",
        "3. 호출 방식"
      ],
      "metadata": {
        "id": "XmWMbOknUzpD"
      }
    },
    {
      "cell_type": "markdown",
      "source": [
        "#### 1. 정의\n",
        "- 코드의 덩어리, 코드의 묶음\n",
        "- 간편한 재사용을 위해, 한 줄로 재사용 가능하다.\n",
        "- 정의(define) 부분 + 호출(call) 부분\n",
        "  - 정의하기\n",
        "  def 함수이름(매개변수1, 2, 3, ...):\n",
        "    수행문1\n",
        "    수행문2\n",
        "    ....\n",
        "    return 반환값\n",
        "  - 호출하기\n",
        "  함수이름(인수1, 2, 3, ...)\n",
        "\n",
        "- 총 4가지 케이스\n",
        "  - 1. 매개변수와 반환값 둘 다 없는\n",
        "  - 2. 매개변수와 반환값 둘 다 있는\n",
        "  - 3. 매개변수만 있는\n",
        "  - 4. 반환값만 있는"
      ],
      "metadata": {
        "id": "h_Q36PyGVE7k"
      }
    },
    {
      "cell_type": "code",
      "execution_count": null,
      "metadata": {
        "colab": {
          "base_uri": "https://localhost:8080/"
        },
        "id": "6Md5eY27Svhr",
        "outputId": "b58b090d-830e-4d44-f736-ffcfa209cb19"
      },
      "outputs": [
        {
          "output_type": "execute_result",
          "data": {
            "text/plain": [
              "3"
            ]
          },
          "metadata": {},
          "execution_count": 4
        }
      ],
      "source": [
        "#y = x + 1 #x는 매개변수, y는 반환값, 식은 수행문\n",
        "\n",
        "#둘 다 있는 켕스\n",
        "def ex(x):\n",
        "  y = x + 1\n",
        "  return y\n",
        "\n",
        "ex(2)"
      ]
    },
    {
      "cell_type": "code",
      "source": [
        "#1\n",
        "def make_a_sound():\n",
        "  print('quack')\n",
        "  #return none\n",
        "\n",
        "make_a_sound()"
      ],
      "metadata": {
        "colab": {
          "base_uri": "https://localhost:8080/"
        },
        "id": "cpIsgvsNWEf-",
        "outputId": "41a4b185-599b-40a1-b5cb-7dbc14d79d6a"
      },
      "execution_count": null,
      "outputs": [
        {
          "output_type": "stream",
          "name": "stdout",
          "text": [
            "quack\n"
          ]
        }
      ]
    },
    {
      "cell_type": "code",
      "source": [
        "#3\n",
        "def make_a_sound(sound):\n",
        "  print(sound)\n",
        "\n",
        "make_a_sound('yay')"
      ],
      "metadata": {
        "colab": {
          "base_uri": "https://localhost:8080/"
        },
        "id": "ZPSgED8OW-q9",
        "outputId": "6f153c69-3627-4cda-fd44-18eeeac5ce8d"
      },
      "execution_count": null,
      "outputs": [
        {
          "output_type": "stream",
          "name": "stdout",
          "text": [
            "yay\n"
          ]
        }
      ]
    },
    {
      "cell_type": "code",
      "source": [
        "#4\n",
        "def agree():\n",
        "  return True\n",
        "\n",
        "if agree():\n",
        "  print('Splendid')\n",
        "else:\n",
        "  print('unexpected')"
      ],
      "metadata": {
        "colab": {
          "base_uri": "https://localhost:8080/"
        },
        "id": "Ed8Wy0-tXKdb",
        "outputId": "910b301f-81f6-4e34-b8b3-368ecf4299f8"
      },
      "execution_count": null,
      "outputs": [
        {
          "output_type": "stream",
          "name": "stdout",
          "text": [
            "Splendid\n"
          ]
        }
      ]
    },
    {
      "cell_type": "markdown",
      "source": [
        "#### 함수 이름 짓기\n",
        "- 소문자만 사용한다\n",
        "  - splitWord???\n",
        "  - split_word\n",
        "- 동작과 관련되어 있기 때문에 \"동사+명사\"의 형태 주로 씀\n",
        "- i.e., 클래스는 명사\n",
        "  - def split_word(): (x)\n",
        "- 줄임말 쓰지 말 것, 명료하게\n",
        "  - splt_word (x)\n",
        "    - calculate -> calc 는 많이 씀"
      ],
      "metadata": {
        "id": "tC-RZzrfXfWD"
      }
    },
    {
      "cell_type": "markdown",
      "source": [
        "#### 2. 인수\n",
        "- 매개변수 vs. 인수\n",
        "  - 매개변수: 함수 내('인터페이스')에서 유효한 변수\n",
        "  - 인수: 실제 매개변수에 대입되는 변수\n",
        "  - 호출 시에 인수가 매개변수에 복제된다.\n",
        "- 위치 인수\n",
        "  - positional argument\n",
        "  - 매개변수를 값에 순서에 상응하게 복제함\n",
        "- 키워드 인수\n",
        "  - keyword argument\n",
        "  - 매개변수 키워드에 맞는 인수로 지정 => 위치 달라도 됨\n",
        "- 디폴트 인수\n",
        "  - default argument\n",
        "  - 매개변수를 정의할 때 값을 미리 지정해놓는 것"
      ],
      "metadata": {
        "id": "1bFinQXKYdTg"
      }
    },
    {
      "cell_type": "code",
      "source": [
        "def commentary(color):\n",
        "  if color == 'g':\n",
        "    return 'green'\n",
        "  else:\n",
        "    return 'black'\n",
        "\n",
        "color = 'white'\n",
        "commentary(color)"
      ],
      "metadata": {
        "colab": {
          "base_uri": "https://localhost:8080/",
          "height": 35
        },
        "id": "h-SFfScuXeww",
        "outputId": "c52c832f-f282-41ac-e9f7-44c5add729b4"
      },
      "execution_count": null,
      "outputs": [
        {
          "output_type": "execute_result",
          "data": {
            "text/plain": [
              "'black'"
            ],
            "application/vnd.google.colaboratory.intrinsic+json": {
              "type": "string"
            }
          },
          "metadata": {},
          "execution_count": 8
        }
      ]
    },
    {
      "cell_type": "code",
      "source": [
        "colors = ['g', 'b', 't']\n",
        "\n",
        "for color in colors:\n",
        "  print(commentary(color))"
      ],
      "metadata": {
        "colab": {
          "base_uri": "https://localhost:8080/"
        },
        "id": "lqoGk7v1YT13",
        "outputId": "2c91ece7-48b2-4bc9-d3dd-ebe11c317f4c"
      },
      "execution_count": null,
      "outputs": [
        {
          "output_type": "stream",
          "name": "stdout",
          "text": [
            "green\n",
            "black\n",
            "black\n"
          ]
        }
      ]
    },
    {
      "cell_type": "code",
      "source": [
        "#위치 인수\n",
        "def menu(wine, entree, dessert):\n",
        "  return {'wine': wine, 'entree':entree, 'dessert':dessert}\n",
        "\n",
        "menu('a', 'b', 'c')"
      ],
      "metadata": {
        "colab": {
          "base_uri": "https://localhost:8080/"
        },
        "id": "1ntJBUq9XarB",
        "outputId": "d56ba161-0741-4663-a343-53ffad5a2b9b"
      },
      "execution_count": null,
      "outputs": [
        {
          "output_type": "execute_result",
          "data": {
            "text/plain": [
              "{'dessert': 'c', 'entree': 'b', 'wine': 'a'}"
            ]
          },
          "metadata": {},
          "execution_count": 11
        }
      ]
    },
    {
      "cell_type": "code",
      "source": [
        "menu(entree='a', dessert='b', wine='c')"
      ],
      "metadata": {
        "colab": {
          "base_uri": "https://localhost:8080/"
        },
        "id": "hAr3TwZhaYU2",
        "outputId": "c1bce776-6ce0-43ba-b628-8ef847281324"
      },
      "execution_count": null,
      "outputs": [
        {
          "output_type": "execute_result",
          "data": {
            "text/plain": [
              "{'dessert': 'b', 'entree': 'a', 'wine': 'c'}"
            ]
          },
          "metadata": {},
          "execution_count": 12
        }
      ]
    },
    {
      "cell_type": "markdown",
      "source": [
        "#### 3. 호출방식\n",
        "- 정의 부분은 호출 시 실행된다\n",
        "- 메모리에 저장되었다가 호출 시 사용\n",
        "- 매개변수 vs. 인수\n",
        "  - 참조에 의한 호출(call by reference)\n",
        "  - '매개변수 = 인수' copy되기 때문에 나타나는 문제점\n",
        "    - 리스트처럼 가변객체일 때 주소값을 공유하므로 값이 변함.\n",
        "- 리턴값이 있으면 다시 할당하여 사용할 수 있음"
      ],
      "metadata": {
        "id": "bz3geecKbhA8"
      }
    },
    {
      "cell_type": "code",
      "source": [
        "def multiply(x, y):\n",
        "  print(1)\n",
        "  return x * y\n",
        "print(2)\n",
        "i = 2\n",
        "j = 4\n",
        "print(3)\n",
        "multiply(i, j) #### i = 2, j = 4   -> x=i, y=j ->copy\n",
        "print(4)"
      ],
      "metadata": {
        "colab": {
          "base_uri": "https://localhost:8080/"
        },
        "id": "fVhcep4Yaqc3",
        "outputId": "35f8d790-b435-47ad-fa51-0a004f56ba2c"
      },
      "execution_count": null,
      "outputs": [
        {
          "output_type": "stream",
          "name": "stdout",
          "text": [
            "2\n",
            "3\n",
            "1\n",
            "4\n"
          ]
        }
      ]
    },
    {
      "cell_type": "code",
      "source": [
        "def buggy(arg, result = []):\n",
        "  result.append(arg)\n",
        "  print(result)\n",
        "\n",
        "a, b = 'a', 'b'\n",
        "buggy(a)\n",
        "buggy(b)"
      ],
      "metadata": {
        "colab": {
          "base_uri": "https://localhost:8080/"
        },
        "id": "PKMnvVJFcw12",
        "outputId": "8e8684db-9355-4dea-c4e7-17f5b291d4d5"
      },
      "execution_count": null,
      "outputs": [
        {
          "output_type": "stream",
          "name": "stdout",
          "text": [
            "['a']\n",
            "['a', 'b']\n"
          ]
        }
      ]
    },
    {
      "cell_type": "code",
      "source": [
        "def buggy(arg, result = []):\n",
        "  result = []\n",
        "  result.append(arg)\n",
        "  print(result)\n",
        "\n",
        "a, b = 'a', 'b'\n",
        "buggy(a)\n",
        "buggy(b)"
      ],
      "metadata": {
        "colab": {
          "base_uri": "https://localhost:8080/"
        },
        "id": "2tRr38XgdC8T",
        "outputId": "07825f5c-4cff-4a6c-e207-5602f179a998"
      },
      "execution_count": null,
      "outputs": [
        {
          "output_type": "stream",
          "name": "stdout",
          "text": [
            "['a']\n",
            "['b']\n"
          ]
        }
      ]
    },
    {
      "cell_type": "code",
      "source": [
        "# 둘 다 조건식으로 포함하는 함수로 변경하기\n",
        "def nonbuggy(arg, result = []):\n",
        "  if result == None:    # == (value), is(id)\n",
        "    result = []\n",
        "  result.append(arg)\n",
        "  print(result)\n",
        "\n",
        "a, b = 'a', 'b'\n",
        "buggy(a)\n",
        "buggy(b)\n",
        "# '없는 값, 아무것도 없다' None"
      ],
      "metadata": {
        "colab": {
          "base_uri": "https://localhost:8080/"
        },
        "id": "l_Faps9QdG-h",
        "outputId": "a41e5eb6-2797-4a67-d243-5e494df919d6"
      },
      "execution_count": null,
      "outputs": [
        {
          "output_type": "stream",
          "name": "stdout",
          "text": [
            "['a']\n",
            "['b']\n"
          ]
        }
      ]
    },
    {
      "cell_type": "code",
      "source": [
        "def fx():\n",
        "  global city # 전역변수\n",
        "  city = 'London' #지역변수\n",
        "  print(city)\n",
        "\n",
        "city = 'Paris'\n",
        "fx()\n",
        "print(city, '== London?')"
      ],
      "metadata": {
        "colab": {
          "base_uri": "https://localhost:8080/"
        },
        "id": "B1ayq_Hgeejn",
        "outputId": "4f914870-59eb-4c29-8809-e00637e5c1e3"
      },
      "execution_count": null,
      "outputs": [
        {
          "output_type": "stream",
          "name": "stdout",
          "text": [
            "London\n",
            "London == London?\n"
          ]
        }
      ]
    },
    {
      "cell_type": "markdown",
      "source": [
        "#### doc string\n",
        "- 함수 설명\n",
        "- 매개변수 타입, 의미, 함수의 기능\n",
        "- '''\n",
        "독스트링\n",
        "'''"
      ],
      "metadata": {
        "id": "tFq-rXoHkkmh"
      }
    },
    {
      "cell_type": "code",
      "source": [
        "def buggy(arg, result = []):\n",
        "  '''\n",
        "  arg: str, 꽃 이름\n",
        "  result: list, xxxxx\n",
        "  꽃 이름을 리스트에 추가한다\n",
        "  '''\n",
        "  result = []\n",
        "  result.append(arg)\n",
        "  print(result)\n",
        "\n",
        "a, b = 'a', 'b'\n",
        "buggy(a)\n",
        "buggy(b)"
      ],
      "metadata": {
        "colab": {
          "base_uri": "https://localhost:8080/"
        },
        "id": "25kaCDLRgYwM",
        "outputId": "be684184-fd83-46e5-b665-ba6ddb8f2f11"
      },
      "execution_count": null,
      "outputs": [
        {
          "output_type": "stream",
          "name": "stdout",
          "text": [
            "['a']\n",
            "['b']\n"
          ]
        }
      ]
    },
    {
      "cell_type": "code",
      "source": [
        "#독스트링 확인\n",
        "help(buggy)"
      ],
      "metadata": {
        "colab": {
          "base_uri": "https://localhost:8080/"
        },
        "id": "9Kn8AiHZlQbI",
        "outputId": "664d0e0e-f177-4b84-a82e-e30ad20d83a9"
      },
      "execution_count": null,
      "outputs": [
        {
          "output_type": "stream",
          "name": "stdout",
          "text": [
            "Help on function buggy in module __main__:\n",
            "\n",
            "buggy(arg, result=[])\n",
            "    arg: str, 꽃 이름\n",
            "    result: list, xxxxx\n",
            "    꽃 이름을 리스트에 추가한다\n",
            "\n"
          ]
        }
      ]
    },
    {
      "cell_type": "code",
      "source": [
        "buggy.__doc__   #str로 반환"
      ],
      "metadata": {
        "colab": {
          "base_uri": "https://localhost:8080/",
          "height": 35
        },
        "id": "paPpQdFElWYx",
        "outputId": "d0b54257-f651-443d-86cb-b19e1a95d865"
      },
      "execution_count": null,
      "outputs": [
        {
          "output_type": "execute_result",
          "data": {
            "text/plain": [
              "'\\n  arg: str, 꽃 이름\\n  result: list, xxxxx\\n  꽃 이름을 리스트에 추가한다\\n  '"
            ],
            "application/vnd.google.colaboratory.intrinsic+json": {
              "type": "string"
            }
          },
          "metadata": {},
          "execution_count": 22
        }
      ]
    },
    {
      "cell_type": "code",
      "source": [
        "#나이 -> 연도\n",
        "#함수: 입력값-나이, 반환-연도\n",
        "#나이 = input 받기\n",
        "\n",
        "def age_to_year(age):\n",
        "  this_year = 2022\n",
        "  return this_year - age + 1\n",
        "  \n",
        "age = int(input('나이를 입력하세요: '))\n",
        "print(age_to_year(age))"
      ],
      "metadata": {
        "colab": {
          "base_uri": "https://localhost:8080/"
        },
        "id": "LiR7B43BlaY5",
        "outputId": "5f41f4c3-8a8e-4acc-db5d-f462bda12e42"
      },
      "execution_count": 1,
      "outputs": [
        {
          "output_type": "stream",
          "name": "stdout",
          "text": [
            "나이를 입력하세요: 21\n",
            "2002\n"
          ]
        }
      ]
    },
    {
      "cell_type": "markdown",
      "source": [
        "###브라운 정제하기\n",
        "1. 문장분절\n",
        "2. 단어분절\n",
        "  c. 문장부호 제거\n",
        "  d. 하이픈 's\n",
        "3. 위의 것을 함수로"
      ],
      "metadata": {
        "id": "YFT54n373PAH"
      }
    },
    {
      "cell_type": "code",
      "source": [
        "import string\n",
        "import nltk\n",
        "#SLASH = '/' 이렇게 하면 더 편함\n",
        "nltk.download('brown')\n",
        "brown = nltk.corpus.brown\n",
        "romance = brown.raw(categories='romance')[:5000]\n",
        "sentences = [sent.strip() for sent in romance.split('/.')]\n",
        "sentences = [s for s in sentences if s != '!']\n",
        "\n",
        "#단어분절: sentences-> 단어분절, pos tag 제거\n",
        "\n"
      ],
      "metadata": {
        "colab": {
          "base_uri": "https://localhost:8080/"
        },
        "id": "fXEGSpdU3HqZ",
        "outputId": "874d0f4c-1751-4452-a7fb-91e0de48d91d"
      },
      "execution_count": 3,
      "outputs": [
        {
          "output_type": "stream",
          "name": "stdout",
          "text": [
            "[nltk_data] Downloading package brown to /root/nltk_data...\n",
            "[nltk_data]   Unzipping corpora/brown.zip.\n"
          ]
        }
      ]
    },
    {
      "cell_type": "code",
      "source": [
        "example = sentences[0]\n",
        "[word[:word.find('/')] if word[:word.find('/')] else word for word in example.split() for example in sentences]"
      ],
      "metadata": {
        "id": "38QxTnJ85Uqn"
      },
      "execution_count": null,
      "outputs": []
    },
    {
      "cell_type": "code",
      "source": [
        "#전체 문장에 적용하기\n",
        "sentence_tokens = [[word[:word.find('/')] if word[:word.find('/')] else word for word in example.split()] for example in sentences]"
      ],
      "metadata": {
        "id": "6m2Gc2OU5DBw"
      },
      "execution_count": 9,
      "outputs": []
    },
    {
      "cell_type": "code",
      "source": [
        "punct =  list(string.punctuation)\n",
        "[[word for word in sent if word not in punct] for sent in sentence_tokens]"
      ],
      "metadata": {
        "id": "s7siSrIA6ojV"
      },
      "execution_count": null,
      "outputs": []
    },
    {
      "cell_type": "code",
      "source": [
        "my_punct = set([word for sent in sentence_tokens for word in sent if not word[0].isalnum() and word not in punct])\n",
        "punct.extend(list(my_punct))"
      ],
      "metadata": {
        "id": "9P_x9XgO7cAl"
      },
      "execution_count": null,
      "outputs": []
    },
    {
      "cell_type": "code",
      "source": [
        "#하이픈\n",
        "'fur-piece'.split('-')\n",
        "\n",
        "#apostrophe 's\n",
        "word = 'she\\'s'\n",
        "index = word.find('\\'')\n",
        "word[:index], word[index:]"
      ],
      "metadata": {
        "colab": {
          "base_uri": "https://localhost:8080/"
        },
        "id": "ymIhxLaF9HuN",
        "outputId": "11a74c49-db55-493d-ecd6-40cfa40bcc07"
      },
      "execution_count": 11,
      "outputs": [
        {
          "output_type": "execute_result",
          "data": {
            "text/plain": [
              "('she', \"'s\")"
            ]
          },
          "metadata": {},
          "execution_count": 11
        }
      ]
    }
  ]
}