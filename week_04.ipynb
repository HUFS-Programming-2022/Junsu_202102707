{
  "nbformat": 4,
  "nbformat_minor": 0,
  "metadata": {
    "colab": {
      "name": "week_04.ipynb",
      "provenance": [],
      "collapsed_sections": [],
      "toc_visible": true,
      "authorship_tag": "ABX9TyPU2SJlqbUeoaqP9sGgY4mu",
      "include_colab_link": true
    },
    "kernelspec": {
      "name": "python3",
      "display_name": "Python 3"
    },
    "language_info": {
      "name": "python"
    }
  },
  "cells": [
    {
      "cell_type": "markdown",
      "metadata": {
        "id": "view-in-github",
        "colab_type": "text"
      },
      "source": [
        "<a href=\"https://colab.research.google.com/github/HUFS-Programming-2022/Junsu_202102707/blob/main/week_04.ipynb\" target=\"_parent\"><img src=\"https://colab.research.google.com/assets/colab-badge.svg\" alt=\"Open In Colab\"/></a>"
      ]
    },
    {
      "cell_type": "markdown",
      "source": [
        "# String with NLTK"
      ],
      "metadata": {
        "id": "wau-ulKT9f9m"
      }
    },
    {
      "cell_type": "code",
      "execution_count": 31,
      "metadata": {
        "colab": {
          "base_uri": "https://localhost:8080/"
        },
        "id": "eQqkGfj_8rT7",
        "outputId": "215c70a3-494a-4783-8406-4168a1a95e22"
      },
      "outputs": [
        {
          "output_type": "execute_result",
          "data": {
            "text/plain": [
              "True"
            ]
          },
          "metadata": {},
          "execution_count": 31
        }
      ],
      "source": [
        "import nltk\n",
        "from nltk.book import *\n",
        "nltk.download('book', quiet=True)"
      ]
    },
    {
      "cell_type": "markdown",
      "source": [
        "###내장함수\n",
        "\n",
        "- string1.method(string2)\n",
        "- list.method(string)"
      ],
      "metadata": {
        "id": "2ckWaJRl9sHk"
      }
    },
    {
      "cell_type": "markdown",
      "source": [
        "- list.count(string): string이 나타나는 개수\n",
        "- str.replace(A, B): A -> B 변경\n",
        "- str.strip(): 공백 등(\\t도 포함) 제거\n",
        "  - lstrip(), rstrip()\n",
        "- find(str): 오프셋을 반환\n",
        "  - lfind, rfind\n",
        "  - 공백 포함\n",
        "  - 1번째 값의 인덱스\n",
        "  - 만족하는 값이 없을 경우 -1 반환\n",
        "- index(str)\n",
        "  - 만족하는 값이 없을 경우 error"
      ],
      "metadata": {
        "id": "r_qaW-1K95uf"
      }
    },
    {
      "cell_type": "code",
      "source": [
        "word = 'word'\n",
        "word.replace('w', 'ch')\n",
        "print(word)   #word자체가 변하지는 않음 -> 변화시키려면 새로 할당을 해야 함\n",
        "word =  word.replace('w', 'ch')\n",
        "print(word)"
      ],
      "metadata": {
        "colab": {
          "base_uri": "https://localhost:8080/"
        },
        "id": "mdsnw_Cs9rmz",
        "outputId": "84981511-1947-4b61-da68-581dfe8f8578"
      },
      "execution_count": null,
      "outputs": [
        {
          "output_type": "stream",
          "name": "stdout",
          "text": [
            "word\n",
            "chord\n"
          ]
        }
      ]
    },
    {
      "cell_type": "code",
      "source": [
        "word.find('a')"
      ],
      "metadata": {
        "colab": {
          "base_uri": "https://localhost:8080/"
        },
        "id": "iM5yybXl9D0C",
        "outputId": "ec88d0e5-35b8-46d9-caaa-72dd7c9efc61"
      },
      "execution_count": null,
      "outputs": [
        {
          "output_type": "execute_result",
          "data": {
            "text/plain": [
              "-1"
            ]
          },
          "metadata": {},
          "execution_count": 7
        }
      ]
    },
    {
      "cell_type": "code",
      "source": [
        "word.index('a')"
      ],
      "metadata": {
        "colab": {
          "base_uri": "https://localhost:8080/",
          "height": 177
        },
        "id": "b0BBrHgOAM2x",
        "outputId": "e93ca48a-3216-4036-d4cb-5fe10badb1bd"
      },
      "execution_count": null,
      "outputs": [
        {
          "output_type": "error",
          "ename": "ValueError",
          "evalue": "ignored",
          "traceback": [
            "\u001b[0;31m---------------------------------------------------------------------------\u001b[0m",
            "\u001b[0;31mValueError\u001b[0m                                Traceback (most recent call last)",
            "\u001b[0;32m<ipython-input-8-d1e71ff00b9e>\u001b[0m in \u001b[0;36m<module>\u001b[0;34m()\u001b[0m\n\u001b[0;32m----> 1\u001b[0;31m \u001b[0mword\u001b[0m\u001b[0;34m.\u001b[0m\u001b[0mindex\u001b[0m\u001b[0;34m(\u001b[0m\u001b[0;34m'a'\u001b[0m\u001b[0;34m)\u001b[0m\u001b[0;34m\u001b[0m\u001b[0;34m\u001b[0m\u001b[0m\n\u001b[0m",
            "\u001b[0;31mValueError\u001b[0m: substring not found"
          ]
        }
      ]
    },
    {
      "cell_type": "markdown",
      "source": [
        "###NLTK 내장함수\n",
        "- list.method(variable)\n",
        "- 자연어처리와 관련된 함수들\n",
        "\n",
        "  - concordance('str'): 주어진 str의 앞뒤 문맥을 알려줌\n",
        "  - similar('str'): 문맥이 비슷한 단어들\n",
        "  - common_contexts(['str1', 'str2']): 주어진 str이 어떤 문맥을 공유하는지\n",
        "  - dispersion_plot(['str1', 'str2'...]): 주어진 str이 문장에서 출현하는 위치를 이미지로\n",
        "    - !pip install matplotlib 하고 나서 코드 돌리기"
      ],
      "metadata": {
        "id": "D4HNs_1yAY6b"
      }
    },
    {
      "cell_type": "code",
      "source": [
        "text4 = book.text4\n",
        "!pip install matplotlib\n",
        "text4.dispersion_plot(['America', 'a', 'my', 'house'])"
      ],
      "metadata": {
        "colab": {
          "base_uri": "https://localhost:8080/",
          "height": 446
        },
        "id": "e5i-YRkzAXtf",
        "outputId": "a8be52cd-c81d-487e-f5b8-42405364cbf8"
      },
      "execution_count": 3,
      "outputs": [
        {
          "output_type": "stream",
          "name": "stdout",
          "text": [
            "Requirement already satisfied: matplotlib in /usr/local/lib/python3.7/dist-packages (3.2.2)\n",
            "Requirement already satisfied: kiwisolver>=1.0.1 in /usr/local/lib/python3.7/dist-packages (from matplotlib) (1.4.0)\n",
            "Requirement already satisfied: cycler>=0.10 in /usr/local/lib/python3.7/dist-packages (from matplotlib) (0.11.0)\n",
            "Requirement already satisfied: pyparsing!=2.0.4,!=2.1.2,!=2.1.6,>=2.0.1 in /usr/local/lib/python3.7/dist-packages (from matplotlib) (3.0.7)\n",
            "Requirement already satisfied: python-dateutil>=2.1 in /usr/local/lib/python3.7/dist-packages (from matplotlib) (2.8.2)\n",
            "Requirement already satisfied: numpy>=1.11 in /usr/local/lib/python3.7/dist-packages (from matplotlib) (1.21.5)\n",
            "Requirement already satisfied: typing-extensions in /usr/local/lib/python3.7/dist-packages (from kiwisolver>=1.0.1->matplotlib) (3.10.0.2)\n",
            "Requirement already satisfied: six>=1.5 in /usr/local/lib/python3.7/dist-packages (from python-dateutil>=2.1->matplotlib) (1.15.0)\n"
          ]
        },
        {
          "output_type": "display_data",
          "data": {
            "text/plain": [
              "<Figure size 432x288 with 1 Axes>"
            ],
            "image/png": "[encoded data removed]"
          },
          "metadata": {
            "needs_background": "light"
          }
        }
      ]
    },
    {
      "cell_type": "markdown",
      "source": [
        "### Frequency Distribution\n",
        "- 단어의 빈도수를 활용할 수 있는 많은 메소드 제공\n",
        "- 인간의 언어 -> 컴퓨터가 인식\n",
        "  - 전체 단어 수\n",
        "  - 특정 단어의 빈도수\n",
        "- FreqDist(text1): 딕셔너리 자료형"
      ],
      "metadata": {
        "id": "mfz6sav8EoHP"
      }
    },
    {
      "cell_type": "code",
      "source": [
        "text1 = book.text1\n",
        "fdist = nltk.FreqDist(text1)"
      ],
      "metadata": {
        "id": "buX8KanxC6Zm"
      },
      "execution_count": null,
      "outputs": []
    },
    {
      "cell_type": "markdown",
      "source": [
        "- fdist.most_common(n): 가장 많이 나오는 단어 n개\n",
        "- fdist['str']: 특정 단어의 빈도수\n",
        "- fdist.freq('str'): 전체에서 단어가 차지하는 비율\n",
        "- fdist.plot(n, cumulative = True): 젤 빈번한 것부터 50개 축적해서 그림 그리기\n",
        "- fdist.hapaxes(): 1번 나타나는 단어들(중복 안 됨, 대소문자 구분)"
      ],
      "metadata": {
        "id": "Auj_aog5HaWe"
      }
    },
    {
      "cell_type": "code",
      "source": [
        "fdist.most_common(10) #가장 많이 나오는 단어 n개"
      ],
      "metadata": {
        "colab": {
          "base_uri": "https://localhost:8080/"
        },
        "id": "KlR1It4RF_yj",
        "outputId": "17087ba4-2bc9-48c9-d0bd-9f0a22799802"
      },
      "execution_count": null,
      "outputs": [
        {
          "output_type": "execute_result",
          "data": {
            "text/plain": [
              "[(',', 18713),\n",
              " ('the', 13721),\n",
              " ('.', 6862),\n",
              " ('of', 6536),\n",
              " ('and', 6024),\n",
              " ('a', 4569),\n",
              " ('to', 4542),\n",
              " (';', 4072),\n",
              " ('in', 3916),\n",
              " ('that', 2982)]"
            ]
          },
          "metadata": {},
          "execution_count": 24
        }
      ]
    },
    {
      "cell_type": "code",
      "source": [
        "fdist['whale'], text1.count('whale') #특정 단어의 빈도수"
      ],
      "metadata": {
        "colab": {
          "base_uri": "https://localhost:8080/"
        },
        "id": "2ZOSUI6YGKa5",
        "outputId": "750a6cbc-a405-4673-92e2-612623b1e876"
      },
      "execution_count": null,
      "outputs": [
        {
          "output_type": "execute_result",
          "data": {
            "text/plain": [
              "(906, 906)"
            ]
          },
          "metadata": {},
          "execution_count": 26
        }
      ]
    },
    {
      "cell_type": "code",
      "source": [
        "fdist.freq('whale') #전체에서 단어가 차지하는 비율"
      ],
      "metadata": {
        "colab": {
          "base_uri": "https://localhost:8080/"
        },
        "id": "ntStWIo2GKfX",
        "outputId": "fb15465a-ed12-40cd-e8ce-528805ff2f7c"
      },
      "execution_count": null,
      "outputs": [
        {
          "output_type": "execute_result",
          "data": {
            "text/plain": [
              "0.003473673313677301"
            ]
          },
          "metadata": {},
          "execution_count": 28
        }
      ]
    },
    {
      "cell_type": "code",
      "source": [
        "fdist.plot(50, cumulative=True) #젤 빈번한 것부터 50개 축적해서 그림 그리기"
      ],
      "metadata": {
        "colab": {
          "base_uri": "https://localhost:8080/",
          "height": 299
        },
        "id": "2BWDaU1xGKiN",
        "outputId": "d09728c7-6180-4e93-c522-e6a7a5532875"
      },
      "execution_count": null,
      "outputs": [
        {
          "output_type": "display_data",
          "data": {
            "text/plain": [
              "<Figure size 432x288 with 1 Axes>"
            ],
            "image/png": "[encoded data removed]"
          },
          "metadata": {
            "needs_background": "light"
          }
        }
      ]
    },
    {
      "cell_type": "code",
      "source": [
        "fdist.plot(50, cumulative=False)  #축적X"
      ],
      "metadata": {
        "colab": {
          "base_uri": "https://localhost:8080/",
          "height": 299
        },
        "id": "l8oNLWgaHb4Y",
        "outputId": "39795efd-c7d1-4b5c-c999-21bac0926338"
      },
      "execution_count": null,
      "outputs": [
        {
          "output_type": "display_data",
          "data": {
            "text/plain": [
              "<Figure size 432x288 with 1 Axes>"
            ],
            "image/png": "[encoded data removed]"
          },
          "metadata": {
            "needs_background": "light"
          }
        }
      ]
    },
    {
      "cell_type": "code",
      "source": [
        "len(fdist.hapaxes())"
      ],
      "metadata": {
        "colab": {
          "base_uri": "https://localhost:8080/"
        },
        "id": "YHQ4fs2XI-vK",
        "outputId": "c757a8c7-21eb-4a9f-cd95-4f7d6d61ddd9"
      },
      "execution_count": null,
      "outputs": [
        {
          "output_type": "execute_result",
          "data": {
            "text/plain": [
              "9002"
            ]
          },
          "metadata": {},
          "execution_count": 34
        }
      ]
    },
    {
      "cell_type": "markdown",
      "source": [
        "###리스트, 리스트 컴프리헨션\n",
        "- 리스트: 배열, 리스트\n",
        "- 하나의 변수에 여러 값을 할당하는 자료형\n",
        "- 대괄호로 선언 [ ]\n",
        "- 내부 요소들은 자료형이 달라도 됨\n",
        "  - a = ['a', 1, True]\n",
        "- 순서가 있음 -> 인덱싱, 슬라이싱 가능\n",
        "- 빈 리스트 선언: list(), []"
      ],
      "metadata": {
        "id": "up40UTf-FMtE"
      }
    },
    {
      "cell_type": "code",
      "source": [
        "drinks = ['rum', 'mojito', 'soju']\n",
        "print(drinks[-1]) #drinks[-01]: X\n",
        "drinks.index('soju')"
      ],
      "metadata": {
        "colab": {
          "base_uri": "https://localhost:8080/",
          "height": 233
        },
        "id": "P7xfAoHsJUXU",
        "outputId": "c1456eb3-719b-4a43-c0e4-40b8a03639b8"
      },
      "execution_count": null,
      "outputs": [
        {
          "output_type": "stream",
          "name": "stdout",
          "text": [
            "soju\n"
          ]
        },
        {
          "output_type": "error",
          "ename": "AttributeError",
          "evalue": "ignored",
          "traceback": [
            "\u001b[0;31m---------------------------------------------------------------------------\u001b[0m",
            "\u001b[0;31mAttributeError\u001b[0m                            Traceback (most recent call last)",
            "\u001b[0;32m<ipython-input-36-74ad14063776>\u001b[0m in \u001b[0;36m<module>\u001b[0;34m()\u001b[0m\n\u001b[1;32m      2\u001b[0m \u001b[0mprint\u001b[0m\u001b[0;34m(\u001b[0m\u001b[0mdrinks\u001b[0m\u001b[0;34m[\u001b[0m\u001b[0;34m-\u001b[0m\u001b[0;36m1\u001b[0m\u001b[0;34m]\u001b[0m\u001b[0;34m)\u001b[0m \u001b[0;31m#drinks[-01]: X\u001b[0m\u001b[0;34m\u001b[0m\u001b[0;34m\u001b[0m\u001b[0m\n\u001b[1;32m      3\u001b[0m \u001b[0mdrinks\u001b[0m\u001b[0;34m.\u001b[0m\u001b[0mindex\u001b[0m\u001b[0;34m(\u001b[0m\u001b[0;34m'soju'\u001b[0m\u001b[0;34m)\u001b[0m\u001b[0;34m\u001b[0m\u001b[0;34m\u001b[0m\u001b[0m\n\u001b[0;32m----> 4\u001b[0;31m \u001b[0mdrinks\u001b[0m\u001b[0;34m.\u001b[0m\u001b[0mfind\u001b[0m\u001b[0;34m(\u001b[0m\u001b[0;34m'soju'\u001b[0m\u001b[0;34m)\u001b[0m\u001b[0;34m\u001b[0m\u001b[0;34m\u001b[0m\u001b[0m\n\u001b[0m",
            "\u001b[0;31mAttributeError\u001b[0m: 'list' object has no attribute 'find'"
          ]
        }
      ]
    },
    {
      "cell_type": "code",
      "source": [
        "drinks.find('soju')"
      ],
      "metadata": {
        "colab": {
          "base_uri": "https://localhost:8080/",
          "height": 177
        },
        "id": "LX_dvsl8N6Y9",
        "outputId": "548c475f-1a45-4604-ba57-b76dc2059455"
      },
      "execution_count": null,
      "outputs": [
        {
          "output_type": "error",
          "ename": "AttributeError",
          "evalue": "ignored",
          "traceback": [
            "\u001b[0;31m---------------------------------------------------------------------------\u001b[0m",
            "\u001b[0;31mAttributeError\u001b[0m                            Traceback (most recent call last)",
            "\u001b[0;32m<ipython-input-37-f80e1648c14b>\u001b[0m in \u001b[0;36m<module>\u001b[0;34m()\u001b[0m\n\u001b[0;32m----> 1\u001b[0;31m \u001b[0mdrinks\u001b[0m\u001b[0;34m.\u001b[0m\u001b[0mfind\u001b[0m\u001b[0;34m(\u001b[0m\u001b[0;34m'soju'\u001b[0m\u001b[0;34m)\u001b[0m\u001b[0;34m\u001b[0m\u001b[0;34m\u001b[0m\u001b[0m\n\u001b[0m",
            "\u001b[0;31mAttributeError\u001b[0m: 'list' object has no attribute 'find'"
          ]
        }
      ]
    },
    {
      "cell_type": "markdown",
      "source": [
        "### List Comprehension\n",
        "- 지능형 리스트\n",
        "- 주어진 리스트를 포함하는 새로운 리스트를 형성\n",
        "- list + for_loop을 한 줄로 해결하는 방식\n",
        "- [A for A' in B]\n",
        "  - B에 있는 A'에서 A를 가진 리스트를 반환\n",
        "  - B: 기존의 리스트\n",
        "  - A': B의 자료형태\n",
        "  - A: 새로운 리스트의 요소\n",
        "\n",
        "-조건+: [A for A' in B if <조건식>], \n",
        "        [A for A' in B if <조건식> and <조건식>]"
      ],
      "metadata": {
        "id": "1lZ4rAvpOOJR"
      }
    },
    {
      "cell_type": "code",
      "source": [
        "#text1에서 알파벳 수가 10이상인 단어\n",
        "over10 = [word for word in text1 if len(word) >= 10]\n",
        "print(over10[:10])"
      ],
      "metadata": {
        "colab": {
          "base_uri": "https://localhost:8080/"
        },
        "id": "JsIGo6P9OCWH",
        "outputId": "51824f92-674b-42b1-87dd-a5c1a41a65e0"
      },
      "execution_count": null,
      "outputs": [
        {
          "output_type": "stream",
          "name": "stdout",
          "text": [
            "['Consumptive', 'threadbare', 'handkerchief', 'embellished', 'signification', 'DICTIONARY', 'immediately', 'RICHARDSON', 'DICTIONARY', 'ERROMANGOAN']\n"
          ]
        }
      ]
    },
    {
      "cell_type": "code",
      "source": [
        "#text4에서 'gnt'를 포함하는 단어\n",
        "gnt1 = [word for word in text4 if 'gnt' in word]\n",
        "gnt2 = [word for word in text4 if word.find('gnt') > 0]\n",
        "print(gnt1[:10])\n",
        "print(gnt2[:10])"
      ],
      "metadata": {
        "colab": {
          "base_uri": "https://localhost:8080/"
        },
        "id": "dqARD7JrQvhL",
        "outputId": "17fe3c25-3149-4c9d-cf31-8661e88bedd2"
      },
      "execution_count": null,
      "outputs": [
        {
          "output_type": "stream",
          "name": "stdout",
          "text": [
            "['sovereignty', 'sovereignty', 'sovereignty', 'sovereignty', 'sovereignty', 'sovereignty', 'sovereignty', 'sovereignty', 'sovereignty', 'sovereignties']\n",
            "['sovereignty', 'sovereignty', 'sovereignty', 'sovereignty', 'sovereignty', 'sovereignty', 'sovereignty', 'sovereignty', 'sovereignty', 'sovereignties']\n"
          ]
        }
      ]
    },
    {
      "cell_type": "code",
      "source": [
        "a = [word.lower() for word in set(text4) if 'gnt' in word]\n",
        "#the, The -> 연산\n",
        "b = set([word.lower() for word in text4 if 'gnt' in word])\n",
        "#연산 -> 중복 없앰\n",
        "len(a), len(b)"
      ],
      "metadata": {
        "colab": {
          "base_uri": "https://localhost:8080/"
        },
        "id": "AsKHwqV6SFsm",
        "outputId": "dbbbcf6a-4002-4528-ca17-0f619918a2bc"
      },
      "execution_count": null,
      "outputs": [
        {
          "output_type": "execute_result",
          "data": {
            "text/plain": [
              "(3, 2)"
            ]
          },
          "metadata": {},
          "execution_count": 49
        }
      ]
    },
    {
      "cell_type": "markdown",
      "source": [
        "### 조건을 위한 함수: uncased, cased\n",
        "- 'the' != 'The'\n",
        "- upper(), lower()\n",
        "- title(): 맨 앞글자를 대문자로\n",
        "- capitalize(): title()과 동일\n",
        "- swapcase(): 대문자를 소문자로, 소문자를 대문자로\n",
        "- isuppper(): 대문자인지 물어봐서 True/False 반환\n",
        "- islower(): 소문자인지 물어봐서 True/False 반환\n",
        "- istitle(): 앞 글자가 대문자인지 물어봐서 True/False 반환\n",
        "- endswith(): 무엇으로 끝나는지 물어봐서 True/False 반환\n",
        "- startswith(): 무엇으로 시작하는지 물어봐서 True/False 반환\n",
        "- isalpha(): 텍스트에서 알파벳만 골라내고 싶을 때"
      ],
      "metadata": {
        "id": "f1Nv4Wv1T3i7"
      }
    },
    {
      "cell_type": "code",
      "source": [
        "#text1에서 'ableness'로 끝나는 단어 반환\n",
        "[word for word in text1 if word.endswith('ableness')]"
      ],
      "metadata": {
        "colab": {
          "base_uri": "https://localhost:8080/"
        },
        "id": "ImMXQMQ1TgIT",
        "outputId": "9ca819e7-d2b8-41b3-e3fd-0e5b9324bc85"
      },
      "execution_count": null,
      "outputs": [
        {
          "output_type": "execute_result",
          "data": {
            "text/plain": [
              "['uncomfortableness',\n",
              " 'comfortableness',\n",
              " 'intolerableness',\n",
              " 'immutableness',\n",
              " 'indomitableness',\n",
              " 'reasonableness',\n",
              " 'indispensableness',\n",
              " 'indomitableness',\n",
              " 'honourableness',\n",
              " 'palpableness']"
            ]
          },
          "metadata": {},
          "execution_count": 50
        }
      ]
    },
    {
      "cell_type": "code",
      "source": [
        "#text3에서 대문자로 시작하는 단어들 중에서 길이가 3 이상인 단어 중복없이 뽑고 대문자로 반환\n",
        "'''\n",
        "[word.upper() for word in set(text4) if word.istitle() and len(word) >= 3]\n",
        "1. 거르기: god, God -> 걸러지지 않음\n",
        "2. 결과 계산: GOD, GOD\n",
        "\n",
        "set([word.upper() for word in text4 if word.istitle() and len(word) >= 3])\n",
        "1. 계산: GOD, GOD\n",
        "2. 거르기: GOD\n",
        "'''\n",
        "a = set([word.upper() for word in text4 if word.istitle() and len(word) >= 3])\n",
        "print(list(a)[:10])"
      ],
      "metadata": {
        "id": "b7NTq4I7WEve",
        "colab": {
          "base_uri": "https://localhost:8080/"
        },
        "outputId": "25d04968-e732-4366-e45e-c4700a06dc56"
      },
      "execution_count": 7,
      "outputs": [
        {
          "output_type": "stream",
          "name": "stdout",
          "text": [
            "['WHY', 'GENERAL', 'SUCH', 'ENGINEERS', 'MISSOURI', 'COMMENDABLE', 'LOVE', 'PORTS', 'ORDER', 'FAREWELL']\n"
          ]
        }
      ]
    },
    {
      "cell_type": "code",
      "source": [
        "#text4에서 알파벳인 단어 중, 길이가 4 이상이고, 빈도수가 5 이상인 단어의 길이 반환\n",
        "fdist = nltk.FreqDist(text4)\n",
        "a = [len(word) for word in text4 if word.isalpha() and len(word) >= 4 and fdist[word] >= 5]\n",
        "print(a[:10])"
      ],
      "metadata": {
        "colab": {
          "base_uri": "https://localhost:8080/"
        },
        "id": "2V5SGdWwOEqb",
        "outputId": "2420d807-5f12-45db-8eb1-fa7b2b65a4c7"
      },
      "execution_count": 13,
      "outputs": [
        {
          "output_type": "stream",
          "name": "stdout",
          "text": [
            "[6, 8, 6, 5, 15, 12, 8, 4, 5, 5]\n"
          ]
        }
      ]
    },
    {
      "cell_type": "code",
      "source": [
        "b = [len(word) for (word, count) in fdist.items() if word.isalpha() and len(word) >= 4 and count >= 5] #fdist로 바로 접근(fdist는 딕셔너리)\n",
        "print(b[:10])"
      ],
      "metadata": {
        "colab": {
          "base_uri": "https://localhost:8080/"
        },
        "id": "_UhGrJfqRJ8i",
        "outputId": "9e0f1709-0b3c-4a26-c146-b2f4781442ce"
      },
      "execution_count": 16,
      "outputs": [
        {
          "output_type": "stream",
          "name": "stdout",
          "text": [
            "[6, 8, 6, 5, 15, 12, 8, 4, 5, 5]\n"
          ]
        }
      ]
    },
    {
      "cell_type": "markdown",
      "source": [
        "###리스트, 스트링\n",
        "- str.split(sep): str -> list\n",
        "- sep.join(list): list -> str"
      ],
      "metadata": {
        "id": "QJoB5pa9Ubyc"
      }
    },
    {
      "cell_type": "code",
      "source": [
        "sent = 'I, am, thirsty'\n",
        "tokens = sent.split(',')\n",
        "print(tokens)\n",
        "\n",
        "#a에서 공백 없애기(리스트에서 변형된 리스트 만들기)\n",
        "[word.strip() for word in tokens]"
      ],
      "metadata": {
        "colab": {
          "base_uri": "https://localhost:8080/"
        },
        "id": "dxEimdj9TR6o",
        "outputId": "00f4babf-9f25-4740-d1b8-38ec2a3a4ee0"
      },
      "execution_count": 20,
      "outputs": [
        {
          "output_type": "stream",
          "name": "stdout",
          "text": [
            "['I', ' am', ' thirsty']\n"
          ]
        },
        {
          "output_type": "execute_result",
          "data": {
            "text/plain": [
              "['I', 'am', 'thirsty']"
            ]
          },
          "metadata": {},
          "execution_count": 20
        }
      ]
    },
    {
      "cell_type": "code",
      "source": [
        "print(''.join(tokens))\n",
        "print('-'.join(tokens))    #앞에 어떤 자료형이 오는지 기억하기"
      ],
      "metadata": {
        "colab": {
          "base_uri": "https://localhost:8080/"
        },
        "id": "tGL1wRm_U0nE",
        "outputId": "9fbf6c84-243b-4052-b689-56f245c228cf"
      },
      "execution_count": 24,
      "outputs": [
        {
          "output_type": "stream",
          "name": "stdout",
          "text": [
            "I am thirsty\n",
            "I- am- thirsty\n"
          ]
        }
      ]
    },
    {
      "cell_type": "markdown",
      "source": [
        "### 반복문\n",
        "- [word for word in text]\n",
        "- 자료구조를 순회할 때 사용함\n",
        "- 정해진 동작을 반복적으로 수행할 때 내리는 명령어\n",
        "- 시작조건, 종료조건, 수행명령으로 구성됨\n",
        "- for 요소 in 반복범위:\n",
        "    수행명령\n",
        "- for, while\n",
        "- 들여쓰기, 블록 -> 논리구조\n",
        "- 무한루프가 되지 않도록 주의\n"
      ],
      "metadata": {
        "id": "8hcvSffwWy0u"
      }
    },
    {
      "cell_type": "code",
      "source": [
        "import nltk\n",
        "nltk.download('book', quiet = True)\n",
        "from nltk import book"
      ],
      "metadata": {
        "id": "R81dejaLXqp7"
      },
      "execution_count": 28,
      "outputs": []
    },
    {
      "cell_type": "code",
      "source": [
        "import nltk\n",
        "from nltk.book import *\n",
        "nltk.download('book', quiet=True)"
      ],
      "metadata": {
        "colab": {
          "base_uri": "https://localhost:8080/"
        },
        "id": "ECQ7XP_eWIuT",
        "outputId": "fe113970-c2c6-4ef2-9926-a83fb6c6ace5"
      },
      "execution_count": 32,
      "outputs": [
        {
          "output_type": "execute_result",
          "data": {
            "text/plain": [
              "True"
            ]
          },
          "metadata": {},
          "execution_count": 32
        }
      ]
    },
    {
      "cell_type": "code",
      "source": [
        "#[word for word in text1]\n",
        "for word in text1[:10]:\n",
        "  print(word)   #print만 한 것"
      ],
      "metadata": {
        "colab": {
          "base_uri": "https://localhost:8080/"
        },
        "id": "Vh9-afrkX3VX",
        "outputId": "befd289e-b951-4c72-c728-86ed928dde06"
      },
      "execution_count": 33,
      "outputs": [
        {
          "output_type": "stream",
          "name": "stdout",
          "text": [
            "[\n",
            "Moby\n",
            "Dick\n",
            "by\n",
            "Herman\n",
            "Melville\n",
            "1851\n",
            "]\n",
            "ETYMOLOGY\n",
            ".\n"
          ]
        }
      ]
    },
    {
      "cell_type": "code",
      "source": [
        "[word for word in text1[:10]]   #위의 것을 리스트에 담아서 반환"
      ],
      "metadata": {
        "colab": {
          "base_uri": "https://localhost:8080/"
        },
        "id": "etOPMY2OYjvc",
        "outputId": "c53f458e-c639-4a3e-e9f6-edb1d166a365"
      },
      "execution_count": 37,
      "outputs": [
        {
          "output_type": "execute_result",
          "data": {
            "text/plain": [
              "['[',\n",
              " 'Moby',\n",
              " 'Dick',\n",
              " 'by',\n",
              " 'Herman',\n",
              " 'Melville',\n",
              " '1851',\n",
              " ']',\n",
              " 'ETYMOLOGY',\n",
              " '.']"
            ]
          },
          "metadata": {},
          "execution_count": 37
        }
      ]
    },
    {
      "cell_type": "code",
      "source": [
        "#숫자 반복: range(start, end, step)\n",
        "for i in range(4, 10, 2):\n",
        "  print(i)"
      ],
      "metadata": {
        "colab": {
          "base_uri": "https://localhost:8080/"
        },
        "id": "4rs_PqJAYqjq",
        "outputId": "937d689f-8f10-4ee5-af37-883275ace2f9"
      },
      "execution_count": 40,
      "outputs": [
        {
          "output_type": "stream",
          "name": "stdout",
          "text": [
            "4\n",
            "6\n",
            "8\n"
          ]
        }
      ]
    },
    {
      "cell_type": "code",
      "source": [
        "#text1-9 각 텍스트의 단어 수 반환\n",
        "texts = [text1, text2, text3, text4, text5, text6, text7, text8, text9]\n",
        "for i in texts:\n",
        "  print(len(i))"
      ],
      "metadata": {
        "colab": {
          "base_uri": "https://localhost:8080/"
        },
        "id": "pBFOcRg0ZbDc",
        "outputId": "6a5ebc75-068a-4515-d689-74cab5119063"
      },
      "execution_count": 41,
      "outputs": [
        {
          "output_type": "stream",
          "name": "stdout",
          "text": [
            "260819\n",
            "141576\n",
            "44764\n",
            "152901\n",
            "45010\n",
            "16967\n",
            "100676\n",
            "4867\n",
            "69213\n"
          ]
        }
      ]
    },
    {
      "cell_type": "markdown",
      "source": [
        "### 출력 포매팅\n",
        "- 1. f'str...{var}'\n",
        "  - f, F 둘 다 가능\n",
        "- 2. %\n",
        "  - 'str...%s' %var\n",
        "- 3. 'str...{}'.format()"
      ],
      "metadata": {
        "id": "msBKtntfbVS4"
      }
    },
    {
      "cell_type": "code",
      "source": [
        "name = 'lee'\n",
        "age = 20\n",
        "print('my name is {1}, and I am {0} years old.'.format(age, name)) #{}안에 default는 순서대로\n",
        "print(f'my name is {name}, and I am {age} years old.')"
      ],
      "metadata": {
        "colab": {
          "base_uri": "https://localhost:8080/"
        },
        "id": "rlsAj033bGY3",
        "outputId": "a18450a0-1090-4e41-b134-1b843a648192"
      },
      "execution_count": 44,
      "outputs": [
        {
          "output_type": "stream",
          "name": "stdout",
          "text": [
            "my name is lee, and I am 20 years old.\n",
            "my name is lee, and I am 20 years old.\n"
          ]
        }
      ]
    },
    {
      "cell_type": "code",
      "source": [
        "a = 0.123456789\n",
        "print('%.3f' %a)\n",
        "print('{:.3}'.format(a))\n",
        "print('{:.2}'.format(name))     #string도 자를 수 있음"
      ],
      "metadata": {
        "colab": {
          "base_uri": "https://localhost:8080/"
        },
        "id": "mBBEU04fcjzq",
        "outputId": "9be9a5ef-7f5f-495a-f37b-968001edb06b"
      },
      "execution_count": 48,
      "outputs": [
        {
          "output_type": "stream",
          "name": "stdout",
          "text": [
            "0.123\n",
            "0.123\n",
            "le\n"
          ]
        }
      ]
    }
  ]
}